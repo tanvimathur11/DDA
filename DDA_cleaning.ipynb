{
 "cells": [
  {
   "cell_type": "code",
   "execution_count": 2546,
   "metadata": {
    "id": "o4hiN2edAc6P"
   },
   "outputs": [
    {
     "name": "stdout",
     "output_type": "stream",
     "text": [
      "unzip:  cannot find or open Train_Dataset.zip, Train_Dataset.zip.zip or Train_Dataset.zip.ZIP.\r\n"
     ]
    }
   ],
   "source": [
    "!unzip Train_Dataset.zip"
   ]
  },
  {
   "cell_type": "code",
   "execution_count": 2547,
   "metadata": {},
   "outputs": [
    {
     "name": "stdout",
     "output_type": "stream",
     "text": [
      "rm: Train_Dataset.zip: No such file or directory\r\n"
     ]
    }
   ],
   "source": [
    "!rm Train_Dataset.zip"
   ]
  },
  {
   "cell_type": "code",
   "execution_count": 2548,
   "metadata": {},
   "outputs": [],
   "source": [
    "#importing neccesary libraries\n",
    "import numpy as np\n",
    "import pandas as pd\n",
    "import matplotlib.pyplot as plt\n",
    "%matplotlib inline\n",
    "import seaborn as sns\n",
    "\n",
    "from sklearn.model_selection import train_test_split, RepeatedStratifiedKFold, cross_val_score\n",
    "from sklearn.linear_model import LogisticRegression\n",
    "from sklearn.metrics import roc_curve, roc_auc_score, confusion_matrix, precision_recall_curve, auc\n",
    "from sklearn.feature_selection import f_classif\n",
    "from sklearn.pipeline import Pipeline\n",
    "from sklearn.base import BaseEstimator, TransformerMixin\n",
    "from scipy.stats import chi2_contingency\n",
    "from sklearn.impute import SimpleImputer"
   ]
  },
  {
   "cell_type": "code",
   "execution_count": 2549,
   "metadata": {
    "id": "5jGkPzIaA2aR"
   },
   "outputs": [
    {
     "data": {
      "text/plain": [
       "ID                           object\n",
       "Customer_ID                  object\n",
       "Month                        object\n",
       "Name                         object\n",
       "Age                          object\n",
       "SSN                          object\n",
       "Occupation                   object\n",
       "Annual_Income                object\n",
       "Monthly_Inhand_Salary       float64\n",
       "Num_Bank_Accounts             int64\n",
       "Num_Credit_Card               int64\n",
       "Interest_Rate                 int64\n",
       "Num_of_Loan                  object\n",
       "Type_of_Loan                 object\n",
       "Delay_from_due_date           int64\n",
       "Num_of_Delayed_Payment       object\n",
       "Changed_Credit_Limit         object\n",
       "Num_Credit_Inquiries        float64\n",
       "Credit_Mix                   object\n",
       "Outstanding_Debt             object\n",
       "Credit_Utilization_Ratio    float64\n",
       "Credit_History_Age           object\n",
       "Payment_of_Min_Amount        object\n",
       "Total_EMI_per_month         float64\n",
       "Amount_invested_monthly      object\n",
       "Payment_Behaviour            object\n",
       "Monthly_Balance              object\n",
       "Credit_Score                 object\n",
       "dtype: object"
      ]
     },
     "execution_count": 2549,
     "metadata": {},
     "output_type": "execute_result"
    }
   ],
   "source": [
    "dataset = pd.read_csv('train.csv',low_memory=False)\n",
    "dataset.dtypes"
   ]
  },
  {
   "cell_type": "code",
   "execution_count": 2550,
   "metadata": {
    "id": "Cf_5fvcfF1P7"
   },
   "outputs": [],
   "source": [
    "\n",
    "#dropping features which are not useful for determining the credit score\n",
    "final_dataset = dataset.drop([\"Amount_invested_monthly\", \"SSN\", \"Name\", \"Month\", \"Age\", \"Num_Bank_Accounts\", \"Num_Credit_Card\", \"Interest_Rate\", \"Type_of_Loan\", \"Changed_Credit_Limit\", \"Num_Credit_Inquiries\", \"Credit_Mix\", \"Credit_Utilization_Ratio\"], axis=1)"
   ]
  },
  {
   "cell_type": "code",
   "execution_count": null,
   "metadata": {},
   "outputs": [],
   "source": []
  },
  {
   "cell_type": "code",
   "execution_count": 2551,
   "metadata": {
    "id": "Fgx3m0VSGN14"
   },
   "outputs": [],
   "source": [
    "dataset.to_csv('final_dataset.csv', index=False)"
   ]
  },
  {
   "cell_type": "code",
   "execution_count": 2552,
   "metadata": {
    "id": "nN9m4HlBD71J"
   },
   "outputs": [],
   "source": [
    "final_dataset = pd.read_csv('final_dataset.csv', low_memory=False)\n",
    "x = dataset.iloc[:,:-1].values\n",
    "y = dataset.iloc[:,-1].values"
   ]
  },
  {
   "cell_type": "code",
   "execution_count": 2553,
   "metadata": {},
   "outputs": [
    {
     "data": {
      "text/html": [
       "<div>\n",
       "<style scoped>\n",
       "    .dataframe tbody tr th:only-of-type {\n",
       "        vertical-align: middle;\n",
       "    }\n",
       "\n",
       "    .dataframe tbody tr th {\n",
       "        vertical-align: top;\n",
       "    }\n",
       "\n",
       "    .dataframe thead th {\n",
       "        text-align: right;\n",
       "    }\n",
       "</style>\n",
       "<table border=\"1\" class=\"dataframe\">\n",
       "  <thead>\n",
       "    <tr style=\"text-align: right;\">\n",
       "      <th></th>\n",
       "      <th>ID</th>\n",
       "      <th>Customer_ID</th>\n",
       "      <th>Month</th>\n",
       "      <th>Name</th>\n",
       "      <th>Age</th>\n",
       "      <th>SSN</th>\n",
       "      <th>Occupation</th>\n",
       "      <th>Annual_Income</th>\n",
       "      <th>Monthly_Inhand_Salary</th>\n",
       "      <th>Num_Bank_Accounts</th>\n",
       "      <th>...</th>\n",
       "      <th>Credit_Mix</th>\n",
       "      <th>Outstanding_Debt</th>\n",
       "      <th>Credit_Utilization_Ratio</th>\n",
       "      <th>Credit_History_Age</th>\n",
       "      <th>Payment_of_Min_Amount</th>\n",
       "      <th>Total_EMI_per_month</th>\n",
       "      <th>Amount_invested_monthly</th>\n",
       "      <th>Payment_Behaviour</th>\n",
       "      <th>Monthly_Balance</th>\n",
       "      <th>Credit_Score</th>\n",
       "    </tr>\n",
       "  </thead>\n",
       "  <tbody>\n",
       "    <tr>\n",
       "      <th>0</th>\n",
       "      <td>0x1602</td>\n",
       "      <td>CUS_0xd40</td>\n",
       "      <td>January</td>\n",
       "      <td>Aaron Maashoh</td>\n",
       "      <td>23</td>\n",
       "      <td>821-00-0265</td>\n",
       "      <td>Scientist</td>\n",
       "      <td>19114.12</td>\n",
       "      <td>1824.843333</td>\n",
       "      <td>3</td>\n",
       "      <td>...</td>\n",
       "      <td>_</td>\n",
       "      <td>809.98</td>\n",
       "      <td>26.822620</td>\n",
       "      <td>22 Years and 1 Months</td>\n",
       "      <td>No</td>\n",
       "      <td>49.574949</td>\n",
       "      <td>80.41529543900253</td>\n",
       "      <td>High_spent_Small_value_payments</td>\n",
       "      <td>312.49408867943663</td>\n",
       "      <td>Good</td>\n",
       "    </tr>\n",
       "    <tr>\n",
       "      <th>1</th>\n",
       "      <td>0x1603</td>\n",
       "      <td>CUS_0xd40</td>\n",
       "      <td>February</td>\n",
       "      <td>Aaron Maashoh</td>\n",
       "      <td>23</td>\n",
       "      <td>821-00-0265</td>\n",
       "      <td>Scientist</td>\n",
       "      <td>19114.12</td>\n",
       "      <td>NaN</td>\n",
       "      <td>3</td>\n",
       "      <td>...</td>\n",
       "      <td>Good</td>\n",
       "      <td>809.98</td>\n",
       "      <td>31.944960</td>\n",
       "      <td>NaN</td>\n",
       "      <td>No</td>\n",
       "      <td>49.574949</td>\n",
       "      <td>118.28022162236736</td>\n",
       "      <td>Low_spent_Large_value_payments</td>\n",
       "      <td>284.62916249607184</td>\n",
       "      <td>Good</td>\n",
       "    </tr>\n",
       "    <tr>\n",
       "      <th>2</th>\n",
       "      <td>0x1604</td>\n",
       "      <td>CUS_0xd40</td>\n",
       "      <td>March</td>\n",
       "      <td>Aaron Maashoh</td>\n",
       "      <td>-500</td>\n",
       "      <td>821-00-0265</td>\n",
       "      <td>Scientist</td>\n",
       "      <td>19114.12</td>\n",
       "      <td>NaN</td>\n",
       "      <td>3</td>\n",
       "      <td>...</td>\n",
       "      <td>Good</td>\n",
       "      <td>809.98</td>\n",
       "      <td>28.609352</td>\n",
       "      <td>22 Years and 3 Months</td>\n",
       "      <td>No</td>\n",
       "      <td>49.574949</td>\n",
       "      <td>81.699521264648</td>\n",
       "      <td>Low_spent_Medium_value_payments</td>\n",
       "      <td>331.2098628537912</td>\n",
       "      <td>Good</td>\n",
       "    </tr>\n",
       "    <tr>\n",
       "      <th>3</th>\n",
       "      <td>0x1605</td>\n",
       "      <td>CUS_0xd40</td>\n",
       "      <td>April</td>\n",
       "      <td>Aaron Maashoh</td>\n",
       "      <td>23</td>\n",
       "      <td>821-00-0265</td>\n",
       "      <td>Scientist</td>\n",
       "      <td>19114.12</td>\n",
       "      <td>NaN</td>\n",
       "      <td>3</td>\n",
       "      <td>...</td>\n",
       "      <td>Good</td>\n",
       "      <td>809.98</td>\n",
       "      <td>31.377862</td>\n",
       "      <td>22 Years and 4 Months</td>\n",
       "      <td>No</td>\n",
       "      <td>49.574949</td>\n",
       "      <td>199.4580743910713</td>\n",
       "      <td>Low_spent_Small_value_payments</td>\n",
       "      <td>223.45130972736786</td>\n",
       "      <td>Good</td>\n",
       "    </tr>\n",
       "    <tr>\n",
       "      <th>4</th>\n",
       "      <td>0x1606</td>\n",
       "      <td>CUS_0xd40</td>\n",
       "      <td>May</td>\n",
       "      <td>Aaron Maashoh</td>\n",
       "      <td>23</td>\n",
       "      <td>821-00-0265</td>\n",
       "      <td>Scientist</td>\n",
       "      <td>19114.12</td>\n",
       "      <td>1824.843333</td>\n",
       "      <td>3</td>\n",
       "      <td>...</td>\n",
       "      <td>Good</td>\n",
       "      <td>809.98</td>\n",
       "      <td>24.797347</td>\n",
       "      <td>22 Years and 5 Months</td>\n",
       "      <td>No</td>\n",
       "      <td>49.574949</td>\n",
       "      <td>41.420153086217326</td>\n",
       "      <td>High_spent_Medium_value_payments</td>\n",
       "      <td>341.48923103222177</td>\n",
       "      <td>Good</td>\n",
       "    </tr>\n",
       "  </tbody>\n",
       "</table>\n",
       "<p>5 rows × 28 columns</p>\n",
       "</div>"
      ],
      "text/plain": [
       "       ID Customer_ID     Month           Name   Age          SSN Occupation  \\\n",
       "0  0x1602   CUS_0xd40   January  Aaron Maashoh    23  821-00-0265  Scientist   \n",
       "1  0x1603   CUS_0xd40  February  Aaron Maashoh    23  821-00-0265  Scientist   \n",
       "2  0x1604   CUS_0xd40     March  Aaron Maashoh  -500  821-00-0265  Scientist   \n",
       "3  0x1605   CUS_0xd40     April  Aaron Maashoh    23  821-00-0265  Scientist   \n",
       "4  0x1606   CUS_0xd40       May  Aaron Maashoh    23  821-00-0265  Scientist   \n",
       "\n",
       "  Annual_Income  Monthly_Inhand_Salary  Num_Bank_Accounts  ...  Credit_Mix  \\\n",
       "0      19114.12            1824.843333                  3  ...           _   \n",
       "1      19114.12                    NaN                  3  ...        Good   \n",
       "2      19114.12                    NaN                  3  ...        Good   \n",
       "3      19114.12                    NaN                  3  ...        Good   \n",
       "4      19114.12            1824.843333                  3  ...        Good   \n",
       "\n",
       "   Outstanding_Debt Credit_Utilization_Ratio     Credit_History_Age  \\\n",
       "0            809.98                26.822620  22 Years and 1 Months   \n",
       "1            809.98                31.944960                    NaN   \n",
       "2            809.98                28.609352  22 Years and 3 Months   \n",
       "3            809.98                31.377862  22 Years and 4 Months   \n",
       "4            809.98                24.797347  22 Years and 5 Months   \n",
       "\n",
       "   Payment_of_Min_Amount Total_EMI_per_month Amount_invested_monthly  \\\n",
       "0                     No           49.574949       80.41529543900253   \n",
       "1                     No           49.574949      118.28022162236736   \n",
       "2                     No           49.574949         81.699521264648   \n",
       "3                     No           49.574949       199.4580743910713   \n",
       "4                     No           49.574949      41.420153086217326   \n",
       "\n",
       "                  Payment_Behaviour     Monthly_Balance Credit_Score  \n",
       "0   High_spent_Small_value_payments  312.49408867943663         Good  \n",
       "1    Low_spent_Large_value_payments  284.62916249607184         Good  \n",
       "2   Low_spent_Medium_value_payments   331.2098628537912         Good  \n",
       "3    Low_spent_Small_value_payments  223.45130972736786         Good  \n",
       "4  High_spent_Medium_value_payments  341.48923103222177         Good  \n",
       "\n",
       "[5 rows x 28 columns]"
      ]
     },
     "execution_count": 2553,
     "metadata": {},
     "output_type": "execute_result"
    }
   ],
   "source": [
    "final_dataset.head()"
   ]
  },
  {
   "cell_type": "code",
   "execution_count": 2554,
   "metadata": {
    "colab": {
     "base_uri": "https://localhost:8080/"
    },
    "id": "CkH7iY-UEACo",
    "outputId": "52f1d62c-3528-406d-f6f1-7646e294da24"
   },
   "outputs": [
    {
     "data": {
      "text/plain": [
       "(100000, 28)"
      ]
     },
     "execution_count": 2554,
     "metadata": {},
     "output_type": "execute_result"
    }
   ],
   "source": [
    "final_dataset.shape"
   ]
  },
  {
   "cell_type": "markdown",
   "metadata": {
    "id": "7dNFJngRX7CE"
   },
   "source": [
    "Cleaning errors and fixing variables"
   ]
  },
  {
   "cell_type": "code",
   "execution_count": 2555,
   "metadata": {
    "colab": {
     "base_uri": "https://localhost:8080/"
    },
    "id": "2Euj6388YCpY",
    "outputId": "a6d5ec4f-a21c-4611-b24c-1448bf8cdcb2"
   },
   "outputs": [
    {
     "name": "stdout",
     "output_type": "stream",
     "text": [
      "<class 'pandas.core.frame.DataFrame'>\n",
      "RangeIndex: 100000 entries, 0 to 99999\n",
      "Data columns (total 28 columns):\n",
      " #   Column                    Non-Null Count   Dtype  \n",
      "---  ------                    --------------   -----  \n",
      " 0   ID                        100000 non-null  object \n",
      " 1   Customer_ID               100000 non-null  object \n",
      " 2   Month                     100000 non-null  object \n",
      " 3   Name                      90015 non-null   object \n",
      " 4   Age                       100000 non-null  object \n",
      " 5   SSN                       100000 non-null  object \n",
      " 6   Occupation                100000 non-null  object \n",
      " 7   Annual_Income             100000 non-null  object \n",
      " 8   Monthly_Inhand_Salary     84998 non-null   float64\n",
      " 9   Num_Bank_Accounts         100000 non-null  int64  \n",
      " 10  Num_Credit_Card           100000 non-null  int64  \n",
      " 11  Interest_Rate             100000 non-null  int64  \n",
      " 12  Num_of_Loan               100000 non-null  object \n",
      " 13  Type_of_Loan              88592 non-null   object \n",
      " 14  Delay_from_due_date       100000 non-null  int64  \n",
      " 15  Num_of_Delayed_Payment    92998 non-null   object \n",
      " 16  Changed_Credit_Limit      100000 non-null  object \n",
      " 17  Num_Credit_Inquiries      98035 non-null   float64\n",
      " 18  Credit_Mix                100000 non-null  object \n",
      " 19  Outstanding_Debt          100000 non-null  object \n",
      " 20  Credit_Utilization_Ratio  100000 non-null  float64\n",
      " 21  Credit_History_Age        90970 non-null   object \n",
      " 22  Payment_of_Min_Amount     100000 non-null  object \n",
      " 23  Total_EMI_per_month       100000 non-null  float64\n",
      " 24  Amount_invested_monthly   95521 non-null   object \n",
      " 25  Payment_Behaviour         100000 non-null  object \n",
      " 26  Monthly_Balance           98800 non-null   object \n",
      " 27  Credit_Score              100000 non-null  object \n",
      "dtypes: float64(4), int64(4), object(20)\n",
      "memory usage: 21.4+ MB\n"
     ]
    }
   ],
   "source": [
    "final_dataset.info()"
   ]
  },
  {
   "cell_type": "markdown",
   "metadata": {
    "id": "-W10ebACbNLj"
   },
   "source": [
    "Deal with the missing values of Monthly_Inhand_Salary columns"
   ]
  },
  {
   "cell_type": "code",
   "execution_count": 2556,
   "metadata": {
    "id": "8UhB7cE7tHgI"
   },
   "outputs": [],
   "source": [
    "# Convert the Customer_ID column to a factor\n",
    "final_dataset['Customer_ID'] = final_dataset['Customer_ID'].astype('category')\n",
    "\n",
    "# Calculate the median Inhand Salary by customer using groupby and summarize\n",
    "median_Inhand_salary_by_customer = final_dataset.groupby('Customer_ID').agg(median_salary=('Monthly_Inhand_Salary', 'median'))\n",
    "\n",
    "# Join the median salary column to the dataset\n",
    "final_dataset = pd.merge(final_dataset, median_Inhand_salary_by_customer, on='Customer_ID', how='left')\n",
    "\n",
    "# Replace missing values in Monthly Inhand Salary column with median salary\n",
    "final_dataset['Monthly_Inhand_Salary'].fillna(final_dataset['median_salary'], inplace=True)\n",
    "\n",
    "# Drop the median salary column\n",
    "final_dataset.drop('median_salary', axis=1, inplace=True)\n"
   ]
  },
  {
   "cell_type": "code",
   "execution_count": 2557,
   "metadata": {
    "colab": {
     "base_uri": "https://localhost:8080/"
    },
    "id": "PGq3ebiFb2aO",
    "outputId": "7adafebf-6134-42cf-99ee-10fddec35987"
   },
   "outputs": [
    {
     "name": "stdout",
     "output_type": "stream",
     "text": [
      "<class 'pandas.core.frame.DataFrame'>\n",
      "Int64Index: 100000 entries, 0 to 99999\n",
      "Data columns (total 28 columns):\n",
      " #   Column                    Non-Null Count   Dtype   \n",
      "---  ------                    --------------   -----   \n",
      " 0   ID                        100000 non-null  object  \n",
      " 1   Customer_ID               100000 non-null  category\n",
      " 2   Month                     100000 non-null  object  \n",
      " 3   Name                      90015 non-null   object  \n",
      " 4   Age                       100000 non-null  object  \n",
      " 5   SSN                       100000 non-null  object  \n",
      " 6   Occupation                100000 non-null  object  \n",
      " 7   Annual_Income             100000 non-null  object  \n",
      " 8   Monthly_Inhand_Salary     100000 non-null  float64 \n",
      " 9   Num_Bank_Accounts         100000 non-null  int64   \n",
      " 10  Num_Credit_Card           100000 non-null  int64   \n",
      " 11  Interest_Rate             100000 non-null  int64   \n",
      " 12  Num_of_Loan               100000 non-null  object  \n",
      " 13  Type_of_Loan              88592 non-null   object  \n",
      " 14  Delay_from_due_date       100000 non-null  int64   \n",
      " 15  Num_of_Delayed_Payment    92998 non-null   object  \n",
      " 16  Changed_Credit_Limit      100000 non-null  object  \n",
      " 17  Num_Credit_Inquiries      98035 non-null   float64 \n",
      " 18  Credit_Mix                100000 non-null  object  \n",
      " 19  Outstanding_Debt          100000 non-null  object  \n",
      " 20  Credit_Utilization_Ratio  100000 non-null  float64 \n",
      " 21  Credit_History_Age        90970 non-null   object  \n",
      " 22  Payment_of_Min_Amount     100000 non-null  object  \n",
      " 23  Total_EMI_per_month       100000 non-null  float64 \n",
      " 24  Amount_invested_monthly   95521 non-null   object  \n",
      " 25  Payment_Behaviour         100000 non-null  object  \n",
      " 26  Monthly_Balance           98800 non-null   object  \n",
      " 27  Credit_Score              100000 non-null  object  \n",
      "dtypes: category(1), float64(4), int64(4), object(19)\n",
      "memory usage: 21.9+ MB\n"
     ]
    }
   ],
   "source": [
    "final_dataset.info()"
   ]
  },
  {
   "cell_type": "markdown",
   "metadata": {
    "id": "zXL06H1-cENL"
   },
   "source": [
    "Deal with the missing values and '_' of Num_of_Delayed_Payment "
   ]
  },
  {
   "cell_type": "code",
   "execution_count": 2558,
   "metadata": {
    "id": "vSxNo3K3wveS"
   },
   "outputs": [],
   "source": [
    "# replace the '_' with ''\n",
    "final_dataset['Num_of_Delayed_Payment'] = final_dataset['Num_of_Delayed_Payment'].replace('_', '', regex=True)\n",
    "\n",
    "# convert to numeric\n",
    "final_dataset['Num_of_Delayed_Payment'] = final_dataset['Num_of_Delayed_Payment'].astype(float)"
   ]
  },
  {
   "cell_type": "code",
   "execution_count": 2559,
   "metadata": {
    "id": "P3WwXscB1QkU"
   },
   "outputs": [],
   "source": [
    "# Calculate the median delayed payments by customer using groupby and summarize\n",
    "median_delayed_by_customer = final_dataset.groupby('Customer_ID').agg(median_delayed=('Num_of_Delayed_Payment', 'median'))\n",
    "\n",
    "# Join the median delayed payments column to the dataset\n",
    "final_dataset = pd.merge(final_dataset, median_delayed_by_customer, on='Customer_ID', how='left')\n",
    "\n",
    "# Replace missing values in Num of Delayed Payment column with median delayed payments\n",
    "final_dataset['Num_of_Delayed_Payment'].fillna(final_dataset['median_delayed'], inplace=True)\n",
    "\n",
    "\n",
    "# Drop the median delayed payments column\n",
    "final_dataset.drop('median_delayed', axis=1, inplace=True)"
   ]
  },
  {
   "cell_type": "code",
   "execution_count": 2560,
   "metadata": {
    "colab": {
     "base_uri": "https://localhost:8080/"
    },
    "id": "ijfKVK6MdB0i",
    "outputId": "34f36f4d-29e4-4b27-8d6b-d0be4d206537"
   },
   "outputs": [
    {
     "name": "stdout",
     "output_type": "stream",
     "text": [
      "<class 'pandas.core.frame.DataFrame'>\n",
      "Int64Index: 100000 entries, 0 to 99999\n",
      "Data columns (total 28 columns):\n",
      " #   Column                    Non-Null Count   Dtype   \n",
      "---  ------                    --------------   -----   \n",
      " 0   ID                        100000 non-null  object  \n",
      " 1   Customer_ID               100000 non-null  category\n",
      " 2   Month                     100000 non-null  object  \n",
      " 3   Name                      90015 non-null   object  \n",
      " 4   Age                       100000 non-null  object  \n",
      " 5   SSN                       100000 non-null  object  \n",
      " 6   Occupation                100000 non-null  object  \n",
      " 7   Annual_Income             100000 non-null  object  \n",
      " 8   Monthly_Inhand_Salary     100000 non-null  float64 \n",
      " 9   Num_Bank_Accounts         100000 non-null  int64   \n",
      " 10  Num_Credit_Card           100000 non-null  int64   \n",
      " 11  Interest_Rate             100000 non-null  int64   \n",
      " 12  Num_of_Loan               100000 non-null  object  \n",
      " 13  Type_of_Loan              88592 non-null   object  \n",
      " 14  Delay_from_due_date       100000 non-null  int64   \n",
      " 15  Num_of_Delayed_Payment    100000 non-null  float64 \n",
      " 16  Changed_Credit_Limit      100000 non-null  object  \n",
      " 17  Num_Credit_Inquiries      98035 non-null   float64 \n",
      " 18  Credit_Mix                100000 non-null  object  \n",
      " 19  Outstanding_Debt          100000 non-null  object  \n",
      " 20  Credit_Utilization_Ratio  100000 non-null  float64 \n",
      " 21  Credit_History_Age        90970 non-null   object  \n",
      " 22  Payment_of_Min_Amount     100000 non-null  object  \n",
      " 23  Total_EMI_per_month       100000 non-null  float64 \n",
      " 24  Amount_invested_monthly   95521 non-null   object  \n",
      " 25  Payment_Behaviour         100000 non-null  object  \n",
      " 26  Monthly_Balance           98800 non-null   object  \n",
      " 27  Credit_Score              100000 non-null  object  \n",
      "dtypes: category(1), float64(5), int64(4), object(18)\n",
      "memory usage: 21.9+ MB\n"
     ]
    }
   ],
   "source": [
    "final_dataset.info()"
   ]
  },
  {
   "cell_type": "markdown",
   "metadata": {
    "id": "Q4QfJF-Ge-Hn"
   },
   "source": [
    "Deal with the missing values and '_' of Monthly_Balance"
   ]
  },
  {
   "cell_type": "code",
   "execution_count": 2561,
   "metadata": {
    "id": "BnX0T--tfHzw"
   },
   "outputs": [],
   "source": [
    "# replace the '_' with ''\n",
    "final_dataset['Monthly_Balance'] = final_dataset['Monthly_Balance'].replace('_', '', regex=True)\n",
    "# convert to numeric\n",
    "final_dataset['Monthly_Balance'] = final_dataset['Monthly_Balance'].astype(float)"
   ]
  },
  {
   "cell_type": "code",
   "execution_count": 2562,
   "metadata": {
    "id": "KmdsW3sXga_M"
   },
   "outputs": [],
   "source": [
    "# Calculate the median delayed payments by customer using groupby and summarize\n",
    "median_Monthly_Balance_customer = final_dataset.groupby('Customer_ID').agg(median_Monthly_Balance=('Monthly_Balance', 'median'))\n",
    "\n",
    "# Join the median delayed payments column to the dataset\n",
    "final_dataset = pd.merge(final_dataset, median_Monthly_Balance_customer, on='Customer_ID', how='left')\n",
    "\n",
    "# Replace missing values in Num of Delayed Payment column with median delayed payments\n",
    "final_dataset['Monthly_Balance'].fillna(final_dataset['median_Monthly_Balance'], inplace=True)\n",
    "\n",
    "# Drop the median delayed payments column\n",
    "final_dataset.drop('median_Monthly_Balance', axis=1, inplace=True)"
   ]
  },
  {
   "cell_type": "code",
   "execution_count": 2563,
   "metadata": {},
   "outputs": [
    {
     "data": {
      "text/html": [
       "<div>\n",
       "<style scoped>\n",
       "    .dataframe tbody tr th:only-of-type {\n",
       "        vertical-align: middle;\n",
       "    }\n",
       "\n",
       "    .dataframe tbody tr th {\n",
       "        vertical-align: top;\n",
       "    }\n",
       "\n",
       "    .dataframe thead th {\n",
       "        text-align: right;\n",
       "    }\n",
       "</style>\n",
       "<table border=\"1\" class=\"dataframe\">\n",
       "  <thead>\n",
       "    <tr style=\"text-align: right;\">\n",
       "      <th></th>\n",
       "      <th>ID</th>\n",
       "      <th>Customer_ID</th>\n",
       "      <th>Month</th>\n",
       "      <th>Name</th>\n",
       "      <th>Age</th>\n",
       "      <th>SSN</th>\n",
       "      <th>Occupation</th>\n",
       "      <th>Annual_Income</th>\n",
       "      <th>Monthly_Inhand_Salary</th>\n",
       "      <th>Num_Bank_Accounts</th>\n",
       "      <th>...</th>\n",
       "      <th>Credit_Mix</th>\n",
       "      <th>Outstanding_Debt</th>\n",
       "      <th>Credit_Utilization_Ratio</th>\n",
       "      <th>Credit_History_Age</th>\n",
       "      <th>Payment_of_Min_Amount</th>\n",
       "      <th>Total_EMI_per_month</th>\n",
       "      <th>Amount_invested_monthly</th>\n",
       "      <th>Payment_Behaviour</th>\n",
       "      <th>Monthly_Balance</th>\n",
       "      <th>Credit_Score</th>\n",
       "    </tr>\n",
       "  </thead>\n",
       "  <tbody>\n",
       "    <tr>\n",
       "      <th>0</th>\n",
       "      <td>0x1602</td>\n",
       "      <td>CUS_0xd40</td>\n",
       "      <td>January</td>\n",
       "      <td>Aaron Maashoh</td>\n",
       "      <td>23</td>\n",
       "      <td>821-00-0265</td>\n",
       "      <td>Scientist</td>\n",
       "      <td>19114.12</td>\n",
       "      <td>1824.843333</td>\n",
       "      <td>3</td>\n",
       "      <td>...</td>\n",
       "      <td>_</td>\n",
       "      <td>809.98</td>\n",
       "      <td>26.822620</td>\n",
       "      <td>22 Years and 1 Months</td>\n",
       "      <td>No</td>\n",
       "      <td>49.574949</td>\n",
       "      <td>80.41529543900253</td>\n",
       "      <td>High_spent_Small_value_payments</td>\n",
       "      <td>312.494089</td>\n",
       "      <td>Good</td>\n",
       "    </tr>\n",
       "    <tr>\n",
       "      <th>1</th>\n",
       "      <td>0x1603</td>\n",
       "      <td>CUS_0xd40</td>\n",
       "      <td>February</td>\n",
       "      <td>Aaron Maashoh</td>\n",
       "      <td>23</td>\n",
       "      <td>821-00-0265</td>\n",
       "      <td>Scientist</td>\n",
       "      <td>19114.12</td>\n",
       "      <td>1824.843333</td>\n",
       "      <td>3</td>\n",
       "      <td>...</td>\n",
       "      <td>Good</td>\n",
       "      <td>809.98</td>\n",
       "      <td>31.944960</td>\n",
       "      <td>NaN</td>\n",
       "      <td>No</td>\n",
       "      <td>49.574949</td>\n",
       "      <td>118.28022162236736</td>\n",
       "      <td>Low_spent_Large_value_payments</td>\n",
       "      <td>284.629162</td>\n",
       "      <td>Good</td>\n",
       "    </tr>\n",
       "    <tr>\n",
       "      <th>2</th>\n",
       "      <td>0x1604</td>\n",
       "      <td>CUS_0xd40</td>\n",
       "      <td>March</td>\n",
       "      <td>Aaron Maashoh</td>\n",
       "      <td>-500</td>\n",
       "      <td>821-00-0265</td>\n",
       "      <td>Scientist</td>\n",
       "      <td>19114.12</td>\n",
       "      <td>1824.843333</td>\n",
       "      <td>3</td>\n",
       "      <td>...</td>\n",
       "      <td>Good</td>\n",
       "      <td>809.98</td>\n",
       "      <td>28.609352</td>\n",
       "      <td>22 Years and 3 Months</td>\n",
       "      <td>No</td>\n",
       "      <td>49.574949</td>\n",
       "      <td>81.699521264648</td>\n",
       "      <td>Low_spent_Medium_value_payments</td>\n",
       "      <td>331.209863</td>\n",
       "      <td>Good</td>\n",
       "    </tr>\n",
       "    <tr>\n",
       "      <th>3</th>\n",
       "      <td>0x1605</td>\n",
       "      <td>CUS_0xd40</td>\n",
       "      <td>April</td>\n",
       "      <td>Aaron Maashoh</td>\n",
       "      <td>23</td>\n",
       "      <td>821-00-0265</td>\n",
       "      <td>Scientist</td>\n",
       "      <td>19114.12</td>\n",
       "      <td>1824.843333</td>\n",
       "      <td>3</td>\n",
       "      <td>...</td>\n",
       "      <td>Good</td>\n",
       "      <td>809.98</td>\n",
       "      <td>31.377862</td>\n",
       "      <td>22 Years and 4 Months</td>\n",
       "      <td>No</td>\n",
       "      <td>49.574949</td>\n",
       "      <td>199.4580743910713</td>\n",
       "      <td>Low_spent_Small_value_payments</td>\n",
       "      <td>223.451310</td>\n",
       "      <td>Good</td>\n",
       "    </tr>\n",
       "    <tr>\n",
       "      <th>4</th>\n",
       "      <td>0x1606</td>\n",
       "      <td>CUS_0xd40</td>\n",
       "      <td>May</td>\n",
       "      <td>Aaron Maashoh</td>\n",
       "      <td>23</td>\n",
       "      <td>821-00-0265</td>\n",
       "      <td>Scientist</td>\n",
       "      <td>19114.12</td>\n",
       "      <td>1824.843333</td>\n",
       "      <td>3</td>\n",
       "      <td>...</td>\n",
       "      <td>Good</td>\n",
       "      <td>809.98</td>\n",
       "      <td>24.797347</td>\n",
       "      <td>22 Years and 5 Months</td>\n",
       "      <td>No</td>\n",
       "      <td>49.574949</td>\n",
       "      <td>41.420153086217326</td>\n",
       "      <td>High_spent_Medium_value_payments</td>\n",
       "      <td>341.489231</td>\n",
       "      <td>Good</td>\n",
       "    </tr>\n",
       "  </tbody>\n",
       "</table>\n",
       "<p>5 rows × 28 columns</p>\n",
       "</div>"
      ],
      "text/plain": [
       "       ID Customer_ID     Month           Name   Age          SSN Occupation  \\\n",
       "0  0x1602   CUS_0xd40   January  Aaron Maashoh    23  821-00-0265  Scientist   \n",
       "1  0x1603   CUS_0xd40  February  Aaron Maashoh    23  821-00-0265  Scientist   \n",
       "2  0x1604   CUS_0xd40     March  Aaron Maashoh  -500  821-00-0265  Scientist   \n",
       "3  0x1605   CUS_0xd40     April  Aaron Maashoh    23  821-00-0265  Scientist   \n",
       "4  0x1606   CUS_0xd40       May  Aaron Maashoh    23  821-00-0265  Scientist   \n",
       "\n",
       "  Annual_Income  Monthly_Inhand_Salary  Num_Bank_Accounts  ...  Credit_Mix  \\\n",
       "0      19114.12            1824.843333                  3  ...           _   \n",
       "1      19114.12            1824.843333                  3  ...        Good   \n",
       "2      19114.12            1824.843333                  3  ...        Good   \n",
       "3      19114.12            1824.843333                  3  ...        Good   \n",
       "4      19114.12            1824.843333                  3  ...        Good   \n",
       "\n",
       "   Outstanding_Debt Credit_Utilization_Ratio     Credit_History_Age  \\\n",
       "0            809.98                26.822620  22 Years and 1 Months   \n",
       "1            809.98                31.944960                    NaN   \n",
       "2            809.98                28.609352  22 Years and 3 Months   \n",
       "3            809.98                31.377862  22 Years and 4 Months   \n",
       "4            809.98                24.797347  22 Years and 5 Months   \n",
       "\n",
       "   Payment_of_Min_Amount  Total_EMI_per_month Amount_invested_monthly  \\\n",
       "0                     No            49.574949       80.41529543900253   \n",
       "1                     No            49.574949      118.28022162236736   \n",
       "2                     No            49.574949         81.699521264648   \n",
       "3                     No            49.574949       199.4580743910713   \n",
       "4                     No            49.574949      41.420153086217326   \n",
       "\n",
       "                  Payment_Behaviour Monthly_Balance Credit_Score  \n",
       "0   High_spent_Small_value_payments      312.494089         Good  \n",
       "1    Low_spent_Large_value_payments      284.629162         Good  \n",
       "2   Low_spent_Medium_value_payments      331.209863         Good  \n",
       "3    Low_spent_Small_value_payments      223.451310         Good  \n",
       "4  High_spent_Medium_value_payments      341.489231         Good  \n",
       "\n",
       "[5 rows x 28 columns]"
      ]
     },
     "execution_count": 2563,
     "metadata": {},
     "output_type": "execute_result"
    }
   ],
   "source": [
    "final_dataset.head()"
   ]
  },
  {
   "cell_type": "code",
   "execution_count": 2564,
   "metadata": {
    "colab": {
     "base_uri": "https://localhost:8080/"
    },
    "id": "pSWxGygOg4VO",
    "outputId": "63de2ba4-4dc1-4040-986e-6c90a1ddaa68"
   },
   "outputs": [
    {
     "name": "stdout",
     "output_type": "stream",
     "text": [
      "<class 'pandas.core.frame.DataFrame'>\n",
      "Int64Index: 100000 entries, 0 to 99999\n",
      "Data columns (total 28 columns):\n",
      " #   Column                    Non-Null Count   Dtype   \n",
      "---  ------                    --------------   -----   \n",
      " 0   ID                        100000 non-null  object  \n",
      " 1   Customer_ID               100000 non-null  category\n",
      " 2   Month                     100000 non-null  object  \n",
      " 3   Name                      90015 non-null   object  \n",
      " 4   Age                       100000 non-null  object  \n",
      " 5   SSN                       100000 non-null  object  \n",
      " 6   Occupation                100000 non-null  object  \n",
      " 7   Annual_Income             100000 non-null  object  \n",
      " 8   Monthly_Inhand_Salary     100000 non-null  float64 \n",
      " 9   Num_Bank_Accounts         100000 non-null  int64   \n",
      " 10  Num_Credit_Card           100000 non-null  int64   \n",
      " 11  Interest_Rate             100000 non-null  int64   \n",
      " 12  Num_of_Loan               100000 non-null  object  \n",
      " 13  Type_of_Loan              88592 non-null   object  \n",
      " 14  Delay_from_due_date       100000 non-null  int64   \n",
      " 15  Num_of_Delayed_Payment    100000 non-null  float64 \n",
      " 16  Changed_Credit_Limit      100000 non-null  object  \n",
      " 17  Num_Credit_Inquiries      98035 non-null   float64 \n",
      " 18  Credit_Mix                100000 non-null  object  \n",
      " 19  Outstanding_Debt          100000 non-null  object  \n",
      " 20  Credit_Utilization_Ratio  100000 non-null  float64 \n",
      " 21  Credit_History_Age        90970 non-null   object  \n",
      " 22  Payment_of_Min_Amount     100000 non-null  object  \n",
      " 23  Total_EMI_per_month       100000 non-null  float64 \n",
      " 24  Amount_invested_monthly   95521 non-null   object  \n",
      " 25  Payment_Behaviour         100000 non-null  object  \n",
      " 26  Monthly_Balance           100000 non-null  float64 \n",
      " 27  Credit_Score              100000 non-null  object  \n",
      "dtypes: category(1), float64(6), int64(4), object(17)\n",
      "memory usage: 21.9+ MB\n"
     ]
    }
   ],
   "source": [
    "final_dataset.info()"
   ]
  },
  {
   "cell_type": "markdown",
   "metadata": {
    "id": "teAF5wzxjWoj"
   },
   "source": [
    "Dealing with the missing value in Credit_History_Age column"
   ]
  },
  {
   "cell_type": "code",
   "execution_count": 2565,
   "metadata": {
    "id": "X6a16LfOjm5t"
   },
   "outputs": [],
   "source": [
    "# Define function to convert string to number of months\n",
    "def convert_to_months(s):\n",
    "    # If value is null or empty, return default value 0\n",
    "    if pd.isna(s) or s.strip() == \"\":\n",
    "        return 0\n",
    "    # Split string into years and months\n",
    "    years, months = s.split(\" Years and \")\n",
    "    months = months.replace(\" Months\", \"\")\n",
    "    # Convert to total months\n",
    "    total_months = int(years) * 12 + int(months)\n",
    "    return total_months\n",
    "\n",
    "# Apply the function to the \"age\" column and create a new column \"age_in_months\"\n",
    "final_dataset[\"Credit_History_Age\"] = final_dataset[\"Credit_History_Age\"].apply(convert_to_months)"
   ]
  },
  {
   "cell_type": "code",
   "execution_count": 2566,
   "metadata": {
    "id": "B0gTq707yfsz"
   },
   "outputs": [],
   "source": [
    "# Calculate the median credit history age by customer using groupby and summarize\n",
    "median_credit_history_age_customer = final_dataset.groupby('Customer_ID').agg(median_credit_history_age=('Credit_History_Age', 'median'))\n",
    "\n",
    "# Join the median credit history age column to the dataset\n",
    "final_dataset = pd.merge(final_dataset, median_credit_history_age_customer, on='Customer_ID', how='left')\n",
    "\n",
    "# Replace rows with a value of 0 in Credit History Age column with median credit history age\n",
    "final_dataset['Credit_History_Age'] = final_dataset['Credit_History_Age'].apply(lambda x: final_dataset['median_credit_history_age'][x] if x == 0 else x)\n",
    "\n",
    "# Drop the median credit history age column\n",
    "final_dataset.drop('median_credit_history_age', axis=1, inplace=True)"
   ]
  },
  {
   "cell_type": "code",
   "execution_count": 2567,
   "metadata": {
    "colab": {
     "base_uri": "https://localhost:8080/"
    },
    "id": "Ro0YZiR1sKg5",
    "outputId": "7268006f-9c26-46fc-d751-af3c5c85404f"
   },
   "outputs": [
    {
     "name": "stdout",
     "output_type": "stream",
     "text": [
      "<class 'pandas.core.frame.DataFrame'>\n",
      "Int64Index: 100000 entries, 0 to 99999\n",
      "Data columns (total 28 columns):\n",
      " #   Column                    Non-Null Count   Dtype   \n",
      "---  ------                    --------------   -----   \n",
      " 0   ID                        100000 non-null  object  \n",
      " 1   Customer_ID               100000 non-null  category\n",
      " 2   Month                     100000 non-null  object  \n",
      " 3   Name                      90015 non-null   object  \n",
      " 4   Age                       100000 non-null  object  \n",
      " 5   SSN                       100000 non-null  object  \n",
      " 6   Occupation                100000 non-null  object  \n",
      " 7   Annual_Income             100000 non-null  object  \n",
      " 8   Monthly_Inhand_Salary     100000 non-null  float64 \n",
      " 9   Num_Bank_Accounts         100000 non-null  int64   \n",
      " 10  Num_Credit_Card           100000 non-null  int64   \n",
      " 11  Interest_Rate             100000 non-null  int64   \n",
      " 12  Num_of_Loan               100000 non-null  object  \n",
      " 13  Type_of_Loan              88592 non-null   object  \n",
      " 14  Delay_from_due_date       100000 non-null  int64   \n",
      " 15  Num_of_Delayed_Payment    100000 non-null  float64 \n",
      " 16  Changed_Credit_Limit      100000 non-null  object  \n",
      " 17  Num_Credit_Inquiries      98035 non-null   float64 \n",
      " 18  Credit_Mix                100000 non-null  object  \n",
      " 19  Outstanding_Debt          100000 non-null  object  \n",
      " 20  Credit_Utilization_Ratio  100000 non-null  float64 \n",
      " 21  Credit_History_Age        100000 non-null  float64 \n",
      " 22  Payment_of_Min_Amount     100000 non-null  object  \n",
      " 23  Total_EMI_per_month       100000 non-null  float64 \n",
      " 24  Amount_invested_monthly   95521 non-null   object  \n",
      " 25  Payment_Behaviour         100000 non-null  object  \n",
      " 26  Monthly_Balance           100000 non-null  float64 \n",
      " 27  Credit_Score              100000 non-null  object  \n",
      "dtypes: category(1), float64(7), int64(4), object(16)\n",
      "memory usage: 23.9+ MB\n"
     ]
    }
   ],
   "source": [
    "final_dataset.info()"
   ]
  },
  {
   "cell_type": "markdown",
   "metadata": {
    "id": "99xJKlXC60Nz"
   },
   "source": [
    "Dealing with Occupation column"
   ]
  },
  {
   "cell_type": "code",
   "execution_count": 2568,
   "metadata": {
    "colab": {
     "base_uri": "https://localhost:8080/"
    },
    "id": "tVluKjp87VD8",
    "outputId": "ada78bdc-e9c9-441c-8017-5648a5db982d"
   },
   "outputs": [
    {
     "data": {
      "text/plain": [
       "_______          7062\n",
       "Lawyer           6575\n",
       "Architect        6355\n",
       "Engineer         6350\n",
       "Scientist        6299\n",
       "Mechanic         6291\n",
       "Accountant       6271\n",
       "Developer        6235\n",
       "Media_Manager    6232\n",
       "Teacher          6215\n",
       "Entrepreneur     6174\n",
       "Doctor           6087\n",
       "Journalist       6085\n",
       "Manager          5973\n",
       "Musician         5911\n",
       "Writer           5885\n",
       "Name: Occupation, dtype: int64"
      ]
     },
     "execution_count": 2568,
     "metadata": {},
     "output_type": "execute_result"
    }
   ],
   "source": [
    "final_dataset['Occupation'].value_counts()"
   ]
  },
  {
   "cell_type": "code",
   "execution_count": 2569,
   "metadata": {
    "colab": {
     "base_uri": "https://localhost:8080/"
    },
    "id": "tOwyWI4M736a",
    "outputId": "08316c15-25e1-4e1a-e613-4b92d3aac31d"
   },
   "outputs": [
    {
     "data": {
      "text/plain": [
       "Lawyer           6575\n",
       "Architect        6355\n",
       "Engineer         6350\n",
       "Scientist        6299\n",
       "Mechanic         6291\n",
       "Accountant       6271\n",
       "Developer        6235\n",
       "Media_Manager    6232\n",
       "Teacher          6215\n",
       "Entrepreneur     6174\n",
       "Doctor           6087\n",
       "Journalist       6085\n",
       "Manager          5973\n",
       "Musician         5911\n",
       "Writer           5885\n",
       "Name: Occupation, dtype: int64"
      ]
     },
     "execution_count": 2569,
     "metadata": {},
     "output_type": "execute_result"
    }
   ],
   "source": [
    "# Remove rows where the \"Occupation\" column has the value \"_______\"\n",
    "final_dataset = final_dataset[~(final_dataset['Occupation'] == '_______')]\n",
    "final_dataset['Occupation'].value_counts()"
   ]
  },
  {
   "cell_type": "markdown",
   "metadata": {
    "id": "q8lX0l5X8UU5"
   },
   "source": [
    "Dealing with Annual Income column"
   ]
  },
  {
   "cell_type": "code",
   "execution_count": 2570,
   "metadata": {
    "colab": {
     "base_uri": "https://localhost:8080/"
    },
    "id": "hEutIRsN8b6C",
    "outputId": "c102d773-2fe1-47e2-bc25-c26794e34fbb"
   },
   "outputs": [
    {
     "data": {
      "text/plain": [
       "36585.12      16\n",
       "17273.83      15\n",
       "9141.63       15\n",
       "17816.75      14\n",
       "95596.35      14\n",
       "              ..\n",
       "39883.46_      1\n",
       "14773.91_      1\n",
       "14059195.0     1\n",
       "14365.54_      1\n",
       "16857.295_     1\n",
       "Name: Annual_Income, Length: 18560, dtype: int64"
      ]
     },
     "execution_count": 2570,
     "metadata": {},
     "output_type": "execute_result"
    }
   ],
   "source": [
    "final_dataset['Annual_Income'].value_counts()"
   ]
  },
  {
   "cell_type": "code",
   "execution_count": 2571,
   "metadata": {
    "colab": {
     "base_uri": "https://localhost:8080/"
    },
    "id": "kZGfqtDI8rD9",
    "outputId": "2b0d7157-2506-47ed-a9da-3138cf4e145f"
   },
   "outputs": [
    {
     "data": {
      "text/plain": [
       "36585.12      16\n",
       "40341.16      15\n",
       "17816.75      15\n",
       "9141.63       15\n",
       "109945.32     15\n",
       "              ..\n",
       "8681121.0      1\n",
       "12083640.0     1\n",
       "20703498.0     1\n",
       "3301922.0      1\n",
       "11603023.0     1\n",
       "Name: Annual_Income, Length: 13409, dtype: int64"
      ]
     },
     "execution_count": 2571,
     "metadata": {},
     "output_type": "execute_result"
    }
   ],
   "source": [
    "# Remove rows where the \"Annual_Income\" column has the value \"_\"\n",
    "final_dataset['Annual_Income'] = final_dataset['Annual_Income'].str.replace('_', '')\n",
    "# Converting \"Annual_Income\" column to numeric\n",
    "#final_dataset['Annual_Income'] = pd.to_(final_dataset['Annual_Income'],errors='coerce')\n",
    "final_dataset['Annual_Income'].value_counts()\n"
   ]
  },
  {
   "cell_type": "code",
   "execution_count": 2572,
   "metadata": {},
   "outputs": [
    {
     "name": "stderr",
     "output_type": "stream",
     "text": [
      "/var/folders/nf/g_4jhvds3hl6w0x8k1y827z80000gn/T/ipykernel_12768/261771347.py:10: FutureWarning: The default value of regex will change from True to False in a future version. In addition, single character regular expressions will *not* be treated as literal strings when regex=True.\n",
      "  final_dataset[i] = final_dataset[i].astype(str).str.replace(c,'')\n"
     ]
    }
   ],
   "source": [
    "# Adjust incorrect data entries\n",
    "sym = '\\\\`*_{}[]()>#@+!$:;'\n",
    "col_int = ['Age','Annual_Income','Delay_from_due_date','Num_of_Delayed_Payment',\n",
    "           'Outstanding_Debt','Total_EMI_per_month', 'Monthly_Balance', 'Num_of_Loan']\n",
    "\n",
    "col_str = ['Occupation', 'Credit_History_Age','Payment_of_Min_Amount','Credit_Score']\n",
    "\n",
    "for i in col_int:\n",
    "    for c in sym:\n",
    "        final_dataset[i] = final_dataset[i].astype(str).str.replace(c,'')\n",
    "        \n",
    "for i in col_str:\n",
    "    for c in sym:\n",
    "        final_dataset[i] = final_dataset[i].replace(c,'')"
   ]
  },
  {
   "cell_type": "markdown",
   "metadata": {
    "id": "UlfWk_DM-Zbn"
   },
   "source": [
    "Dealing with Credit Score column"
   ]
  },
  {
   "cell_type": "code",
   "execution_count": 2573,
   "metadata": {
    "colab": {
     "base_uri": "https://localhost:8080/"
    },
    "id": "NZ9kc7pd-fwA",
    "outputId": "4c472216-0f80-48c5-d44a-255b5ff4316b"
   },
   "outputs": [
    {
     "data": {
      "text/plain": [
       "Standard    49386\n",
       "Poor        26967\n",
       "Good        16585\n",
       "Name: Credit_Score, dtype: int64"
      ]
     },
     "execution_count": 2573,
     "metadata": {},
     "output_type": "execute_result"
    }
   ],
   "source": [
    "final_dataset['Credit_Score'].value_counts()"
   ]
  },
  {
   "cell_type": "markdown",
   "metadata": {
    "id": "Y6fJkgcW-q2k"
   },
   "source": [
    "Dealing with Payment Behaviour column"
   ]
  },
  {
   "cell_type": "code",
   "execution_count": 2574,
   "metadata": {
    "colab": {
     "base_uri": "https://localhost:8080/"
    },
    "id": "i23K0g1Z-0Sk",
    "outputId": "69b455ac-dc6e-4530-a411-3294ef32fed9"
   },
   "outputs": [
    {
     "data": {
      "text/plain": [
       "Low_spent_Small_value_payments      23720\n",
       "High_spent_Medium_value_payments    16301\n",
       "Low_spent_Medium_value_payments     12882\n",
       "High_spent_Large_value_payments     12767\n",
       "High_spent_Small_value_payments     10524\n",
       "Low_spent_Large_value_payments       9658\n",
       "!@9#%8                               7086\n",
       "Name: Payment_Behaviour, dtype: int64"
      ]
     },
     "execution_count": 2574,
     "metadata": {},
     "output_type": "execute_result"
    }
   ],
   "source": [
    "final_dataset['Payment_Behaviour'].value_counts()"
   ]
  },
  {
   "cell_type": "code",
   "execution_count": 2575,
   "metadata": {
    "id": "mIXlSt7G_xxE"
   },
   "outputs": [],
   "source": [
    "# Remove rows where the \"Payment_Behaviour\" column has the value \"!@9#%8\"\n",
    "final_dataset = final_dataset[~(final_dataset['Payment_Behaviour'] == '!@9#%8')]"
   ]
  },
  {
   "cell_type": "code",
   "execution_count": 2576,
   "metadata": {
    "colab": {
     "base_uri": "https://localhost:8080/"
    },
    "id": "sdYnkhWrAIT1",
    "outputId": "b71f26a5-021c-41e7-b3fe-861dbdd127e9"
   },
   "outputs": [
    {
     "data": {
      "text/plain": [
       "Low_spent_Small_value_payments      23720\n",
       "High_spent_Medium_value_payments    16301\n",
       "Low_spent_Medium_value_payments     12882\n",
       "High_spent_Large_value_payments     12767\n",
       "High_spent_Small_value_payments     10524\n",
       "Low_spent_Large_value_payments       9658\n",
       "Name: Payment_Behaviour, dtype: int64"
      ]
     },
     "execution_count": 2576,
     "metadata": {},
     "output_type": "execute_result"
    }
   ],
   "source": [
    "final_dataset['Payment_Behaviour'].value_counts()"
   ]
  },
  {
   "cell_type": "code",
   "execution_count": 2577,
   "metadata": {
    "colab": {
     "base_uri": "https://localhost:8080/"
    },
    "id": "brMdYPGEAsqb",
    "outputId": "ef0bccd3-be5f-45fb-e6e4-b5e90775deb7"
   },
   "outputs": [],
   "source": [
    "final_dataset[\"Payment_Behaviour\"] = final_dataset[\"Payment_Behaviour\"].replace({\"High_spent_Large_value_payments\": 6,\n",
    "                                                                       \"High_spent_Medium_value_payments\": 5,\n",
    "                                                                       \"High_spent_Small_value_payments\": 4,\n",
    "                                                                       \"Low_spent_Large_value_payments\": 3,\n",
    "                                                                       \"Low_spent_Medium_value_payments\": 2,\n",
    "                                                                       \"Low_spent_Small_value_payments\": 1})\n"
   ]
  },
  {
   "cell_type": "code",
   "execution_count": 2578,
   "metadata": {
    "colab": {
     "base_uri": "https://localhost:8080/"
    },
    "id": "iBs3qCG1ChMV",
    "outputId": "2381c0b5-ee30-4bc2-a15f-904a709ccf1c"
   },
   "outputs": [
    {
     "data": {
      "text/plain": [
       "1    23720\n",
       "5    16301\n",
       "2    12882\n",
       "6    12767\n",
       "4    10524\n",
       "3     9658\n",
       "Name: Payment_Behaviour, dtype: int64"
      ]
     },
     "execution_count": 2578,
     "metadata": {},
     "output_type": "execute_result"
    }
   ],
   "source": [
    "final_dataset[\"Payment_Behaviour\"].value_counts()"
   ]
  },
  {
   "cell_type": "markdown",
   "metadata": {
    "id": "RaukIXRFCuId"
   },
   "source": [
    "Dealing with Total_EMI_per_month column"
   ]
  },
  {
   "cell_type": "code",
   "execution_count": 2579,
   "metadata": {
    "colab": {
     "base_uri": "https://localhost:8080/"
    },
    "id": "S-ZuGa8UC8wG",
    "outputId": "e64f0867-1d2b-49cb-c0a3-257f13e1f116"
   },
   "outputs": [
    {
     "data": {
      "text/plain": [
       "0.0                  9051\n",
       "94.7879956533391        8\n",
       "78.74971305050755       8\n",
       "27.55586581342608       8\n",
       "81.82285657517096       8\n",
       "                     ... \n",
       "991.0                   1\n",
       "19940.0                 1\n",
       "12598.0                 1\n",
       "23135.0                 1\n",
       "58638.0                 1\n",
       "Name: Total_EMI_per_month, Length: 14445, dtype: int64"
      ]
     },
     "execution_count": 2579,
     "metadata": {},
     "output_type": "execute_result"
    }
   ],
   "source": [
    "final_dataset['Total_EMI_per_month'].value_counts()"
   ]
  },
  {
   "cell_type": "markdown",
   "metadata": {
    "id": "JQaImpT0EBeO"
   },
   "source": [
    "Dealing with the Payment_of_Min_Amount column"
   ]
  },
  {
   "cell_type": "code",
   "execution_count": 2580,
   "metadata": {
    "colab": {
     "base_uri": "https://localhost:8080/"
    },
    "id": "J0ECoqk9EJ1E",
    "outputId": "328796a1-05f0-412b-fdb9-9b33b86babf0"
   },
   "outputs": [
    {
     "data": {
      "text/plain": [
       "Yes    44892\n",
       "No     30635\n",
       "NM     10325\n",
       "Name: Payment_of_Min_Amount, dtype: int64"
      ]
     },
     "execution_count": 2580,
     "metadata": {},
     "output_type": "execute_result"
    }
   ],
   "source": [
    "final_dataset['Payment_of_Min_Amount'].value_counts()"
   ]
  },
  {
   "cell_type": "code",
   "execution_count": 2581,
   "metadata": {
    "colab": {
     "base_uri": "https://localhost:8080/"
    },
    "id": "Z0hFUY9CEmMc",
    "outputId": "59ea8fad-9b08-4511-876c-4d94e8e7e06b"
   },
   "outputs": [],
   "source": [
    "final_dataset['Payment_of_Min_Amount'] = final_dataset['Payment_of_Min_Amount'].replace({\"No\": 2,\n",
    "                                                                       \"Yes\": 1,\n",
    "                                                                       \"NM\": 0})"
   ]
  },
  {
   "cell_type": "code",
   "execution_count": 2582,
   "metadata": {
    "colab": {
     "base_uri": "https://localhost:8080/"
    },
    "id": "zdhWAtJbFEIr",
    "outputId": "59cd3887-36f9-496b-85d9-3184178791ba"
   },
   "outputs": [
    {
     "data": {
      "text/plain": [
       "1    44892\n",
       "2    30635\n",
       "0    10325\n",
       "Name: Payment_of_Min_Amount, dtype: int64"
      ]
     },
     "execution_count": 2582,
     "metadata": {},
     "output_type": "execute_result"
    }
   ],
   "source": [
    "final_dataset['Payment_of_Min_Amount'].value_counts()"
   ]
  },
  {
   "cell_type": "markdown",
   "metadata": {
    "id": "R4jl5HbNF601"
   },
   "source": [
    "Dealing with Outstanding_Debt column"
   ]
  },
  {
   "cell_type": "code",
   "execution_count": 2583,
   "metadata": {
    "colab": {
     "base_uri": "https://localhost:8080/"
    },
    "id": "rMjZbPl4GEVs",
    "outputId": "1ea28fa9-507c-402c-eaca-f4119c15dad8"
   },
   "outputs": [
    {
     "data": {
      "text/plain": [
       "1151.7     24\n",
       "1360.45    21\n",
       "460.46     21\n",
       "1109.03    20\n",
       "804.31     16\n",
       "           ..\n",
       "884.52      2\n",
       "1424.12     2\n",
       "829.3       2\n",
       "1661.55     1\n",
       "45.65       1\n",
       "Name: Outstanding_Debt, Length: 12203, dtype: int64"
      ]
     },
     "execution_count": 2583,
     "metadata": {},
     "output_type": "execute_result"
    }
   ],
   "source": [
    "final_dataset['Outstanding_Debt'].value_counts()"
   ]
  },
  {
   "cell_type": "code",
   "execution_count": 2584,
   "metadata": {
    "id": "GYDljYdjGXgy"
   },
   "outputs": [],
   "source": [
    "# Remove rows where the \"Outstanding_Debt\" column has the value \"_\"\n",
    "#final_dataset['Outstanding_Debt'] = final_dataset['Outstanding_Debt'].str.replace('_', '')\n",
    "# Converting \"Outstanding_Debt\" column to numeric\n",
    "#final_dataset['Outstanding_Debt'] = pd.to_numeric(final_dataset['Outstanding_Debt'],errors='coerce')\n",
    "\n",
    "\n",
    "int_col = ['Delay_from_due_date','Num_of_Delayed_Payment','Outstanding_Debt',\n",
    "           'Total_EMI_per_month','Monthly_Balance','Payment_Behaviour','Credit_History_Age','Annual_Income','Num_of_Loan']\n",
    "\n",
    "for i in int_col:\n",
    "    final_dataset[i] = final_dataset[i].astype(float)"
   ]
  },
  {
   "cell_type": "code",
   "execution_count": 2585,
   "metadata": {
    "colab": {
     "base_uri": "https://localhost:8080/"
    },
    "id": "dB2ZMzR_GnGh",
    "outputId": "3ade0fbd-2a01-4ddd-a632-bdd9c2e098e1"
   },
   "outputs": [
    {
     "data": {
      "text/plain": [
       "1151.70    24\n",
       "1360.45    21\n",
       "460.46     21\n",
       "1109.03    20\n",
       "804.31     16\n",
       "           ..\n",
       "884.52      2\n",
       "1424.12     2\n",
       "829.30      2\n",
       "1661.55     1\n",
       "45.65       1\n",
       "Name: Outstanding_Debt, Length: 12203, dtype: int64"
      ]
     },
     "execution_count": 2585,
     "metadata": {},
     "output_type": "execute_result"
    }
   ],
   "source": [
    "final_dataset['Outstanding_Debt'].value_counts()"
   ]
  },
  {
   "cell_type": "markdown",
   "metadata": {
    "id": "_LInnZ3xH3p4"
   },
   "source": [
    "Dealing with Delay_from_due_date column"
   ]
  },
  {
   "cell_type": "code",
   "execution_count": 2586,
   "metadata": {
    "colab": {
     "base_uri": "https://localhost:8080/"
    },
    "id": "8dvZIg1rH63m",
    "outputId": "dca955d0-585a-4879-f1a8-28395735dc0d"
   },
   "outputs": [
    {
     "data": {
      "text/plain": [
       " 15.0    3096\n",
       " 13.0    2903\n",
       " 14.0    2846\n",
       " 8.0     2839\n",
       " 10.0    2801\n",
       "         ... \n",
       "-4.0       52\n",
       " 65.0      47\n",
       " 66.0      28\n",
       "-5.0       27\n",
       " 67.0      19\n",
       "Name: Delay_from_due_date, Length: 73, dtype: int64"
      ]
     },
     "execution_count": 2586,
     "metadata": {},
     "output_type": "execute_result"
    }
   ],
   "source": [
    "final_dataset['Delay_from_due_date'].value_counts()"
   ]
  },
  {
   "cell_type": "code",
   "execution_count": 2587,
   "metadata": {},
   "outputs": [
    {
     "data": {
      "text/html": [
       "<div>\n",
       "<style scoped>\n",
       "    .dataframe tbody tr th:only-of-type {\n",
       "        vertical-align: middle;\n",
       "    }\n",
       "\n",
       "    .dataframe tbody tr th {\n",
       "        vertical-align: top;\n",
       "    }\n",
       "\n",
       "    .dataframe thead th {\n",
       "        text-align: right;\n",
       "    }\n",
       "</style>\n",
       "<table border=\"1\" class=\"dataframe\">\n",
       "  <thead>\n",
       "    <tr style=\"text-align: right;\">\n",
       "      <th></th>\n",
       "      <th>ID</th>\n",
       "      <th>Customer_ID</th>\n",
       "      <th>Month</th>\n",
       "      <th>Name</th>\n",
       "      <th>Age</th>\n",
       "      <th>SSN</th>\n",
       "      <th>Occupation</th>\n",
       "      <th>Annual_Income</th>\n",
       "      <th>Monthly_Inhand_Salary</th>\n",
       "      <th>Num_Bank_Accounts</th>\n",
       "      <th>...</th>\n",
       "      <th>Credit_Mix</th>\n",
       "      <th>Outstanding_Debt</th>\n",
       "      <th>Credit_Utilization_Ratio</th>\n",
       "      <th>Credit_History_Age</th>\n",
       "      <th>Payment_of_Min_Amount</th>\n",
       "      <th>Total_EMI_per_month</th>\n",
       "      <th>Amount_invested_monthly</th>\n",
       "      <th>Payment_Behaviour</th>\n",
       "      <th>Monthly_Balance</th>\n",
       "      <th>Credit_Score</th>\n",
       "    </tr>\n",
       "  </thead>\n",
       "  <tbody>\n",
       "    <tr>\n",
       "      <th>0</th>\n",
       "      <td>0x1602</td>\n",
       "      <td>CUS_0xd40</td>\n",
       "      <td>January</td>\n",
       "      <td>Aaron Maashoh</td>\n",
       "      <td>23</td>\n",
       "      <td>821-00-0265</td>\n",
       "      <td>Scientist</td>\n",
       "      <td>19114.12</td>\n",
       "      <td>1824.843333</td>\n",
       "      <td>3</td>\n",
       "      <td>...</td>\n",
       "      <td>_</td>\n",
       "      <td>809.98</td>\n",
       "      <td>26.822620</td>\n",
       "      <td>265.0</td>\n",
       "      <td>2</td>\n",
       "      <td>49.574949</td>\n",
       "      <td>80.41529543900253</td>\n",
       "      <td>4.0</td>\n",
       "      <td>312.494089</td>\n",
       "      <td>Good</td>\n",
       "    </tr>\n",
       "    <tr>\n",
       "      <th>1</th>\n",
       "      <td>0x1603</td>\n",
       "      <td>CUS_0xd40</td>\n",
       "      <td>February</td>\n",
       "      <td>Aaron Maashoh</td>\n",
       "      <td>23</td>\n",
       "      <td>821-00-0265</td>\n",
       "      <td>Scientist</td>\n",
       "      <td>19114.12</td>\n",
       "      <td>1824.843333</td>\n",
       "      <td>3</td>\n",
       "      <td>...</td>\n",
       "      <td>Good</td>\n",
       "      <td>809.98</td>\n",
       "      <td>31.944960</td>\n",
       "      <td>267.5</td>\n",
       "      <td>2</td>\n",
       "      <td>49.574949</td>\n",
       "      <td>118.28022162236736</td>\n",
       "      <td>3.0</td>\n",
       "      <td>284.629162</td>\n",
       "      <td>Good</td>\n",
       "    </tr>\n",
       "    <tr>\n",
       "      <th>2</th>\n",
       "      <td>0x1604</td>\n",
       "      <td>CUS_0xd40</td>\n",
       "      <td>March</td>\n",
       "      <td>Aaron Maashoh</td>\n",
       "      <td>-500</td>\n",
       "      <td>821-00-0265</td>\n",
       "      <td>Scientist</td>\n",
       "      <td>19114.12</td>\n",
       "      <td>1824.843333</td>\n",
       "      <td>3</td>\n",
       "      <td>...</td>\n",
       "      <td>Good</td>\n",
       "      <td>809.98</td>\n",
       "      <td>28.609352</td>\n",
       "      <td>267.0</td>\n",
       "      <td>2</td>\n",
       "      <td>49.574949</td>\n",
       "      <td>81.699521264648</td>\n",
       "      <td>2.0</td>\n",
       "      <td>331.209863</td>\n",
       "      <td>Good</td>\n",
       "    </tr>\n",
       "    <tr>\n",
       "      <th>3</th>\n",
       "      <td>0x1605</td>\n",
       "      <td>CUS_0xd40</td>\n",
       "      <td>April</td>\n",
       "      <td>Aaron Maashoh</td>\n",
       "      <td>23</td>\n",
       "      <td>821-00-0265</td>\n",
       "      <td>Scientist</td>\n",
       "      <td>19114.12</td>\n",
       "      <td>1824.843333</td>\n",
       "      <td>3</td>\n",
       "      <td>...</td>\n",
       "      <td>Good</td>\n",
       "      <td>809.98</td>\n",
       "      <td>31.377862</td>\n",
       "      <td>268.0</td>\n",
       "      <td>2</td>\n",
       "      <td>49.574949</td>\n",
       "      <td>199.4580743910713</td>\n",
       "      <td>1.0</td>\n",
       "      <td>223.451310</td>\n",
       "      <td>Good</td>\n",
       "    </tr>\n",
       "    <tr>\n",
       "      <th>4</th>\n",
       "      <td>0x1606</td>\n",
       "      <td>CUS_0xd40</td>\n",
       "      <td>May</td>\n",
       "      <td>Aaron Maashoh</td>\n",
       "      <td>23</td>\n",
       "      <td>821-00-0265</td>\n",
       "      <td>Scientist</td>\n",
       "      <td>19114.12</td>\n",
       "      <td>1824.843333</td>\n",
       "      <td>3</td>\n",
       "      <td>...</td>\n",
       "      <td>Good</td>\n",
       "      <td>809.98</td>\n",
       "      <td>24.797347</td>\n",
       "      <td>269.0</td>\n",
       "      <td>2</td>\n",
       "      <td>49.574949</td>\n",
       "      <td>41.420153086217326</td>\n",
       "      <td>5.0</td>\n",
       "      <td>341.489231</td>\n",
       "      <td>Good</td>\n",
       "    </tr>\n",
       "  </tbody>\n",
       "</table>\n",
       "<p>5 rows × 28 columns</p>\n",
       "</div>"
      ],
      "text/plain": [
       "       ID Customer_ID     Month           Name   Age          SSN Occupation  \\\n",
       "0  0x1602   CUS_0xd40   January  Aaron Maashoh    23  821-00-0265  Scientist   \n",
       "1  0x1603   CUS_0xd40  February  Aaron Maashoh    23  821-00-0265  Scientist   \n",
       "2  0x1604   CUS_0xd40     March  Aaron Maashoh  -500  821-00-0265  Scientist   \n",
       "3  0x1605   CUS_0xd40     April  Aaron Maashoh    23  821-00-0265  Scientist   \n",
       "4  0x1606   CUS_0xd40       May  Aaron Maashoh    23  821-00-0265  Scientist   \n",
       "\n",
       "   Annual_Income  Monthly_Inhand_Salary  Num_Bank_Accounts  ...  Credit_Mix  \\\n",
       "0       19114.12            1824.843333                  3  ...           _   \n",
       "1       19114.12            1824.843333                  3  ...        Good   \n",
       "2       19114.12            1824.843333                  3  ...        Good   \n",
       "3       19114.12            1824.843333                  3  ...        Good   \n",
       "4       19114.12            1824.843333                  3  ...        Good   \n",
       "\n",
       "   Outstanding_Debt  Credit_Utilization_Ratio Credit_History_Age  \\\n",
       "0            809.98                 26.822620              265.0   \n",
       "1            809.98                 31.944960              267.5   \n",
       "2            809.98                 28.609352              267.0   \n",
       "3            809.98                 31.377862              268.0   \n",
       "4            809.98                 24.797347              269.0   \n",
       "\n",
       "   Payment_of_Min_Amount  Total_EMI_per_month Amount_invested_monthly  \\\n",
       "0                      2            49.574949       80.41529543900253   \n",
       "1                      2            49.574949      118.28022162236736   \n",
       "2                      2            49.574949         81.699521264648   \n",
       "3                      2            49.574949       199.4580743910713   \n",
       "4                      2            49.574949      41.420153086217326   \n",
       "\n",
       "   Payment_Behaviour Monthly_Balance  Credit_Score  \n",
       "0                4.0      312.494089          Good  \n",
       "1                3.0      284.629162          Good  \n",
       "2                2.0      331.209863          Good  \n",
       "3                1.0      223.451310          Good  \n",
       "4                5.0      341.489231          Good  \n",
       "\n",
       "[5 rows x 28 columns]"
      ]
     },
     "execution_count": 2587,
     "metadata": {},
     "output_type": "execute_result"
    }
   ],
   "source": [
    "final_dataset.head()"
   ]
  },
  {
   "cell_type": "code",
   "execution_count": 2588,
   "metadata": {
    "colab": {
     "base_uri": "https://localhost:8080/"
    },
    "id": "5tmmrDiTNnij",
    "outputId": "97985675-9531-4bc1-a4d5-531f9b78b31a"
   },
   "outputs": [
    {
     "data": {
      "text/plain": [
       " 15.0    3096\n",
       " 13.0    2903\n",
       " 14.0    2846\n",
       " 8.0     2839\n",
       " 10.0    2801\n",
       "         ... \n",
       "-4.0       52\n",
       " 65.0      47\n",
       " 66.0      28\n",
       "-5.0       27\n",
       " 67.0      19\n",
       "Name: Delay_from_due_date, Length: 73, dtype: int64"
      ]
     },
     "execution_count": 2588,
     "metadata": {},
     "output_type": "execute_result"
    }
   ],
   "source": [
    "final_dataset['Delay_from_due_date'].value_counts()"
   ]
  },
  {
   "cell_type": "markdown",
   "metadata": {
    "id": "-Ac0Ob9JQRK5"
   },
   "source": [
    "Dealing with the Num_of_Loan column"
   ]
  },
  {
   "cell_type": "code",
   "execution_count": 2589,
   "metadata": {
    "colab": {
     "base_uri": "https://localhost:8080/"
    },
    "id": "JH0fjvX9QaRx",
    "outputId": "ffcf29cb-cc4f-4042-a199-c739f29edf16"
   },
   "outputs": [
    {
     "data": {
      "text/plain": [
       "2.0       12974\n",
       "3.0       12964\n",
       "4.0       12660\n",
       "0.0        9322\n",
       "1.0        9126\n",
       "          ...  \n",
       "952.0         1\n",
       "661.0         1\n",
       "321.0         1\n",
       "1439.0        1\n",
       "966.0         1\n",
       "Name: Num_of_Loan, Length: 361, dtype: int64"
      ]
     },
     "execution_count": 2589,
     "metadata": {},
     "output_type": "execute_result"
    }
   ],
   "source": [
    "final_dataset['Num_of_Loan'].value_counts()"
   ]
  },
  {
   "cell_type": "code",
   "execution_count": 2590,
   "metadata": {
    "id": "SeNlzqslRiOi"
   },
   "outputs": [],
   "source": [
    "final_dataset.loc[final_dataset['Num_of_Loan'] == \"-100\", 'Num_of_Loan'] = np.nan"
   ]
  },
  {
   "cell_type": "code",
   "execution_count": 2591,
   "metadata": {
    "id": "GhH9DpCuRFGo"
   },
   "outputs": [],
   "source": [
    "# Calculate the median Num_of_Loan by customer using groupby and summarize\n",
    "median_Num_of_Loan_customer = final_dataset.groupby('Customer_ID').agg(median_Num_of_Loan=('Num_of_Loan', 'median'))\n",
    "\n",
    "# Join the median Num_of_Loan column to the dataset\n",
    "final_dataset = pd.merge(final_dataset, median_Num_of_Loan_customer, on='Customer_ID', how='left')\n",
    "\n",
    "# Replace rows with a value of 0 in Num_of_Loan column with median credit history age\n",
    "final_dataset['Num_of_Loan'].fillna(final_dataset['median_Num_of_Loan'], inplace=True)\n",
    "\n",
    "# Drop the median Num_of_Loan column\n",
    "final_dataset.drop('median_Num_of_Loan', axis=1, inplace=True)\n"
   ]
  },
  {
   "cell_type": "code",
   "execution_count": 2592,
   "metadata": {},
   "outputs": [
    {
     "data": {
      "text/html": [
       "<div>\n",
       "<style scoped>\n",
       "    .dataframe tbody tr th:only-of-type {\n",
       "        vertical-align: middle;\n",
       "    }\n",
       "\n",
       "    .dataframe tbody tr th {\n",
       "        vertical-align: top;\n",
       "    }\n",
       "\n",
       "    .dataframe thead th {\n",
       "        text-align: right;\n",
       "    }\n",
       "</style>\n",
       "<table border=\"1\" class=\"dataframe\">\n",
       "  <thead>\n",
       "    <tr style=\"text-align: right;\">\n",
       "      <th></th>\n",
       "      <th>ID</th>\n",
       "      <th>Customer_ID</th>\n",
       "      <th>Month</th>\n",
       "      <th>Name</th>\n",
       "      <th>Age</th>\n",
       "      <th>SSN</th>\n",
       "      <th>Occupation</th>\n",
       "      <th>Annual_Income</th>\n",
       "      <th>Monthly_Inhand_Salary</th>\n",
       "      <th>Num_Bank_Accounts</th>\n",
       "      <th>...</th>\n",
       "      <th>Credit_Mix</th>\n",
       "      <th>Outstanding_Debt</th>\n",
       "      <th>Credit_Utilization_Ratio</th>\n",
       "      <th>Credit_History_Age</th>\n",
       "      <th>Payment_of_Min_Amount</th>\n",
       "      <th>Total_EMI_per_month</th>\n",
       "      <th>Amount_invested_monthly</th>\n",
       "      <th>Payment_Behaviour</th>\n",
       "      <th>Monthly_Balance</th>\n",
       "      <th>Credit_Score</th>\n",
       "    </tr>\n",
       "  </thead>\n",
       "  <tbody>\n",
       "    <tr>\n",
       "      <th>0</th>\n",
       "      <td>0x1602</td>\n",
       "      <td>CUS_0xd40</td>\n",
       "      <td>January</td>\n",
       "      <td>Aaron Maashoh</td>\n",
       "      <td>23</td>\n",
       "      <td>821-00-0265</td>\n",
       "      <td>Scientist</td>\n",
       "      <td>19114.12</td>\n",
       "      <td>1824.843333</td>\n",
       "      <td>3</td>\n",
       "      <td>...</td>\n",
       "      <td>_</td>\n",
       "      <td>809.98</td>\n",
       "      <td>26.822620</td>\n",
       "      <td>265.0</td>\n",
       "      <td>2</td>\n",
       "      <td>49.574949</td>\n",
       "      <td>80.41529543900253</td>\n",
       "      <td>4.0</td>\n",
       "      <td>312.494089</td>\n",
       "      <td>Good</td>\n",
       "    </tr>\n",
       "    <tr>\n",
       "      <th>1</th>\n",
       "      <td>0x1603</td>\n",
       "      <td>CUS_0xd40</td>\n",
       "      <td>February</td>\n",
       "      <td>Aaron Maashoh</td>\n",
       "      <td>23</td>\n",
       "      <td>821-00-0265</td>\n",
       "      <td>Scientist</td>\n",
       "      <td>19114.12</td>\n",
       "      <td>1824.843333</td>\n",
       "      <td>3</td>\n",
       "      <td>...</td>\n",
       "      <td>Good</td>\n",
       "      <td>809.98</td>\n",
       "      <td>31.944960</td>\n",
       "      <td>267.5</td>\n",
       "      <td>2</td>\n",
       "      <td>49.574949</td>\n",
       "      <td>118.28022162236736</td>\n",
       "      <td>3.0</td>\n",
       "      <td>284.629162</td>\n",
       "      <td>Good</td>\n",
       "    </tr>\n",
       "    <tr>\n",
       "      <th>2</th>\n",
       "      <td>0x1604</td>\n",
       "      <td>CUS_0xd40</td>\n",
       "      <td>March</td>\n",
       "      <td>Aaron Maashoh</td>\n",
       "      <td>-500</td>\n",
       "      <td>821-00-0265</td>\n",
       "      <td>Scientist</td>\n",
       "      <td>19114.12</td>\n",
       "      <td>1824.843333</td>\n",
       "      <td>3</td>\n",
       "      <td>...</td>\n",
       "      <td>Good</td>\n",
       "      <td>809.98</td>\n",
       "      <td>28.609352</td>\n",
       "      <td>267.0</td>\n",
       "      <td>2</td>\n",
       "      <td>49.574949</td>\n",
       "      <td>81.699521264648</td>\n",
       "      <td>2.0</td>\n",
       "      <td>331.209863</td>\n",
       "      <td>Good</td>\n",
       "    </tr>\n",
       "    <tr>\n",
       "      <th>3</th>\n",
       "      <td>0x1605</td>\n",
       "      <td>CUS_0xd40</td>\n",
       "      <td>April</td>\n",
       "      <td>Aaron Maashoh</td>\n",
       "      <td>23</td>\n",
       "      <td>821-00-0265</td>\n",
       "      <td>Scientist</td>\n",
       "      <td>19114.12</td>\n",
       "      <td>1824.843333</td>\n",
       "      <td>3</td>\n",
       "      <td>...</td>\n",
       "      <td>Good</td>\n",
       "      <td>809.98</td>\n",
       "      <td>31.377862</td>\n",
       "      <td>268.0</td>\n",
       "      <td>2</td>\n",
       "      <td>49.574949</td>\n",
       "      <td>199.4580743910713</td>\n",
       "      <td>1.0</td>\n",
       "      <td>223.451310</td>\n",
       "      <td>Good</td>\n",
       "    </tr>\n",
       "    <tr>\n",
       "      <th>4</th>\n",
       "      <td>0x1606</td>\n",
       "      <td>CUS_0xd40</td>\n",
       "      <td>May</td>\n",
       "      <td>Aaron Maashoh</td>\n",
       "      <td>23</td>\n",
       "      <td>821-00-0265</td>\n",
       "      <td>Scientist</td>\n",
       "      <td>19114.12</td>\n",
       "      <td>1824.843333</td>\n",
       "      <td>3</td>\n",
       "      <td>...</td>\n",
       "      <td>Good</td>\n",
       "      <td>809.98</td>\n",
       "      <td>24.797347</td>\n",
       "      <td>269.0</td>\n",
       "      <td>2</td>\n",
       "      <td>49.574949</td>\n",
       "      <td>41.420153086217326</td>\n",
       "      <td>5.0</td>\n",
       "      <td>341.489231</td>\n",
       "      <td>Good</td>\n",
       "    </tr>\n",
       "  </tbody>\n",
       "</table>\n",
       "<p>5 rows × 28 columns</p>\n",
       "</div>"
      ],
      "text/plain": [
       "       ID Customer_ID     Month           Name   Age          SSN Occupation  \\\n",
       "0  0x1602   CUS_0xd40   January  Aaron Maashoh    23  821-00-0265  Scientist   \n",
       "1  0x1603   CUS_0xd40  February  Aaron Maashoh    23  821-00-0265  Scientist   \n",
       "2  0x1604   CUS_0xd40     March  Aaron Maashoh  -500  821-00-0265  Scientist   \n",
       "3  0x1605   CUS_0xd40     April  Aaron Maashoh    23  821-00-0265  Scientist   \n",
       "4  0x1606   CUS_0xd40       May  Aaron Maashoh    23  821-00-0265  Scientist   \n",
       "\n",
       "   Annual_Income  Monthly_Inhand_Salary  Num_Bank_Accounts  ...  Credit_Mix  \\\n",
       "0       19114.12            1824.843333                  3  ...           _   \n",
       "1       19114.12            1824.843333                  3  ...        Good   \n",
       "2       19114.12            1824.843333                  3  ...        Good   \n",
       "3       19114.12            1824.843333                  3  ...        Good   \n",
       "4       19114.12            1824.843333                  3  ...        Good   \n",
       "\n",
       "   Outstanding_Debt  Credit_Utilization_Ratio Credit_History_Age  \\\n",
       "0            809.98                 26.822620              265.0   \n",
       "1            809.98                 31.944960              267.5   \n",
       "2            809.98                 28.609352              267.0   \n",
       "3            809.98                 31.377862              268.0   \n",
       "4            809.98                 24.797347              269.0   \n",
       "\n",
       "   Payment_of_Min_Amount  Total_EMI_per_month Amount_invested_monthly  \\\n",
       "0                      2            49.574949       80.41529543900253   \n",
       "1                      2            49.574949      118.28022162236736   \n",
       "2                      2            49.574949         81.699521264648   \n",
       "3                      2            49.574949       199.4580743910713   \n",
       "4                      2            49.574949      41.420153086217326   \n",
       "\n",
       "   Payment_Behaviour Monthly_Balance  Credit_Score  \n",
       "0                4.0      312.494089          Good  \n",
       "1                3.0      284.629162          Good  \n",
       "2                2.0      331.209863          Good  \n",
       "3                1.0      223.451310          Good  \n",
       "4                5.0      341.489231          Good  \n",
       "\n",
       "[5 rows x 28 columns]"
      ]
     },
     "execution_count": 2592,
     "metadata": {},
     "output_type": "execute_result"
    }
   ],
   "source": [
    "final_dataset.head()"
   ]
  },
  {
   "cell_type": "code",
   "execution_count": 2593,
   "metadata": {},
   "outputs": [],
   "source": [
    "#Using the Inter Quantile Range to drop outliers\n",
    "Q1 = final_dataset.Annual_Income.quantile(0.25)\n",
    "Q3 = final_dataset.Annual_Income.quantile(0.75)\n",
    "\n",
    "IQR = Q3 - Q1\n",
    "final_dataset = final_dataset.drop(final_dataset.loc[final_dataset['Annual_Income'] > (Q3 + 1.5 * IQR)].index)\n",
    "final_dataset = final_dataset.drop(final_dataset.loc[final_dataset['Annual_Income'] < (Q1-1.5*IQR)].index)"
   ]
  },
  {
   "cell_type": "code",
   "execution_count": 2594,
   "metadata": {},
   "outputs": [
    {
     "data": {
      "text/plain": [
       "<AxesSubplot:xlabel='Annual_Income'>"
      ]
     },
     "execution_count": 2594,
     "metadata": {},
     "output_type": "execute_result"
    },
    {
     "data": {
      "image/png": "[encoded data removed]",
      "text/plain": [
       "<Figure size 2000x1000 with 1 Axes>"
      ]
     },
     "metadata": {},
     "output_type": "display_data"
    }
   ],
   "source": [
    "sns.boxplot(x=final_dataset['Annual_Income'])"
   ]
  },
  {
   "cell_type": "code",
   "execution_count": 2595,
   "metadata": {},
   "outputs": [
    {
     "data": {
      "text/plain": [
       "<AxesSubplot:xlabel='Credit_History_Age'>"
      ]
     },
     "execution_count": 2595,
     "metadata": {},
     "output_type": "execute_result"
    },
    {
     "data": {
      "image/png": "[encoded data removed]",
      "text/plain": [
       "<Figure size 2000x1000 with 1 Axes>"
      ]
     },
     "metadata": {},
     "output_type": "display_data"
    }
   ],
   "source": [
    "sns.boxplot(x=final_dataset['Credit_History_Age'])"
   ]
  },
  {
   "cell_type": "code",
   "execution_count": 2596,
   "metadata": {
    "scrolled": true
   },
   "outputs": [
    {
     "data": {
      "text/plain": [
       "<AxesSubplot:xlabel='Outstanding_Debt'>"
      ]
     },
     "execution_count": 2596,
     "metadata": {},
     "output_type": "execute_result"
    },
    {
     "data": {
      "image/png": "[encoded data removed]",
      "text/plain": [
       "<Figure size 2000x1000 with 1 Axes>"
      ]
     },
     "metadata": {},
     "output_type": "display_data"
    }
   ],
   "source": [
    "sns.boxplot(x=final_dataset['Outstanding_Debt'])"
   ]
  },
  {
   "cell_type": "code",
   "execution_count": 2597,
   "metadata": {},
   "outputs": [
    {
     "data": {
      "text/plain": [
       "Lawyer           5897\n",
       "Architect        5712\n",
       "Engineer         5707\n",
       "Mechanic         5663\n",
       "Scientist        5642\n",
       "Teacher          5610\n",
       "Accountant       5595\n",
       "Media_Manager    5587\n",
       "Entrepreneur     5584\n",
       "Developer        5576\n",
       "Journalist       5477\n",
       "Doctor           5461\n",
       "Manager          5361\n",
       "Musician         5327\n",
       "Writer           5302\n",
       "Name: Occupation, dtype: int64"
      ]
     },
     "execution_count": 2597,
     "metadata": {},
     "output_type": "execute_result"
    }
   ],
   "source": [
    "#Occupation count\n",
    "counting_occupation = final_dataset['Occupation'].value_counts(dropna=False)\n",
    "counting_occupation"
   ]
  },
  {
   "cell_type": "code",
   "execution_count": 2598,
   "metadata": {},
   "outputs": [
    {
     "data": {
      "image/png": "[encoded data removed]",
      "text/plain": [
       "<Figure size 2000x1000 with 1 Axes>"
      ]
     },
     "metadata": {},
     "output_type": "display_data"
    }
   ],
   "source": [
    "#Bar graph for occupations\n",
    "sns.set(rc={'figure.figsize':(20,10)})\n",
    "sns.barplot(x=counting_occupation.index, y=counting_occupation.values)\n",
    "plt.title('Bar graph for different occupations', fontsize=16)\n",
    "plt.ylabel('Count', fontsize=14)\n",
    "plt.xlabel('Occupation', fontsize=14)\n",
    "plt.xticks(rotation=45)\n",
    "plt.show()"
   ]
  },
  {
   "cell_type": "markdown",
   "metadata": {
    "id": "IjtsQvuEZKWh"
   },
   "source": [
    "Lets work on the outliers in different columns like \"Num_of_Delayed_Payment\", \"Total_EMI_per_month\", \"Num_of_Loan\" and \"Annual_Income\""
   ]
  },
  {
   "cell_type": "code",
   "execution_count": 2599,
   "metadata": {
    "id": "-1xyr1Y5Zsq3"
   },
   "outputs": [],
   "source": [
    "#sorted(final_dataset['Num_of_Delayed_Payment'])"
   ]
  },
  {
   "cell_type": "code",
   "execution_count": 2600,
   "metadata": {
    "id": "Z5sEBzKBbmjF"
   },
   "outputs": [],
   "source": [
    "#quantile1, quantile3 = np.percentile(final_dataset['Num_of_Delayed_Payment'],[25,75])"
   ]
  },
  {
   "cell_type": "code",
   "execution_count": 2601,
   "metadata": {
    "id": "WNS9n_ryoAFL"
   },
   "outputs": [],
   "source": [
    "#print(quantile1,quantile3)"
   ]
  },
  {
   "cell_type": "code",
   "execution_count": 2602,
   "metadata": {
    "id": "wiILUw26oItg"
   },
   "outputs": [],
   "source": [
    "#iqr_value = quantile3 - quantile1\n",
    "#print(iqr_value)"
   ]
  },
  {
   "cell_type": "markdown",
   "metadata": {
    "id": "B22gnpMHojuo"
   },
   "source": [
    "#lowerbound = quantile1 - (1.5 * iqr_value)\n",
    "#upperbound = quantile3 + (1.5 * iqr_value)\n",
    "#print(lowerbound,upperbound)"
   ]
  },
  {
   "cell_type": "markdown",
   "metadata": {},
   "source": [
    "# Credit score card modelling using Weight of Evidence and information value"
   ]
  },
  {
   "cell_type": "code",
   "execution_count": 2603,
   "metadata": {},
   "outputs": [
    {
     "name": "stdout",
     "output_type": "stream",
     "text": [
      "<class 'pandas.core.frame.DataFrame'>\n",
      "Int64Index: 83501 entries, 0 to 85851\n",
      "Data columns (total 28 columns):\n",
      " #   Column                    Non-Null Count  Dtype   \n",
      "---  ------                    --------------  -----   \n",
      " 0   ID                        83501 non-null  object  \n",
      " 1   Customer_ID               83501 non-null  category\n",
      " 2   Month                     83501 non-null  object  \n",
      " 3   Name                      75159 non-null  object  \n",
      " 4   Age                       83501 non-null  object  \n",
      " 5   SSN                       83501 non-null  object  \n",
      " 6   Occupation                83501 non-null  object  \n",
      " 7   Annual_Income             83501 non-null  float64 \n",
      " 8   Monthly_Inhand_Salary     83501 non-null  float64 \n",
      " 9   Num_Bank_Accounts         83501 non-null  int64   \n",
      " 10  Num_Credit_Card           83501 non-null  int64   \n",
      " 11  Interest_Rate             83501 non-null  int64   \n",
      " 12  Num_of_Loan               83501 non-null  float64 \n",
      " 13  Type_of_Loan              74146 non-null  object  \n",
      " 14  Delay_from_due_date       83501 non-null  float64 \n",
      " 15  Num_of_Delayed_Payment    83501 non-null  float64 \n",
      " 16  Changed_Credit_Limit      83501 non-null  object  \n",
      " 17  Num_Credit_Inquiries      81857 non-null  float64 \n",
      " 18  Credit_Mix                83501 non-null  object  \n",
      " 19  Outstanding_Debt          83501 non-null  float64 \n",
      " 20  Credit_Utilization_Ratio  83501 non-null  float64 \n",
      " 21  Credit_History_Age        83501 non-null  float64 \n",
      " 22  Payment_of_Min_Amount     83501 non-null  int64   \n",
      " 23  Total_EMI_per_month       83501 non-null  float64 \n",
      " 24  Amount_invested_monthly   79775 non-null  object  \n",
      " 25  Payment_Behaviour         83501 non-null  float64 \n",
      " 26  Monthly_Balance           83501 non-null  float64 \n",
      " 27  Credit_Score              83501 non-null  object  \n",
      "dtypes: category(1), float64(12), int64(4), object(11)\n",
      "memory usage: 18.3+ MB\n"
     ]
    }
   ],
   "source": [
    "final_dataset.info()"
   ]
  },
  {
   "cell_type": "code",
   "execution_count": 2604,
   "metadata": {},
   "outputs": [],
   "source": [
    "#Removing features \n",
    "sc_dataset = final_dataset.drop(columns=['ID', 'Customer_ID','Month','Name', 'Monthly_Inhand_Salary','Interest_Rate','Num_of_Loan','Num_Bank_Accounts','SSN','Changed_Credit_Limit', 'Credit_Mix', 'Num_Credit_Inquiries', 'Credit_Utilization_Ratio', 'Amount_invested_monthly','Type_of_Loan'], axis=1)"
   ]
  },
  {
   "cell_type": "code",
   "execution_count": 2605,
   "metadata": {},
   "outputs": [
    {
     "data": {
      "text/plain": [
       "0     2\n",
       "1     2\n",
       "2     2\n",
       "3     2\n",
       "4     2\n",
       "5     2\n",
       "6     2\n",
       "7     2\n",
       "8     2\n",
       "9     2\n",
       "10    2\n",
       "11    2\n",
       "12    0\n",
       "13    2\n",
       "14    2\n",
       "15    2\n",
       "16    2\n",
       "17    2\n",
       "18    2\n",
       "19    2\n",
       "Name: Payment_of_Min_Amount, dtype: int64"
      ]
     },
     "execution_count": 2605,
     "metadata": {},
     "output_type": "execute_result"
    }
   ],
   "source": [
    "sc_dataset['Payment_of_Min_Amount'].head(20)"
   ]
  },
  {
   "cell_type": "code",
   "execution_count": null,
   "metadata": {},
   "outputs": [],
   "source": []
  },
  {
   "cell_type": "code",
   "execution_count": 2606,
   "metadata": {},
   "outputs": [
    {
     "name": "stderr",
     "output_type": "stream",
     "text": [
      "/var/folders/nf/g_4jhvds3hl6w0x8k1y827z80000gn/T/ipykernel_12768/88797409.py:10: FutureWarning: The default value of regex will change from True to False in a future version. In addition, single character regular expressions will *not* be treated as literal strings when regex=True.\n",
      "  sc_dataset[i] = sc_dataset[i].astype(str).str.replace(c,'')\n",
      "/var/folders/nf/g_4jhvds3hl6w0x8k1y827z80000gn/T/ipykernel_12768/88797409.py:14: FutureWarning: The default value of regex will change from True to False in a future version. In addition, single character regular expressions will *not* be treated as literal strings when regex=True.\n",
      "  sc_dataset[i] = sc_dataset[i].astype(str).str.replace(c,'')\n"
     ]
    },
    {
     "data": {
      "text/html": [
       "<div>\n",
       "<style scoped>\n",
       "    .dataframe tbody tr th:only-of-type {\n",
       "        vertical-align: middle;\n",
       "    }\n",
       "\n",
       "    .dataframe tbody tr th {\n",
       "        vertical-align: top;\n",
       "    }\n",
       "\n",
       "    .dataframe thead th {\n",
       "        text-align: right;\n",
       "    }\n",
       "</style>\n",
       "<table border=\"1\" class=\"dataframe\">\n",
       "  <thead>\n",
       "    <tr style=\"text-align: right;\">\n",
       "      <th></th>\n",
       "      <th>Age</th>\n",
       "      <th>Occupation</th>\n",
       "      <th>Annual_Income</th>\n",
       "      <th>Num_Credit_Card</th>\n",
       "      <th>Delay_from_due_date</th>\n",
       "      <th>Num_of_Delayed_Payment</th>\n",
       "      <th>Outstanding_Debt</th>\n",
       "      <th>Credit_History_Age</th>\n",
       "      <th>Payment_of_Min_Amount</th>\n",
       "      <th>Total_EMI_per_month</th>\n",
       "      <th>Payment_Behaviour</th>\n",
       "      <th>Monthly_Balance</th>\n",
       "      <th>Credit_Score</th>\n",
       "    </tr>\n",
       "  </thead>\n",
       "  <tbody>\n",
       "    <tr>\n",
       "      <th>0</th>\n",
       "      <td>23</td>\n",
       "      <td>Scientist</td>\n",
       "      <td>19114.12</td>\n",
       "      <td>4</td>\n",
       "      <td>3.0</td>\n",
       "      <td>7.0</td>\n",
       "      <td>809.98</td>\n",
       "      <td>265.0</td>\n",
       "      <td>2</td>\n",
       "      <td>49.57494921489417</td>\n",
       "      <td>4.0</td>\n",
       "      <td>312.49408867943663</td>\n",
       "      <td>Good</td>\n",
       "    </tr>\n",
       "    <tr>\n",
       "      <th>1</th>\n",
       "      <td>23</td>\n",
       "      <td>Scientist</td>\n",
       "      <td>19114.12</td>\n",
       "      <td>4</td>\n",
       "      <td>-1.0</td>\n",
       "      <td>6.5</td>\n",
       "      <td>809.98</td>\n",
       "      <td>267.5</td>\n",
       "      <td>2</td>\n",
       "      <td>49.57494921489417</td>\n",
       "      <td>3.0</td>\n",
       "      <td>284.62916249607184</td>\n",
       "      <td>Good</td>\n",
       "    </tr>\n",
       "    <tr>\n",
       "      <th>2</th>\n",
       "      <td>-500</td>\n",
       "      <td>Scientist</td>\n",
       "      <td>19114.12</td>\n",
       "      <td>4</td>\n",
       "      <td>3.0</td>\n",
       "      <td>7.0</td>\n",
       "      <td>809.98</td>\n",
       "      <td>267.0</td>\n",
       "      <td>2</td>\n",
       "      <td>49.57494921489417</td>\n",
       "      <td>2.0</td>\n",
       "      <td>331.2098628537912</td>\n",
       "      <td>Good</td>\n",
       "    </tr>\n",
       "    <tr>\n",
       "      <th>3</th>\n",
       "      <td>23</td>\n",
       "      <td>Scientist</td>\n",
       "      <td>19114.12</td>\n",
       "      <td>4</td>\n",
       "      <td>5.0</td>\n",
       "      <td>4.0</td>\n",
       "      <td>809.98</td>\n",
       "      <td>268.0</td>\n",
       "      <td>2</td>\n",
       "      <td>49.57494921489417</td>\n",
       "      <td>1.0</td>\n",
       "      <td>223.45130972736786</td>\n",
       "      <td>Good</td>\n",
       "    </tr>\n",
       "    <tr>\n",
       "      <th>4</th>\n",
       "      <td>23</td>\n",
       "      <td>Scientist</td>\n",
       "      <td>19114.12</td>\n",
       "      <td>4</td>\n",
       "      <td>6.0</td>\n",
       "      <td>6.5</td>\n",
       "      <td>809.98</td>\n",
       "      <td>269.0</td>\n",
       "      <td>2</td>\n",
       "      <td>49.57494921489417</td>\n",
       "      <td>5.0</td>\n",
       "      <td>341.48923103222177</td>\n",
       "      <td>Good</td>\n",
       "    </tr>\n",
       "  </tbody>\n",
       "</table>\n",
       "</div>"
      ],
      "text/plain": [
       "    Age Occupation Annual_Income  Num_Credit_Card Delay_from_due_date  \\\n",
       "0    23  Scientist      19114.12                4                 3.0   \n",
       "1    23  Scientist      19114.12                4                -1.0   \n",
       "2  -500  Scientist      19114.12                4                 3.0   \n",
       "3    23  Scientist      19114.12                4                 5.0   \n",
       "4    23  Scientist      19114.12                4                 6.0   \n",
       "\n",
       "  Num_of_Delayed_Payment Outstanding_Debt Credit_History_Age  \\\n",
       "0                    7.0           809.98              265.0   \n",
       "1                    6.5           809.98              267.5   \n",
       "2                    7.0           809.98              267.0   \n",
       "3                    4.0           809.98              268.0   \n",
       "4                    6.5           809.98              269.0   \n",
       "\n",
       "  Payment_of_Min_Amount Total_EMI_per_month  Payment_Behaviour  \\\n",
       "0                     2   49.57494921489417                4.0   \n",
       "1                     2   49.57494921489417                3.0   \n",
       "2                     2   49.57494921489417                2.0   \n",
       "3                     2   49.57494921489417                1.0   \n",
       "4                     2   49.57494921489417                5.0   \n",
       "\n",
       "      Monthly_Balance Credit_Score  \n",
       "0  312.49408867943663         Good  \n",
       "1  284.62916249607184         Good  \n",
       "2   331.2098628537912         Good  \n",
       "3  223.45130972736786         Good  \n",
       "4  341.48923103222177         Good  "
      ]
     },
     "execution_count": 2606,
     "metadata": {},
     "output_type": "execute_result"
    }
   ],
   "source": [
    "# Revise the incorrect data\n",
    "sym = '\\\\`*_{}[]()>#@+!$:;'\n",
    "col_int = ['Age','Annual_Income','Delay_from_due_date','Num_of_Delayed_Payment',\n",
    "           'Outstanding_Debt','Total_EMI_per_month', 'Monthly_Balance']\n",
    "\n",
    "col_str = ['Occupation', 'Credit_History_Age','Payment_of_Min_Amount','Credit_Score']\n",
    "\n",
    "for i in col_int:\n",
    "    for c in sym:\n",
    "        sc_dataset[i] = sc_dataset[i].astype(str).str.replace(c,'')\n",
    "        \n",
    "for i in col_str:\n",
    "    for c in sym:\n",
    "        sc_dataset[i] = sc_dataset[i].astype(str).str.replace(c,'')\n",
    "\n",
    "sc_dataset.head()"
   ]
  },
  {
   "cell_type": "code",
   "execution_count": 2607,
   "metadata": {
    "scrolled": true
   },
   "outputs": [
    {
     "name": "stdout",
     "output_type": "stream",
     "text": [
      "<class 'pandas.core.frame.DataFrame'>\n",
      "Int64Index: 83501 entries, 0 to 85851\n",
      "Data columns (total 13 columns):\n",
      " #   Column                  Non-Null Count  Dtype  \n",
      "---  ------                  --------------  -----  \n",
      " 0   Age                     83501 non-null  object \n",
      " 1   Occupation              83501 non-null  object \n",
      " 2   Annual_Income           83501 non-null  object \n",
      " 3   Num_Credit_Card         83501 non-null  int64  \n",
      " 4   Delay_from_due_date     83501 non-null  object \n",
      " 5   Num_of_Delayed_Payment  83501 non-null  object \n",
      " 6   Outstanding_Debt        83501 non-null  object \n",
      " 7   Credit_History_Age      83501 non-null  object \n",
      " 8   Payment_of_Min_Amount   83501 non-null  object \n",
      " 9   Total_EMI_per_month     83501 non-null  object \n",
      " 10  Payment_Behaviour       83501 non-null  float64\n",
      " 11  Monthly_Balance         83501 non-null  object \n",
      " 12  Credit_Score            83501 non-null  object \n",
      "dtypes: float64(1), int64(1), object(11)\n",
      "memory usage: 8.9+ MB\n"
     ]
    }
   ],
   "source": [
    "#Explore the sc_dataset\n",
    "sc_dataset.info()"
   ]
  },
  {
   "cell_type": "code",
   "execution_count": 2638,
   "metadata": {
    "scrolled": true
   },
   "outputs": [],
   "source": [
    "sc_dataset['Num_of_Delayed_Payment'] = sc_dataset['Num_of_Delayed_Payment'].astype(str).str.replace('-','0')"
   ]
  },
  {
   "cell_type": "code",
   "execution_count": 2639,
   "metadata": {},
   "outputs": [
    {
     "data": {
      "text/plain": [
       "Age                       float64\n",
       "Occupation                 object\n",
       "Annual_Income             float64\n",
       "Num_Credit_Card             int64\n",
       "Delay_from_due_date       float64\n",
       "Num_of_Delayed_Payment    float64\n",
       "Outstanding_Debt          float64\n",
       "Credit_History_Age        float64\n",
       "Payment_of_Min_Amount      object\n",
       "Total_EMI_per_month       float64\n",
       "Payment_Behaviour         float64\n",
       "Monthly_Balance           float64\n",
       "Credit_Score               object\n",
       "Delay_from_due_datet      float64\n",
       "good_bad                    int64\n",
       "dtype: object"
      ]
     },
     "execution_count": 2639,
     "metadata": {},
     "output_type": "execute_result"
    }
   ],
   "source": [
    "col_int2 = ['Age', 'Delay_from_due_date','Num_of_Delayed_Payment','Outstanding_Debt',\n",
    "           'Total_EMI_per_month','Monthly_Balance','Payment_Behaviour','Credit_History_Age','Annual_Income']\n",
    "\n",
    "for i in col_int2:\n",
    "    sc_dataset[i] = sc_dataset[i].astype(float)\n",
    "sc_dataset.dtypes"
   ]
  },
  {
   "cell_type": "code",
   "execution_count": 2640,
   "metadata": {},
   "outputs": [],
   "source": [
    "#Adjusting negative values to 0\n",
    "neg_col = ['Delay_from_due_date','Num_of_Delayed_Payment']\n",
    "\n",
    "\n",
    "\n",
    "for i in neg_col:\n",
    "    sc_dataset.loc[sc_dataset[i] < 0, i] *= 0 * sc_dataset[i]\n",
    "    "
   ]
  },
  {
   "cell_type": "code",
   "execution_count": 2641,
   "metadata": {},
   "outputs": [
    {
     "data": {
      "text/plain": [
       "0    Scientist\n",
       "1    Scientist\n",
       "2    Scientist\n",
       "3    Scientist\n",
       "4    Scientist\n",
       "5    Scientist\n",
       "6    Scientist\n",
       "7      Teacher\n",
       "8      Teacher\n",
       "9      Teacher\n",
       "Name: Occupation, dtype: object"
      ]
     },
     "execution_count": 2641,
     "metadata": {},
     "output_type": "execute_result"
    }
   ],
   "source": [
    "sc_dataset['Occupation'].head(10)"
   ]
  },
  {
   "cell_type": "code",
   "execution_count": 2643,
   "metadata": {},
   "outputs": [],
   "source": [
    "#Using the Inter Quantile Range to drop outliers in age\n",
    "\n",
    "sc_dataset['Age'] = pd.to_numeric(sc_dataset['Age'])\n",
    "median_age = sc_dataset['Age'].median()\n",
    "sc_dataset.loc[sc_dataset['Age'] < 18, 'Age'] = median_age \n",
    "sc_dataset.loc[sc_dataset['Delay_from_due_date'] < 1, 'Delay_from_due_date'] = 0 "
   ]
  },
  {
   "cell_type": "code",
   "execution_count": 2652,
   "metadata": {},
   "outputs": [],
   "source": [
    "#create a new column based on delayed payments to be our target variable\n",
    "sc_dataset['good_bad'] = np.where(sc_dataset['Payment_Behaviour'] < 2, 0,1)\n",
    "\n",
    "\n",
    "#We would drop the original value of delayed payments\n",
    "sc_dataset  = sc_dataset.drop(columns = ['Payment_Behaviour','Credit_Score','Delay_from_due_datet'],axis=1)\n"
   ]
  },
  {
   "cell_type": "code",
   "execution_count": 2655,
   "metadata": {},
   "outputs": [],
   "source": [
    "# Split data into testing and training data by 20:80 keeping the distribution of bad loans in the test as that in the pre-split dataset\n",
    "X = sc_dataset.drop(columns=['good_bad'], axis=1)\n",
    "y = sc_dataset['good_bad'] \n",
    "\n",
    "\n",
    "X_train, X_test, y_train, y_test = train_test_split(X, y, test_size = 0.2, random_state=42, stratify=y)\n",
    "\n",
    "#Hard copying to avoid errors from Pandas\n",
    "X_train, X_test = X_train.copy(), X_test.copy()"
   ]
  },
  {
   "cell_type": "code",
   "execution_count": 2656,
   "metadata": {},
   "outputs": [
    {
     "data": {
      "text/plain": [
       "Age                       0\n",
       "Occupation                0\n",
       "Annual_Income             0\n",
       "Num_Credit_Card           0\n",
       "Delay_from_due_date       0\n",
       "Num_of_Delayed_Payment    0\n",
       "Outstanding_Debt          0\n",
       "Credit_History_Age        0\n",
       "Payment_of_Min_Amount     0\n",
       "Total_EMI_per_month       0\n",
       "Monthly_Balance           0\n",
       "dtype: int64"
      ]
     },
     "execution_count": 2656,
     "metadata": {},
     "output_type": "execute_result"
    }
   ],
   "source": [
    "X_train.isna().sum()"
   ]
  },
  {
   "cell_type": "markdown",
   "metadata": {},
   "source": [
    "### Feature selection"
   ]
  },
  {
   "cell_type": "code",
   "execution_count": 2669,
   "metadata": {},
   "outputs": [],
   "source": [
    "#DIviding variables into categorical and numerical features\n",
    "\n",
    "X_train_cat = X_train.select_dtypes(include = 'object').copy()\n",
    "X_train_num = X_train.select_dtypes(include = 'float').copy()"
   ]
  },
  {
   "cell_type": "raw",
   "metadata": {},
   "source": [
    "#Chi-square statistic for categorical features"
   ]
  },
  {
   "cell_type": "code",
   "execution_count": 2670,
   "metadata": {},
   "outputs": [
    {
     "data": {
      "text/html": [
       "<div>\n",
       "<style scoped>\n",
       "    .dataframe tbody tr th:only-of-type {\n",
       "        vertical-align: middle;\n",
       "    }\n",
       "\n",
       "    .dataframe tbody tr th {\n",
       "        vertical-align: top;\n",
       "    }\n",
       "\n",
       "    .dataframe thead th {\n",
       "        text-align: right;\n",
       "    }\n",
       "</style>\n",
       "<table border=\"1\" class=\"dataframe\">\n",
       "  <thead>\n",
       "    <tr style=\"text-align: right;\">\n",
       "      <th></th>\n",
       "      <th>Feature</th>\n",
       "      <th>p-value</th>\n",
       "    </tr>\n",
       "  </thead>\n",
       "  <tbody>\n",
       "    <tr>\n",
       "      <th>0</th>\n",
       "      <td>Payment_of_Min_Amount</td>\n",
       "      <td>0.000000</td>\n",
       "    </tr>\n",
       "    <tr>\n",
       "      <th>1</th>\n",
       "      <td>Occupation</td>\n",
       "      <td>0.568384</td>\n",
       "    </tr>\n",
       "  </tbody>\n",
       "</table>\n",
       "</div>"
      ],
      "text/plain": [
       "                 Feature   p-value\n",
       "0  Payment_of_Min_Amount  0.000000\n",
       "1             Occupation  0.568384"
      ]
     },
     "execution_count": 2670,
     "metadata": {},
     "output_type": "execute_result"
    }
   ],
   "source": [
    "#Empty dictionary to store chi-squared test results\n",
    "chiSq_check = {}\n",
    "\n",
    "#loop over column in the training set to calculate chi-statistics with the largest variable\n",
    "for column in X_train_cat:\n",
    "    chi, p, dot, ex = chi2_contingency(pd.crosstab(y_train, X_train_cat[column]))\n",
    "    chiSq_check.setdefault('Feature',[]).append(column)\n",
    "    chiSq_check.setdefault('p-value',[]).append(round(p, 10))\n",
    "    \n",
    "#convert the dictionary to a DF\n",
    "chiSq_result = pd.DataFrame(data = chiSq_check)\n",
    "chiSq_result.sort_values(by = ['p-value'], ascending = True, ignore_index = True, inplace = True)\n",
    "chiSq_result\n"
   ]
  },
  {
   "cell_type": "markdown",
   "metadata": {},
   "source": [
    "### ANOVA F-Statistic for numerical features"
   ]
  },
  {
   "cell_type": "raw",
   "metadata": {},
   "source": [
    "# Multicle"
   ]
  },
  {
   "cell_type": "code",
   "execution_count": 2672,
   "metadata": {},
   "outputs": [
    {
     "data": {
      "text/html": [
       "<div>\n",
       "<style scoped>\n",
       "    .dataframe tbody tr th:only-of-type {\n",
       "        vertical-align: middle;\n",
       "    }\n",
       "\n",
       "    .dataframe tbody tr th {\n",
       "        vertical-align: top;\n",
       "    }\n",
       "\n",
       "    .dataframe thead th {\n",
       "        text-align: right;\n",
       "    }\n",
       "</style>\n",
       "<table border=\"1\" class=\"dataframe\">\n",
       "  <thead>\n",
       "    <tr style=\"text-align: right;\">\n",
       "      <th></th>\n",
       "      <th>Numerical_Feature</th>\n",
       "      <th>F-Score</th>\n",
       "      <th>p values</th>\n",
       "    </tr>\n",
       "  </thead>\n",
       "  <tbody>\n",
       "    <tr>\n",
       "      <th>0</th>\n",
       "      <td>Annual_Income</td>\n",
       "      <td>5661.451993</td>\n",
       "      <td>0.000000</td>\n",
       "    </tr>\n",
       "    <tr>\n",
       "      <th>1</th>\n",
       "      <td>Outstanding_Debt</td>\n",
       "      <td>569.094496</td>\n",
       "      <td>0.000000</td>\n",
       "    </tr>\n",
       "    <tr>\n",
       "      <th>2</th>\n",
       "      <td>Delay_from_due_date</td>\n",
       "      <td>428.193541</td>\n",
       "      <td>0.000000</td>\n",
       "    </tr>\n",
       "    <tr>\n",
       "      <th>3</th>\n",
       "      <td>Credit_History_Age</td>\n",
       "      <td>388.091327</td>\n",
       "      <td>0.000000</td>\n",
       "    </tr>\n",
       "    <tr>\n",
       "      <th>4</th>\n",
       "      <td>Age</td>\n",
       "      <td>6.264682</td>\n",
       "      <td>0.012319</td>\n",
       "    </tr>\n",
       "    <tr>\n",
       "      <th>5</th>\n",
       "      <td>Num_of_Delayed_Payment</td>\n",
       "      <td>0.805751</td>\n",
       "      <td>0.369383</td>\n",
       "    </tr>\n",
       "    <tr>\n",
       "      <th>6</th>\n",
       "      <td>Total_EMI_per_month</td>\n",
       "      <td>0.770916</td>\n",
       "      <td>0.379937</td>\n",
       "    </tr>\n",
       "    <tr>\n",
       "      <th>7</th>\n",
       "      <td>Monthly_Balance</td>\n",
       "      <td>0.017583</td>\n",
       "      <td>0.894510</td>\n",
       "    </tr>\n",
       "  </tbody>\n",
       "</table>\n",
       "</div>"
      ],
      "text/plain": [
       "        Numerical_Feature      F-Score  p values\n",
       "0           Annual_Income  5661.451993  0.000000\n",
       "1        Outstanding_Debt   569.094496  0.000000\n",
       "2     Delay_from_due_date   428.193541  0.000000\n",
       "3      Credit_History_Age   388.091327  0.000000\n",
       "4                     Age     6.264682  0.012319\n",
       "5  Num_of_Delayed_Payment     0.805751  0.369383\n",
       "6     Total_EMI_per_month     0.770916  0.379937\n",
       "7         Monthly_Balance     0.017583  0.894510"
      ]
     },
     "execution_count": 2672,
     "metadata": {},
     "output_type": "execute_result"
    }
   ],
   "source": [
    "# Calculate F Statistic and corresponding p values\n",
    "\n",
    "imputer = SimpleImputer(strategy='mean')\n",
    "X_train_num_imputed = imputer.fit_transform(X_train_num)\n",
    "\n",
    "F_statistic, p_values = f_classif(X_train_num_imputed, y_train)\n",
    "\n",
    "#convert to a DF\n",
    "ANOVA_F_table = pd.DataFrame(data = {'Numerical_Feature': X_train_num.columns.values, 'F-Score': F_statistic, 'p values': p_values.round(decimals=10)})\n",
    "ANOVA_F_table.sort_values(by = ['F-Score'], ascending = False, ignore_index = True, inplace = True)\n",
    "ANOVA_F_table"
   ]
  },
  {
   "cell_type": "code",
   "execution_count": 2673,
   "metadata": {},
   "outputs": [
    {
     "data": {
      "text/plain": [
       "<AxesSubplot:>"
      ]
     },
     "execution_count": 2673,
     "metadata": {},
     "output_type": "execute_result"
    },
    {
     "data": {
      "image/png": "[encoded data removed]",
      "text/plain": [
       "<Figure size 1000x500 with 2 Axes>"
      ]
     },
     "metadata": {},
     "output_type": "display_data"
    }
   ],
   "source": [
    "plt.figure(figsize=(10,5))\n",
    "\n",
    "c = X_train_num.corr()\n",
    "sns.heatmap(c, cmap='BrBG', annot=True)"
   ]
  },
  {
   "cell_type": "code",
   "execution_count": 2674,
   "metadata": {},
   "outputs": [],
   "source": [
    "# function to create dummy variables\n",
    "def dummy_creation(df, columns_list):\n",
    "    df_dummies = []\n",
    "    for col in columns_list:\n",
    "        df_dummies.append(pd.get_dummies(df[col], prefix = col, prefix_sep = ':'))\n",
    "    df_dummies = pd.concat(df_dummies, axis = 1)\n",
    "    df = pd.concat([df, df_dummies], axis = 1)\n",
    "    return df\n",
    "\n",
    "# apply to categorical variables\n",
    "X_train = dummy_creation(X_train, ['Occupation', 'Payment_of_Min_Amount'])"
   ]
  },
  {
   "cell_type": "code",
   "execution_count": 2675,
   "metadata": {},
   "outputs": [],
   "source": [
    "# apply to our final four categorical variables\n",
    "X_test = dummy_creation(X_test, ['Occupation', 'Payment_of_Min_Amount'])\n",
    "X_test= X_test.reindex(labels=X_train.columns, axis=1, fill_value=0)"
   ]
  },
  {
   "cell_type": "code",
   "execution_count": 2533,
   "metadata": {},
   "outputs": [],
   "source": [
    "# Cleaning dataset for WoE and IV by type conversion and creating Dummy variables\n",
    "#sc_dataset['Payment_of_Min_Amount'] = sc_dataset[['Payment_of_Min_Amount']].apply(pd.to_numeric)\n",
    "#df_dummies = pd.get_dummies(sc_dataset, prefix='Occupation', columns=['Occupation'], drop_first=False)\n",
    "\n",
    "#x_train = pd.concat([sc_dataset, df_dummies], axis=1)\n",
    "#X_train.head(30)\n",
    "#X_test = X_test.reindex(labels=X_train.columns, axis=1, fill_value=0)"
   ]
  },
  {
   "cell_type": "markdown",
   "metadata": {},
   "source": [
    "### WoE Binning and/Feature Engineering"
   ]
  },
  {
   "cell_type": "code",
   "execution_count": 2676,
   "metadata": {},
   "outputs": [],
   "source": [
    "# Create copies of the 4 training sets to be prepocessed using WoE\n",
    "X_train_prepr = X_train.copy()\n",
    "y_train_prepr = y_train.copy()\n",
    "X_test_prepr = X_test.copy()\n",
    "y_test_prepr = y_test.copy()"
   ]
  },
  {
   "cell_type": "markdown",
   "metadata": {},
   "source": [
    "Analyze WoEs and IVs of discrete features"
   ]
  },
  {
   "cell_type": "code",
   "execution_count": 2677,
   "metadata": {},
   "outputs": [],
   "source": [
    "# The function takes 3 arguments: a dataframe (X_train_prepr), a string (column name), and a dataframe (y_train_prepr).\n",
    "# The function returns a dataframe as a result.\n",
    "\n",
    "def woe_discrete(df, cat_variabe_name, y_df):\n",
    "    df = pd.concat([df[cat_variabe_name], y_df], axis = 1)\n",
    "    df = pd.concat([df.groupby(df.columns.values[0], as_index = False)[df.columns.values[1]].count(),\n",
    "                    df.groupby(df.columns.values[0], as_index = False)[df.columns.values[1]].mean()], axis = 1)\n",
    "    df = df.iloc[:, [0, 1, 3]]\n",
    "    df.columns = [df.columns.values[0], 'n_obs', 'prop_good']\n",
    "    df['prop_n_obs'] = df['n_obs'] / df['n_obs'].sum()\n",
    "    df['n_good'] = df['prop_good'] * df['n_obs']\n",
    "    df['n_bad'] = (1 - df['prop_good']) * df['n_obs']\n",
    "    df['prop_n_good'] = df['n_good'] / df['n_good'].sum()\n",
    "    df['prop_n_bad'] = df['n_bad'] / df['n_bad'].sum()\n",
    "    df['WoE'] = np.log(df['prop_n_good'] / df['prop_n_bad'])\n",
    "    df = df.sort_values(['WoE'])\n",
    "    df = df.reset_index(drop = True)\n",
    "    df['diff_prop_good'] = df['prop_good'].diff().abs()\n",
    "    df['diff_WoE'] = df['WoE'].diff().abs()\n",
    "    df['IV'] = (df['prop_n_good'] - df['prop_n_bad']) * df['WoE']\n",
    "    df['IV'] = df['IV'].sum()\n",
    "    return df"
   ]
  },
  {
   "cell_type": "code",
   "execution_count": 2678,
   "metadata": {},
   "outputs": [],
   "source": [
    "# We set the default style of the graphs to the seaborn style. \n",
    "sns.set()\n",
    "# Below we define a function for plotting WoE across categories that takes 2 arguments: a dataframe and a number.\n",
    "def plot_by_woe(df_WoE, rotation_of_x_axis_labels = 0):\n",
    "    x = np.array(df_WoE.iloc[:, 0].apply(str))\n",
    "    y = df_WoE['WoE']\n",
    "    plt.figure(figsize=(18, 6))\n",
    "    plt.plot(x, y, marker = 'o', linestyle = '--', color = 'k')\n",
    "    plt.xlabel(df_WoE.columns[0])\n",
    "    plt.ylabel('Weight of Evidence')\n",
    "    plt.title(str('Weight of Evidence by ' + df_WoE.columns[0]))\n",
    "    plt.xticks(rotation = rotation_of_x_axis_labels)"
   ]
  },
  {
   "cell_type": "code",
   "execution_count": 2679,
   "metadata": {},
   "outputs": [
    {
     "data": {
      "text/html": [
       "<div>\n",
       "<style scoped>\n",
       "    .dataframe tbody tr th:only-of-type {\n",
       "        vertical-align: middle;\n",
       "    }\n",
       "\n",
       "    .dataframe tbody tr th {\n",
       "        vertical-align: top;\n",
       "    }\n",
       "\n",
       "    .dataframe thead th {\n",
       "        text-align: right;\n",
       "    }\n",
       "</style>\n",
       "<table border=\"1\" class=\"dataframe\">\n",
       "  <thead>\n",
       "    <tr style=\"text-align: right;\">\n",
       "      <th></th>\n",
       "      <th>Occupation</th>\n",
       "      <th>n_obs</th>\n",
       "      <th>prop_good</th>\n",
       "      <th>prop_n_obs</th>\n",
       "      <th>n_good</th>\n",
       "      <th>n_bad</th>\n",
       "      <th>prop_n_good</th>\n",
       "      <th>prop_n_bad</th>\n",
       "      <th>WoE</th>\n",
       "      <th>diff_prop_good</th>\n",
       "      <th>diff_WoE</th>\n",
       "      <th>IV</th>\n",
       "    </tr>\n",
       "  </thead>\n",
       "  <tbody>\n",
       "    <tr>\n",
       "      <th>0</th>\n",
       "      <td>Mechanic</td>\n",
       "      <td>4529</td>\n",
       "      <td>0.707441</td>\n",
       "      <td>0.067799</td>\n",
       "      <td>3204.0</td>\n",
       "      <td>1325.0</td>\n",
       "      <td>0.066595</td>\n",
       "      <td>0.070901</td>\n",
       "      <td>-0.062662</td>\n",
       "      <td>NaN</td>\n",
       "      <td>NaN</td>\n",
       "      <td>0.000925</td>\n",
       "    </tr>\n",
       "    <tr>\n",
       "      <th>1</th>\n",
       "      <td>Journalist</td>\n",
       "      <td>4332</td>\n",
       "      <td>0.709834</td>\n",
       "      <td>0.064850</td>\n",
       "      <td>3075.0</td>\n",
       "      <td>1257.0</td>\n",
       "      <td>0.063913</td>\n",
       "      <td>0.067262</td>\n",
       "      <td>-0.051073</td>\n",
       "      <td>0.002393</td>\n",
       "      <td>0.011589</td>\n",
       "      <td>0.000925</td>\n",
       "    </tr>\n",
       "    <tr>\n",
       "      <th>2</th>\n",
       "      <td>Teacher</td>\n",
       "      <td>4573</td>\n",
       "      <td>0.716160</td>\n",
       "      <td>0.068458</td>\n",
       "      <td>3275.0</td>\n",
       "      <td>1298.0</td>\n",
       "      <td>0.068070</td>\n",
       "      <td>0.069456</td>\n",
       "      <td>-0.020157</td>\n",
       "      <td>0.006326</td>\n",
       "      <td>0.030916</td>\n",
       "      <td>0.000925</td>\n",
       "    </tr>\n",
       "    <tr>\n",
       "      <th>3</th>\n",
       "      <td>Engineer</td>\n",
       "      <td>4563</td>\n",
       "      <td>0.716853</td>\n",
       "      <td>0.068308</td>\n",
       "      <td>3271.0</td>\n",
       "      <td>1292.0</td>\n",
       "      <td>0.067987</td>\n",
       "      <td>0.069135</td>\n",
       "      <td>-0.016746</td>\n",
       "      <td>0.000693</td>\n",
       "      <td>0.003411</td>\n",
       "      <td>0.000925</td>\n",
       "    </tr>\n",
       "    <tr>\n",
       "      <th>4</th>\n",
       "      <td>MediaManager</td>\n",
       "      <td>4472</td>\n",
       "      <td>0.717800</td>\n",
       "      <td>0.066946</td>\n",
       "      <td>3210.0</td>\n",
       "      <td>1262.0</td>\n",
       "      <td>0.066719</td>\n",
       "      <td>0.067530</td>\n",
       "      <td>-0.012077</td>\n",
       "      <td>0.000947</td>\n",
       "      <td>0.004669</td>\n",
       "      <td>0.000925</td>\n",
       "    </tr>\n",
       "    <tr>\n",
       "      <th>5</th>\n",
       "      <td>Accountant</td>\n",
       "      <td>4494</td>\n",
       "      <td>0.718069</td>\n",
       "      <td>0.067275</td>\n",
       "      <td>3227.0</td>\n",
       "      <td>1267.0</td>\n",
       "      <td>0.067073</td>\n",
       "      <td>0.067798</td>\n",
       "      <td>-0.010749</td>\n",
       "      <td>0.000269</td>\n",
       "      <td>0.001328</td>\n",
       "      <td>0.000925</td>\n",
       "    </tr>\n",
       "    <tr>\n",
       "      <th>6</th>\n",
       "      <td>Developer</td>\n",
       "      <td>4506</td>\n",
       "      <td>0.718375</td>\n",
       "      <td>0.067455</td>\n",
       "      <td>3237.0</td>\n",
       "      <td>1269.0</td>\n",
       "      <td>0.067281</td>\n",
       "      <td>0.067905</td>\n",
       "      <td>-0.009232</td>\n",
       "      <td>0.000307</td>\n",
       "      <td>0.001517</td>\n",
       "      <td>0.000925</td>\n",
       "    </tr>\n",
       "    <tr>\n",
       "      <th>7</th>\n",
       "      <td>Doctor</td>\n",
       "      <td>4350</td>\n",
       "      <td>0.720230</td>\n",
       "      <td>0.065120</td>\n",
       "      <td>3133.0</td>\n",
       "      <td>1217.0</td>\n",
       "      <td>0.065119</td>\n",
       "      <td>0.065122</td>\n",
       "      <td>-0.000048</td>\n",
       "      <td>0.001854</td>\n",
       "      <td>0.009184</td>\n",
       "      <td>0.000925</td>\n",
       "    </tr>\n",
       "    <tr>\n",
       "      <th>8</th>\n",
       "      <td>Manager</td>\n",
       "      <td>4269</td>\n",
       "      <td>0.723120</td>\n",
       "      <td>0.063907</td>\n",
       "      <td>3087.0</td>\n",
       "      <td>1182.0</td>\n",
       "      <td>0.064163</td>\n",
       "      <td>0.063249</td>\n",
       "      <td>0.014342</td>\n",
       "      <td>0.002890</td>\n",
       "      <td>0.014390</td>\n",
       "      <td>0.000925</td>\n",
       "    </tr>\n",
       "    <tr>\n",
       "      <th>9</th>\n",
       "      <td>Musician</td>\n",
       "      <td>4272</td>\n",
       "      <td>0.723315</td>\n",
       "      <td>0.063952</td>\n",
       "      <td>3090.0</td>\n",
       "      <td>1182.0</td>\n",
       "      <td>0.064225</td>\n",
       "      <td>0.063249</td>\n",
       "      <td>0.015313</td>\n",
       "      <td>0.000194</td>\n",
       "      <td>0.000971</td>\n",
       "      <td>0.000925</td>\n",
       "    </tr>\n",
       "    <tr>\n",
       "      <th>10</th>\n",
       "      <td>Lawyer</td>\n",
       "      <td>4724</td>\n",
       "      <td>0.723539</td>\n",
       "      <td>0.070719</td>\n",
       "      <td>3418.0</td>\n",
       "      <td>1306.0</td>\n",
       "      <td>0.071043</td>\n",
       "      <td>0.069884</td>\n",
       "      <td>0.016437</td>\n",
       "      <td>0.000225</td>\n",
       "      <td>0.001123</td>\n",
       "      <td>0.000925</td>\n",
       "    </tr>\n",
       "    <tr>\n",
       "      <th>11</th>\n",
       "      <td>Scientist</td>\n",
       "      <td>4497</td>\n",
       "      <td>0.725150</td>\n",
       "      <td>0.067320</td>\n",
       "      <td>3261.0</td>\n",
       "      <td>1236.0</td>\n",
       "      <td>0.067779</td>\n",
       "      <td>0.066139</td>\n",
       "      <td>0.024504</td>\n",
       "      <td>0.001611</td>\n",
       "      <td>0.008067</td>\n",
       "      <td>0.000925</td>\n",
       "    </tr>\n",
       "    <tr>\n",
       "      <th>12</th>\n",
       "      <td>Writer</td>\n",
       "      <td>4249</td>\n",
       "      <td>0.725818</td>\n",
       "      <td>0.063608</td>\n",
       "      <td>3084.0</td>\n",
       "      <td>1165.0</td>\n",
       "      <td>0.064100</td>\n",
       "      <td>0.062339</td>\n",
       "      <td>0.027856</td>\n",
       "      <td>0.000668</td>\n",
       "      <td>0.003353</td>\n",
       "      <td>0.000925</td>\n",
       "    </tr>\n",
       "    <tr>\n",
       "      <th>13</th>\n",
       "      <td>Entrepreneur</td>\n",
       "      <td>4410</td>\n",
       "      <td>0.726984</td>\n",
       "      <td>0.066018</td>\n",
       "      <td>3206.0</td>\n",
       "      <td>1204.0</td>\n",
       "      <td>0.066636</td>\n",
       "      <td>0.064426</td>\n",
       "      <td>0.033725</td>\n",
       "      <td>0.001166</td>\n",
       "      <td>0.005868</td>\n",
       "      <td>0.000925</td>\n",
       "    </tr>\n",
       "    <tr>\n",
       "      <th>14</th>\n",
       "      <td>Architect</td>\n",
       "      <td>4560</td>\n",
       "      <td>0.731140</td>\n",
       "      <td>0.068263</td>\n",
       "      <td>3334.0</td>\n",
       "      <td>1226.0</td>\n",
       "      <td>0.069297</td>\n",
       "      <td>0.065604</td>\n",
       "      <td>0.054766</td>\n",
       "      <td>0.004156</td>\n",
       "      <td>0.021041</td>\n",
       "      <td>0.000925</td>\n",
       "    </tr>\n",
       "  </tbody>\n",
       "</table>\n",
       "</div>"
      ],
      "text/plain": [
       "      Occupation  n_obs  prop_good  prop_n_obs  n_good   n_bad  prop_n_good  \\\n",
       "0       Mechanic   4529   0.707441    0.067799  3204.0  1325.0     0.066595   \n",
       "1     Journalist   4332   0.709834    0.064850  3075.0  1257.0     0.063913   \n",
       "2        Teacher   4573   0.716160    0.068458  3275.0  1298.0     0.068070   \n",
       "3       Engineer   4563   0.716853    0.068308  3271.0  1292.0     0.067987   \n",
       "4   MediaManager   4472   0.717800    0.066946  3210.0  1262.0     0.066719   \n",
       "5     Accountant   4494   0.718069    0.067275  3227.0  1267.0     0.067073   \n",
       "6      Developer   4506   0.718375    0.067455  3237.0  1269.0     0.067281   \n",
       "7         Doctor   4350   0.720230    0.065120  3133.0  1217.0     0.065119   \n",
       "8        Manager   4269   0.723120    0.063907  3087.0  1182.0     0.064163   \n",
       "9       Musician   4272   0.723315    0.063952  3090.0  1182.0     0.064225   \n",
       "10        Lawyer   4724   0.723539    0.070719  3418.0  1306.0     0.071043   \n",
       "11     Scientist   4497   0.725150    0.067320  3261.0  1236.0     0.067779   \n",
       "12        Writer   4249   0.725818    0.063608  3084.0  1165.0     0.064100   \n",
       "13  Entrepreneur   4410   0.726984    0.066018  3206.0  1204.0     0.066636   \n",
       "14     Architect   4560   0.731140    0.068263  3334.0  1226.0     0.069297   \n",
       "\n",
       "    prop_n_bad       WoE  diff_prop_good  diff_WoE        IV  \n",
       "0     0.070901 -0.062662             NaN       NaN  0.000925  \n",
       "1     0.067262 -0.051073        0.002393  0.011589  0.000925  \n",
       "2     0.069456 -0.020157        0.006326  0.030916  0.000925  \n",
       "3     0.069135 -0.016746        0.000693  0.003411  0.000925  \n",
       "4     0.067530 -0.012077        0.000947  0.004669  0.000925  \n",
       "5     0.067798 -0.010749        0.000269  0.001328  0.000925  \n",
       "6     0.067905 -0.009232        0.000307  0.001517  0.000925  \n",
       "7     0.065122 -0.000048        0.001854  0.009184  0.000925  \n",
       "8     0.063249  0.014342        0.002890  0.014390  0.000925  \n",
       "9     0.063249  0.015313        0.000194  0.000971  0.000925  \n",
       "10    0.069884  0.016437        0.000225  0.001123  0.000925  \n",
       "11    0.066139  0.024504        0.001611  0.008067  0.000925  \n",
       "12    0.062339  0.027856        0.000668  0.003353  0.000925  \n",
       "13    0.064426  0.033725        0.001166  0.005868  0.000925  \n",
       "14    0.065604  0.054766        0.004156  0.021041  0.000925  "
      ]
     },
     "execution_count": 2679,
     "metadata": {},
     "output_type": "execute_result"
    }
   ],
   "source": [
    "df_occupation = woe_discrete(X_train_prepr,'Occupation', y_train_prepr)\n",
    "df_occupation"
   ]
  },
  {
   "cell_type": "code",
   "execution_count": 2680,
   "metadata": {},
   "outputs": [
    {
     "data": {
      "image/png": "[encoded data removed]",
      "text/plain": [
       "<Figure size 1800x600 with 1 Axes>"
      ]
     },
     "metadata": {},
     "output_type": "display_data"
    }
   ],
   "source": [
    "plot_by_woe(df_occupation)"
   ]
  },
  {
   "cell_type": "markdown",
   "metadata": {},
   "source": [
    "There's a continues increase in WoE across the different grades. Therefore, we do not need to combine any features together and should leave all these 7 grades as they are"
   ]
  },
  {
   "cell_type": "code",
   "execution_count": 2681,
   "metadata": {},
   "outputs": [
    {
     "data": {
      "text/html": [
       "<div>\n",
       "<style scoped>\n",
       "    .dataframe tbody tr th:only-of-type {\n",
       "        vertical-align: middle;\n",
       "    }\n",
       "\n",
       "    .dataframe tbody tr th {\n",
       "        vertical-align: top;\n",
       "    }\n",
       "\n",
       "    .dataframe thead th {\n",
       "        text-align: right;\n",
       "    }\n",
       "</style>\n",
       "<table border=\"1\" class=\"dataframe\">\n",
       "  <thead>\n",
       "    <tr style=\"text-align: right;\">\n",
       "      <th></th>\n",
       "      <th>Payment_of_Min_Amount</th>\n",
       "      <th>n_obs</th>\n",
       "      <th>prop_good</th>\n",
       "      <th>prop_n_obs</th>\n",
       "      <th>n_good</th>\n",
       "      <th>n_bad</th>\n",
       "      <th>prop_n_good</th>\n",
       "      <th>prop_n_bad</th>\n",
       "      <th>WoE</th>\n",
       "      <th>diff_prop_good</th>\n",
       "      <th>diff_WoE</th>\n",
       "      <th>IV</th>\n",
       "    </tr>\n",
       "  </thead>\n",
       "  <tbody>\n",
       "    <tr>\n",
       "      <th>0</th>\n",
       "      <td>1</td>\n",
       "      <td>35543</td>\n",
       "      <td>0.690431</td>\n",
       "      <td>0.532081</td>\n",
       "      <td>24540.0</td>\n",
       "      <td>11003.0</td>\n",
       "      <td>0.51006</td>\n",
       "      <td>0.588774</td>\n",
       "      <td>-0.143514</td>\n",
       "      <td>NaN</td>\n",
       "      <td>NaN</td>\n",
       "      <td>0.029214</td>\n",
       "    </tr>\n",
       "    <tr>\n",
       "      <th>1</th>\n",
       "      <td>0</td>\n",
       "      <td>8030</td>\n",
       "      <td>0.723537</td>\n",
       "      <td>0.120210</td>\n",
       "      <td>5810.0</td>\n",
       "      <td>2220.0</td>\n",
       "      <td>0.12076</td>\n",
       "      <td>0.118793</td>\n",
       "      <td>0.016423</td>\n",
       "      <td>0.033105</td>\n",
       "      <td>0.159937</td>\n",
       "      <td>0.029214</td>\n",
       "    </tr>\n",
       "    <tr>\n",
       "      <th>2</th>\n",
       "      <td>2</td>\n",
       "      <td>23227</td>\n",
       "      <td>0.764713</td>\n",
       "      <td>0.347710</td>\n",
       "      <td>17762.0</td>\n",
       "      <td>5465.0</td>\n",
       "      <td>0.36918</td>\n",
       "      <td>0.292434</td>\n",
       "      <td>0.233047</td>\n",
       "      <td>0.041177</td>\n",
       "      <td>0.216624</td>\n",
       "      <td>0.029214</td>\n",
       "    </tr>\n",
       "  </tbody>\n",
       "</table>\n",
       "</div>"
      ],
      "text/plain": [
       "  Payment_of_Min_Amount  n_obs  prop_good  prop_n_obs   n_good    n_bad  \\\n",
       "0                     1  35543   0.690431    0.532081  24540.0  11003.0   \n",
       "1                     0   8030   0.723537    0.120210   5810.0   2220.0   \n",
       "2                     2  23227   0.764713    0.347710  17762.0   5465.0   \n",
       "\n",
       "   prop_n_good  prop_n_bad       WoE  diff_prop_good  diff_WoE        IV  \n",
       "0      0.51006    0.588774 -0.143514             NaN       NaN  0.029214  \n",
       "1      0.12076    0.118793  0.016423        0.033105  0.159937  0.029214  \n",
       "2      0.36918    0.292434  0.233047        0.041177  0.216624  0.029214  "
      ]
     },
     "execution_count": 2681,
     "metadata": {},
     "output_type": "execute_result"
    }
   ],
   "source": [
    "#\n",
    "df_temp = woe_discrete(X_train_prepr,'Payment_of_Min_Amount', y_train_prepr)\n",
    "df_temp"
   ]
  },
  {
   "cell_type": "code",
   "execution_count": 2682,
   "metadata": {
    "scrolled": true
   },
   "outputs": [
    {
     "data": {
      "image/png": "[encoded data removed]",
      "text/plain": [
       "<Figure size 1800x600 with 1 Axes>"
      ]
     },
     "metadata": {},
     "output_type": "display_data"
    }
   ],
   "source": [
    "plot_by_woe(df_Payment_of_Min_Amount)"
   ]
  },
  {
   "cell_type": "markdown",
   "metadata": {},
   "source": [
    "Analyze WoEs and IVs of numeric fetures"
   ]
  },
  {
   "cell_type": "code",
   "execution_count": 2683,
   "metadata": {},
   "outputs": [],
   "source": [
    "# We define a function to calculate WoE of continuous variables. This is same as the function we defined earlier for discrete variables.\n",
    "# The only difference are the 2 commented lines of code in the function that results in the df being sorted by continuous variable values\n",
    "def woe_ordered_continuous(df, continuous_variabe_name, y_df):\n",
    "    df = pd.concat([df[continuous_variabe_name], y_df], axis = 1)\n",
    "    df = pd.concat([df.groupby(df.columns.values[0], as_index = False)[df.columns.values[1]].count(),\n",
    "                    df.groupby(df.columns.values[0], as_index = False)[df.columns.values[1]].mean()], axis = 1)\n",
    "    df = df.iloc[:, [0, 1, 3]]\n",
    "    df.columns = [df.columns.values[0], 'n_obs', 'prop_good']\n",
    "    df['prop_n_obs'] = df['n_obs'] / df['n_obs'].sum()\n",
    "    df['n_good'] = df['prop_good'] * df['n_obs']\n",
    "    df['n_bad'] = (1 - df['prop_good']) * df['n_obs']\n",
    "    df['prop_n_good'] = df['n_good'] / df['n_good'].sum()\n",
    "    df['prop_n_bad'] = df['n_bad'] / df['n_bad'].sum()\n",
    "    df['WoE'] = np.log((df['prop_n_good'] + 1e-6) / (df['prop_n_bad'] + 1e-6))\n",
    "    #df = df.sort_values(['WoE'])\n",
    "    #df = df.reset_index(drop = True)\n",
    "    df['diff_prop_good'] = df['prop_good'].diff().abs()\n",
    "    df['diff_WoE'] = df['WoE'].diff().abs()\n",
    "    df['IV'] = (df['prop_n_good'] - df['prop_n_bad']) * df['WoE']\n",
    "    df['IV'] = df['IV'].sum()\n",
    "    return df"
   ]
  },
  {
   "cell_type": "code",
   "execution_count": 2542,
   "metadata": {},
   "outputs": [],
   "source": [
    "#plot_by_woe(df_Annual_Income)"
   ]
  },
  {
   "cell_type": "code",
   "execution_count": null,
   "metadata": {},
   "outputs": [],
   "source": []
  },
  {
   "cell_type": "code",
   "execution_count": 2684,
   "metadata": {},
   "outputs": [
    {
     "data": {
      "text/html": [
       "<div>\n",
       "<style scoped>\n",
       "    .dataframe tbody tr th:only-of-type {\n",
       "        vertical-align: middle;\n",
       "    }\n",
       "\n",
       "    .dataframe tbody tr th {\n",
       "        vertical-align: top;\n",
       "    }\n",
       "\n",
       "    .dataframe thead th {\n",
       "        text-align: right;\n",
       "    }\n",
       "</style>\n",
       "<table border=\"1\" class=\"dataframe\">\n",
       "  <thead>\n",
       "    <tr style=\"text-align: right;\">\n",
       "      <th></th>\n",
       "      <th>Annual_Income</th>\n",
       "      <th>n_obs</th>\n",
       "      <th>prop_good</th>\n",
       "      <th>prop_n_obs</th>\n",
       "      <th>n_good</th>\n",
       "      <th>n_bad</th>\n",
       "      <th>prop_n_good</th>\n",
       "      <th>prop_n_bad</th>\n",
       "      <th>WoE</th>\n",
       "      <th>diff_prop_good</th>\n",
       "      <th>diff_WoE</th>\n",
       "      <th>IV</th>\n",
       "    </tr>\n",
       "  </thead>\n",
       "  <tbody>\n",
       "    <tr>\n",
       "      <th>0</th>\n",
       "      <td>(6859.989, 9924.754]</td>\n",
       "      <td>3764</td>\n",
       "      <td>0.496546</td>\n",
       "      <td>0.056347</td>\n",
       "      <td>1869.0</td>\n",
       "      <td>1895.0</td>\n",
       "      <td>0.038847</td>\n",
       "      <td>0.101402</td>\n",
       "      <td>-0.959449</td>\n",
       "      <td>NaN</td>\n",
       "      <td>NaN</td>\n",
       "      <td>0.557761</td>\n",
       "    </tr>\n",
       "    <tr>\n",
       "      <th>1</th>\n",
       "      <td>(9924.754, 12843.578]</td>\n",
       "      <td>2010</td>\n",
       "      <td>0.491045</td>\n",
       "      <td>0.030090</td>\n",
       "      <td>987.0</td>\n",
       "      <td>1023.0</td>\n",
       "      <td>0.020515</td>\n",
       "      <td>0.054741</td>\n",
       "      <td>-0.981444</td>\n",
       "      <td>0.005501</td>\n",
       "      <td>0.021995</td>\n",
       "      <td>0.557761</td>\n",
       "    </tr>\n",
       "    <tr>\n",
       "      <th>2</th>\n",
       "      <td>(12843.578, 15762.401]</td>\n",
       "      <td>4080</td>\n",
       "      <td>0.479657</td>\n",
       "      <td>0.061078</td>\n",
       "      <td>1957.0</td>\n",
       "      <td>2123.0</td>\n",
       "      <td>0.040676</td>\n",
       "      <td>0.113602</td>\n",
       "      <td>-1.027052</td>\n",
       "      <td>0.011388</td>\n",
       "      <td>0.045607</td>\n",
       "      <td>0.557761</td>\n",
       "    </tr>\n",
       "    <tr>\n",
       "      <th>3</th>\n",
       "      <td>(15762.401, 18681.225]</td>\n",
       "      <td>5921</td>\n",
       "      <td>0.529302</td>\n",
       "      <td>0.088638</td>\n",
       "      <td>3134.0</td>\n",
       "      <td>2787.0</td>\n",
       "      <td>0.065140</td>\n",
       "      <td>0.149133</td>\n",
       "      <td>-0.828297</td>\n",
       "      <td>0.049646</td>\n",
       "      <td>0.198755</td>\n",
       "      <td>0.557761</td>\n",
       "    </tr>\n",
       "    <tr>\n",
       "      <th>4</th>\n",
       "      <td>(18681.225, 21600.049]</td>\n",
       "      <td>5205</td>\n",
       "      <td>0.609606</td>\n",
       "      <td>0.077919</td>\n",
       "      <td>3173.0</td>\n",
       "      <td>2032.0</td>\n",
       "      <td>0.065950</td>\n",
       "      <td>0.108733</td>\n",
       "      <td>-0.499987</td>\n",
       "      <td>0.080304</td>\n",
       "      <td>0.328310</td>\n",
       "      <td>0.557761</td>\n",
       "    </tr>\n",
       "    <tr>\n",
       "      <th>5</th>\n",
       "      <td>(21600.049, 24518.873]</td>\n",
       "      <td>1639</td>\n",
       "      <td>0.708969</td>\n",
       "      <td>0.024536</td>\n",
       "      <td>1162.0</td>\n",
       "      <td>477.0</td>\n",
       "      <td>0.024152</td>\n",
       "      <td>0.025524</td>\n",
       "      <td>-0.055266</td>\n",
       "      <td>0.099363</td>\n",
       "      <td>0.444721</td>\n",
       "      <td>0.557761</td>\n",
       "    </tr>\n",
       "    <tr>\n",
       "      <th>6</th>\n",
       "      <td>(24518.873, 27437.697]</td>\n",
       "      <td>1292</td>\n",
       "      <td>0.699690</td>\n",
       "      <td>0.019341</td>\n",
       "      <td>904.0</td>\n",
       "      <td>388.0</td>\n",
       "      <td>0.018789</td>\n",
       "      <td>0.020762</td>\n",
       "      <td>-0.099821</td>\n",
       "      <td>0.009278</td>\n",
       "      <td>0.044555</td>\n",
       "      <td>0.557761</td>\n",
       "    </tr>\n",
       "    <tr>\n",
       "      <th>7</th>\n",
       "      <td>(27437.697, 30356.52]</td>\n",
       "      <td>2594</td>\n",
       "      <td>0.696993</td>\n",
       "      <td>0.038832</td>\n",
       "      <td>1808.0</td>\n",
       "      <td>786.0</td>\n",
       "      <td>0.037579</td>\n",
       "      <td>0.042059</td>\n",
       "      <td>-0.112627</td>\n",
       "      <td>0.002697</td>\n",
       "      <td>0.012806</td>\n",
       "      <td>0.557761</td>\n",
       "    </tr>\n",
       "    <tr>\n",
       "      <th>8</th>\n",
       "      <td>(30356.52, 33275.344]</td>\n",
       "      <td>3426</td>\n",
       "      <td>0.711033</td>\n",
       "      <td>0.051287</td>\n",
       "      <td>2436.0</td>\n",
       "      <td>990.0</td>\n",
       "      <td>0.050632</td>\n",
       "      <td>0.052975</td>\n",
       "      <td>-0.045241</td>\n",
       "      <td>0.014040</td>\n",
       "      <td>0.067386</td>\n",
       "      <td>0.557761</td>\n",
       "    </tr>\n",
       "    <tr>\n",
       "      <th>9</th>\n",
       "      <td>(33275.344, 36194.168]</td>\n",
       "      <td>3350</td>\n",
       "      <td>0.722388</td>\n",
       "      <td>0.050150</td>\n",
       "      <td>2420.0</td>\n",
       "      <td>930.0</td>\n",
       "      <td>0.050299</td>\n",
       "      <td>0.049765</td>\n",
       "      <td>0.010688</td>\n",
       "      <td>0.011355</td>\n",
       "      <td>0.055929</td>\n",
       "      <td>0.557761</td>\n",
       "    </tr>\n",
       "    <tr>\n",
       "      <th>10</th>\n",
       "      <td>(36194.168, 39112.992]</td>\n",
       "      <td>2327</td>\n",
       "      <td>0.754190</td>\n",
       "      <td>0.034835</td>\n",
       "      <td>1755.0</td>\n",
       "      <td>572.0</td>\n",
       "      <td>0.036477</td>\n",
       "      <td>0.030608</td>\n",
       "      <td>0.175430</td>\n",
       "      <td>0.031802</td>\n",
       "      <td>0.164742</td>\n",
       "      <td>0.557761</td>\n",
       "    </tr>\n",
       "    <tr>\n",
       "      <th>11</th>\n",
       "      <td>(39112.992, 42031.816]</td>\n",
       "      <td>2094</td>\n",
       "      <td>0.784623</td>\n",
       "      <td>0.031347</td>\n",
       "      <td>1643.0</td>\n",
       "      <td>451.0</td>\n",
       "      <td>0.034149</td>\n",
       "      <td>0.024133</td>\n",
       "      <td>0.347150</td>\n",
       "      <td>0.030433</td>\n",
       "      <td>0.171720</td>\n",
       "      <td>0.557761</td>\n",
       "    </tr>\n",
       "    <tr>\n",
       "      <th>12</th>\n",
       "      <td>(42031.816, 44950.639]</td>\n",
       "      <td>1966</td>\n",
       "      <td>0.799084</td>\n",
       "      <td>0.029431</td>\n",
       "      <td>1571.0</td>\n",
       "      <td>395.0</td>\n",
       "      <td>0.032653</td>\n",
       "      <td>0.021137</td>\n",
       "      <td>0.434915</td>\n",
       "      <td>0.014462</td>\n",
       "      <td>0.087766</td>\n",
       "      <td>0.557761</td>\n",
       "    </tr>\n",
       "    <tr>\n",
       "      <th>13</th>\n",
       "      <td>(44950.639, 47869.463]</td>\n",
       "      <td>966</td>\n",
       "      <td>0.796066</td>\n",
       "      <td>0.014461</td>\n",
       "      <td>769.0</td>\n",
       "      <td>197.0</td>\n",
       "      <td>0.015984</td>\n",
       "      <td>0.010542</td>\n",
       "      <td>0.416205</td>\n",
       "      <td>0.003018</td>\n",
       "      <td>0.018710</td>\n",
       "      <td>0.557761</td>\n",
       "    </tr>\n",
       "    <tr>\n",
       "      <th>14</th>\n",
       "      <td>(47869.463, 50788.287]</td>\n",
       "      <td>950</td>\n",
       "      <td>0.824211</td>\n",
       "      <td>0.014222</td>\n",
       "      <td>783.0</td>\n",
       "      <td>167.0</td>\n",
       "      <td>0.016275</td>\n",
       "      <td>0.008936</td>\n",
       "      <td>0.599438</td>\n",
       "      <td>0.028144</td>\n",
       "      <td>0.183233</td>\n",
       "      <td>0.557761</td>\n",
       "    </tr>\n",
       "    <tr>\n",
       "      <th>15</th>\n",
       "      <td>(50788.287, 53707.111]</td>\n",
       "      <td>874</td>\n",
       "      <td>0.828375</td>\n",
       "      <td>0.013084</td>\n",
       "      <td>724.0</td>\n",
       "      <td>150.0</td>\n",
       "      <td>0.015048</td>\n",
       "      <td>0.008027</td>\n",
       "      <td>0.628448</td>\n",
       "      <td>0.004165</td>\n",
       "      <td>0.029010</td>\n",
       "      <td>0.557761</td>\n",
       "    </tr>\n",
       "    <tr>\n",
       "      <th>16</th>\n",
       "      <td>(53707.111, 56625.935]</td>\n",
       "      <td>1096</td>\n",
       "      <td>0.804745</td>\n",
       "      <td>0.016407</td>\n",
       "      <td>882.0</td>\n",
       "      <td>214.0</td>\n",
       "      <td>0.018332</td>\n",
       "      <td>0.011451</td>\n",
       "      <td>0.470533</td>\n",
       "      <td>0.023631</td>\n",
       "      <td>0.157915</td>\n",
       "      <td>0.557761</td>\n",
       "    </tr>\n",
       "    <tr>\n",
       "      <th>17</th>\n",
       "      <td>(56625.935, 59544.758]</td>\n",
       "      <td>1662</td>\n",
       "      <td>0.776775</td>\n",
       "      <td>0.024880</td>\n",
       "      <td>1291.0</td>\n",
       "      <td>371.0</td>\n",
       "      <td>0.026833</td>\n",
       "      <td>0.019852</td>\n",
       "      <td>0.301307</td>\n",
       "      <td>0.027970</td>\n",
       "      <td>0.169226</td>\n",
       "      <td>0.557761</td>\n",
       "    </tr>\n",
       "    <tr>\n",
       "      <th>18</th>\n",
       "      <td>(59544.758, 62463.582]</td>\n",
       "      <td>1801</td>\n",
       "      <td>0.800111</td>\n",
       "      <td>0.026961</td>\n",
       "      <td>1441.0</td>\n",
       "      <td>360.0</td>\n",
       "      <td>0.029951</td>\n",
       "      <td>0.019264</td>\n",
       "      <td>0.441320</td>\n",
       "      <td>0.023336</td>\n",
       "      <td>0.140013</td>\n",
       "      <td>0.557761</td>\n",
       "    </tr>\n",
       "    <tr>\n",
       "      <th>19</th>\n",
       "      <td>(62463.582, 65382.406]</td>\n",
       "      <td>1208</td>\n",
       "      <td>0.825331</td>\n",
       "      <td>0.018084</td>\n",
       "      <td>997.0</td>\n",
       "      <td>211.0</td>\n",
       "      <td>0.020722</td>\n",
       "      <td>0.011291</td>\n",
       "      <td>0.607202</td>\n",
       "      <td>0.025220</td>\n",
       "      <td>0.165882</td>\n",
       "      <td>0.557761</td>\n",
       "    </tr>\n",
       "    <tr>\n",
       "      <th>20</th>\n",
       "      <td>(65382.406, 68301.23]</td>\n",
       "      <td>1164</td>\n",
       "      <td>0.799828</td>\n",
       "      <td>0.017425</td>\n",
       "      <td>931.0</td>\n",
       "      <td>233.0</td>\n",
       "      <td>0.019351</td>\n",
       "      <td>0.012468</td>\n",
       "      <td>0.439542</td>\n",
       "      <td>0.025503</td>\n",
       "      <td>0.167660</td>\n",
       "      <td>0.557761</td>\n",
       "    </tr>\n",
       "    <tr>\n",
       "      <th>21</th>\n",
       "      <td>(68301.23, 71220.054]</td>\n",
       "      <td>1386</td>\n",
       "      <td>0.831169</td>\n",
       "      <td>0.020749</td>\n",
       "      <td>1152.0</td>\n",
       "      <td>234.0</td>\n",
       "      <td>0.023944</td>\n",
       "      <td>0.012521</td>\n",
       "      <td>0.648246</td>\n",
       "      <td>0.031341</td>\n",
       "      <td>0.208703</td>\n",
       "      <td>0.557761</td>\n",
       "    </tr>\n",
       "    <tr>\n",
       "      <th>22</th>\n",
       "      <td>(71220.054, 74138.877]</td>\n",
       "      <td>1402</td>\n",
       "      <td>0.867332</td>\n",
       "      <td>0.020988</td>\n",
       "      <td>1216.0</td>\n",
       "      <td>186.0</td>\n",
       "      <td>0.025274</td>\n",
       "      <td>0.009953</td>\n",
       "      <td>0.931864</td>\n",
       "      <td>0.036164</td>\n",
       "      <td>0.283619</td>\n",
       "      <td>0.557761</td>\n",
       "    </tr>\n",
       "    <tr>\n",
       "      <th>23</th>\n",
       "      <td>(74138.877, 77057.701]</td>\n",
       "      <td>922</td>\n",
       "      <td>0.905640</td>\n",
       "      <td>0.013802</td>\n",
       "      <td>835.0</td>\n",
       "      <td>87.0</td>\n",
       "      <td>0.017355</td>\n",
       "      <td>0.004655</td>\n",
       "      <td>1.315716</td>\n",
       "      <td>0.038308</td>\n",
       "      <td>0.383852</td>\n",
       "      <td>0.557761</td>\n",
       "    </tr>\n",
       "    <tr>\n",
       "      <th>24</th>\n",
       "      <td>(77057.701, 79976.525]</td>\n",
       "      <td>968</td>\n",
       "      <td>0.887397</td>\n",
       "      <td>0.014491</td>\n",
       "      <td>859.0</td>\n",
       "      <td>109.0</td>\n",
       "      <td>0.017854</td>\n",
       "      <td>0.005833</td>\n",
       "      <td>1.118656</td>\n",
       "      <td>0.018243</td>\n",
       "      <td>0.197061</td>\n",
       "      <td>0.557761</td>\n",
       "    </tr>\n",
       "    <tr>\n",
       "      <th>25</th>\n",
       "      <td>(79976.525, 82895.349]</td>\n",
       "      <td>1094</td>\n",
       "      <td>0.896709</td>\n",
       "      <td>0.016377</td>\n",
       "      <td>981.0</td>\n",
       "      <td>113.0</td>\n",
       "      <td>0.020390</td>\n",
       "      <td>0.006047</td>\n",
       "      <td>1.215418</td>\n",
       "      <td>0.009313</td>\n",
       "      <td>0.096763</td>\n",
       "      <td>0.557761</td>\n",
       "    </tr>\n",
       "    <tr>\n",
       "      <th>26</th>\n",
       "      <td>(82895.349, 85814.173]</td>\n",
       "      <td>938</td>\n",
       "      <td>0.886994</td>\n",
       "      <td>0.014042</td>\n",
       "      <td>832.0</td>\n",
       "      <td>106.0</td>\n",
       "      <td>0.017293</td>\n",
       "      <td>0.005672</td>\n",
       "      <td>1.114625</td>\n",
       "      <td>0.009716</td>\n",
       "      <td>0.100793</td>\n",
       "      <td>0.557761</td>\n",
       "    </tr>\n",
       "    <tr>\n",
       "      <th>27</th>\n",
       "      <td>(85814.173, 88732.996]</td>\n",
       "      <td>949</td>\n",
       "      <td>0.900948</td>\n",
       "      <td>0.014207</td>\n",
       "      <td>855.0</td>\n",
       "      <td>94.0</td>\n",
       "      <td>0.017771</td>\n",
       "      <td>0.005030</td>\n",
       "      <td>1.262014</td>\n",
       "      <td>0.013955</td>\n",
       "      <td>0.147389</td>\n",
       "      <td>0.557761</td>\n",
       "    </tr>\n",
       "    <tr>\n",
       "      <th>28</th>\n",
       "      <td>(88732.996, 91651.82]</td>\n",
       "      <td>656</td>\n",
       "      <td>0.905488</td>\n",
       "      <td>0.009820</td>\n",
       "      <td>594.0</td>\n",
       "      <td>62.0</td>\n",
       "      <td>0.012346</td>\n",
       "      <td>0.003318</td>\n",
       "      <td>1.313875</td>\n",
       "      <td>0.004539</td>\n",
       "      <td>0.051860</td>\n",
       "      <td>0.557761</td>\n",
       "    </tr>\n",
       "    <tr>\n",
       "      <th>29</th>\n",
       "      <td>(91651.82, 94570.644]</td>\n",
       "      <td>597</td>\n",
       "      <td>0.897822</td>\n",
       "      <td>0.008937</td>\n",
       "      <td>536.0</td>\n",
       "      <td>61.0</td>\n",
       "      <td>0.011141</td>\n",
       "      <td>0.003264</td>\n",
       "      <td>1.227394</td>\n",
       "      <td>0.007665</td>\n",
       "      <td>0.086481</td>\n",
       "      <td>0.557761</td>\n",
       "    </tr>\n",
       "    <tr>\n",
       "      <th>30</th>\n",
       "      <td>(94570.644, 97489.468]</td>\n",
       "      <td>510</td>\n",
       "      <td>0.896078</td>\n",
       "      <td>0.007635</td>\n",
       "      <td>457.0</td>\n",
       "      <td>53.0</td>\n",
       "      <td>0.009499</td>\n",
       "      <td>0.002836</td>\n",
       "      <td>1.208494</td>\n",
       "      <td>0.001744</td>\n",
       "      <td>0.018900</td>\n",
       "      <td>0.557761</td>\n",
       "    </tr>\n",
       "    <tr>\n",
       "      <th>31</th>\n",
       "      <td>(97489.468, 100408.292]</td>\n",
       "      <td>677</td>\n",
       "      <td>0.858198</td>\n",
       "      <td>0.010135</td>\n",
       "      <td>581.0</td>\n",
       "      <td>96.0</td>\n",
       "      <td>0.012076</td>\n",
       "      <td>0.005137</td>\n",
       "      <td>0.854641</td>\n",
       "      <td>0.037880</td>\n",
       "      <td>0.353853</td>\n",
       "      <td>0.557761</td>\n",
       "    </tr>\n",
       "    <tr>\n",
       "      <th>32</th>\n",
       "      <td>(100408.292, 103327.115]</td>\n",
       "      <td>589</td>\n",
       "      <td>0.921902</td>\n",
       "      <td>0.008817</td>\n",
       "      <td>543.0</td>\n",
       "      <td>46.0</td>\n",
       "      <td>0.011286</td>\n",
       "      <td>0.002461</td>\n",
       "      <td>1.522500</td>\n",
       "      <td>0.063704</td>\n",
       "      <td>0.667860</td>\n",
       "      <td>0.557761</td>\n",
       "    </tr>\n",
       "    <tr>\n",
       "      <th>33</th>\n",
       "      <td>(103327.115, 106245.939]</td>\n",
       "      <td>499</td>\n",
       "      <td>0.885772</td>\n",
       "      <td>0.007470</td>\n",
       "      <td>442.0</td>\n",
       "      <td>57.0</td>\n",
       "      <td>0.009187</td>\n",
       "      <td>0.003050</td>\n",
       "      <td>1.102390</td>\n",
       "      <td>0.036130</td>\n",
       "      <td>0.420111</td>\n",
       "      <td>0.557761</td>\n",
       "    </tr>\n",
       "    <tr>\n",
       "      <th>34</th>\n",
       "      <td>(106245.939, 109164.763]</td>\n",
       "      <td>689</td>\n",
       "      <td>0.883890</td>\n",
       "      <td>0.010314</td>\n",
       "      <td>609.0</td>\n",
       "      <td>80.0</td>\n",
       "      <td>0.012658</td>\n",
       "      <td>0.004281</td>\n",
       "      <td>1.083987</td>\n",
       "      <td>0.001882</td>\n",
       "      <td>0.018403</td>\n",
       "      <td>0.557761</td>\n",
       "    </tr>\n",
       "    <tr>\n",
       "      <th>35</th>\n",
       "      <td>(109164.763, 112083.587]</td>\n",
       "      <td>411</td>\n",
       "      <td>0.897810</td>\n",
       "      <td>0.006153</td>\n",
       "      <td>369.0</td>\n",
       "      <td>42.0</td>\n",
       "      <td>0.007670</td>\n",
       "      <td>0.002247</td>\n",
       "      <td>1.227163</td>\n",
       "      <td>0.013921</td>\n",
       "      <td>0.143175</td>\n",
       "      <td>0.557761</td>\n",
       "    </tr>\n",
       "    <tr>\n",
       "      <th>36</th>\n",
       "      <td>(112083.587, 115002.411]</td>\n",
       "      <td>450</td>\n",
       "      <td>0.922222</td>\n",
       "      <td>0.006737</td>\n",
       "      <td>415.0</td>\n",
       "      <td>35.0</td>\n",
       "      <td>0.008626</td>\n",
       "      <td>0.001873</td>\n",
       "      <td>1.526863</td>\n",
       "      <td>0.024412</td>\n",
       "      <td>0.299700</td>\n",
       "      <td>0.557761</td>\n",
       "    </tr>\n",
       "    <tr>\n",
       "      <th>37</th>\n",
       "      <td>(115002.411, 117921.234]</td>\n",
       "      <td>429</td>\n",
       "      <td>0.911422</td>\n",
       "      <td>0.006422</td>\n",
       "      <td>391.0</td>\n",
       "      <td>38.0</td>\n",
       "      <td>0.008127</td>\n",
       "      <td>0.002033</td>\n",
       "      <td>1.385103</td>\n",
       "      <td>0.010800</td>\n",
       "      <td>0.141760</td>\n",
       "      <td>0.557761</td>\n",
       "    </tr>\n",
       "    <tr>\n",
       "      <th>38</th>\n",
       "      <td>(117921.234, 120840.058]</td>\n",
       "      <td>515</td>\n",
       "      <td>0.900971</td>\n",
       "      <td>0.007710</td>\n",
       "      <td>464.0</td>\n",
       "      <td>51.0</td>\n",
       "      <td>0.009644</td>\n",
       "      <td>0.002729</td>\n",
       "      <td>1.262146</td>\n",
       "      <td>0.010451</td>\n",
       "      <td>0.122957</td>\n",
       "      <td>0.557761</td>\n",
       "    </tr>\n",
       "    <tr>\n",
       "      <th>39</th>\n",
       "      <td>(120840.058, 123758.882]</td>\n",
       "      <td>540</td>\n",
       "      <td>0.898148</td>\n",
       "      <td>0.008084</td>\n",
       "      <td>485.0</td>\n",
       "      <td>55.0</td>\n",
       "      <td>0.010081</td>\n",
       "      <td>0.002943</td>\n",
       "      <td>1.230925</td>\n",
       "      <td>0.002823</td>\n",
       "      <td>0.031221</td>\n",
       "      <td>0.557761</td>\n",
       "    </tr>\n",
       "    <tr>\n",
       "      <th>40</th>\n",
       "      <td>(123758.882, 126677.706]</td>\n",
       "      <td>452</td>\n",
       "      <td>0.920354</td>\n",
       "      <td>0.006766</td>\n",
       "      <td>416.0</td>\n",
       "      <td>36.0</td>\n",
       "      <td>0.008646</td>\n",
       "      <td>0.001926</td>\n",
       "      <td>1.501113</td>\n",
       "      <td>0.022206</td>\n",
       "      <td>0.270188</td>\n",
       "      <td>0.557761</td>\n",
       "    </tr>\n",
       "    <tr>\n",
       "      <th>41</th>\n",
       "      <td>(126677.706, 129596.53]</td>\n",
       "      <td>459</td>\n",
       "      <td>0.877996</td>\n",
       "      <td>0.006871</td>\n",
       "      <td>403.0</td>\n",
       "      <td>56.0</td>\n",
       "      <td>0.008376</td>\n",
       "      <td>0.002997</td>\n",
       "      <td>1.027721</td>\n",
       "      <td>0.042358</td>\n",
       "      <td>0.473392</td>\n",
       "      <td>0.557761</td>\n",
       "    </tr>\n",
       "    <tr>\n",
       "      <th>42</th>\n",
       "      <td>(129596.53, 132515.353]</td>\n",
       "      <td>458</td>\n",
       "      <td>0.873362</td>\n",
       "      <td>0.006856</td>\n",
       "      <td>400.0</td>\n",
       "      <td>58.0</td>\n",
       "      <td>0.008314</td>\n",
       "      <td>0.003104</td>\n",
       "      <td>0.985170</td>\n",
       "      <td>0.004633</td>\n",
       "      <td>0.042551</td>\n",
       "      <td>0.557761</td>\n",
       "    </tr>\n",
       "    <tr>\n",
       "      <th>43</th>\n",
       "      <td>(132515.353, 135434.177]</td>\n",
       "      <td>415</td>\n",
       "      <td>0.910843</td>\n",
       "      <td>0.006213</td>\n",
       "      <td>378.0</td>\n",
       "      <td>37.0</td>\n",
       "      <td>0.007857</td>\n",
       "      <td>0.001980</td>\n",
       "      <td>1.377949</td>\n",
       "      <td>0.037481</td>\n",
       "      <td>0.392779</td>\n",
       "      <td>0.557761</td>\n",
       "    </tr>\n",
       "    <tr>\n",
       "      <th>44</th>\n",
       "      <td>(135434.177, 138353.001]</td>\n",
       "      <td>249</td>\n",
       "      <td>0.879518</td>\n",
       "      <td>0.003728</td>\n",
       "      <td>219.0</td>\n",
       "      <td>30.0</td>\n",
       "      <td>0.004552</td>\n",
       "      <td>0.001605</td>\n",
       "      <td>1.041821</td>\n",
       "      <td>0.031325</td>\n",
       "      <td>0.336127</td>\n",
       "      <td>0.557761</td>\n",
       "    </tr>\n",
       "    <tr>\n",
       "      <th>45</th>\n",
       "      <td>(138353.001, 141271.825]</td>\n",
       "      <td>260</td>\n",
       "      <td>0.907692</td>\n",
       "      <td>0.003892</td>\n",
       "      <td>236.0</td>\n",
       "      <td>24.0</td>\n",
       "      <td>0.004905</td>\n",
       "      <td>0.001284</td>\n",
       "      <td>1.339553</td>\n",
       "      <td>0.028174</td>\n",
       "      <td>0.297732</td>\n",
       "      <td>0.557761</td>\n",
       "    </tr>\n",
       "    <tr>\n",
       "      <th>46</th>\n",
       "      <td>(141271.825, 144190.649]</td>\n",
       "      <td>318</td>\n",
       "      <td>0.908805</td>\n",
       "      <td>0.004760</td>\n",
       "      <td>289.0</td>\n",
       "      <td>29.0</td>\n",
       "      <td>0.006007</td>\n",
       "      <td>0.001552</td>\n",
       "      <td>1.353003</td>\n",
       "      <td>0.001113</td>\n",
       "      <td>0.013450</td>\n",
       "      <td>0.557761</td>\n",
       "    </tr>\n",
       "    <tr>\n",
       "      <th>47</th>\n",
       "      <td>(144190.649, 147109.472]</td>\n",
       "      <td>250</td>\n",
       "      <td>0.912000</td>\n",
       "      <td>0.003743</td>\n",
       "      <td>228.0</td>\n",
       "      <td>22.0</td>\n",
       "      <td>0.004739</td>\n",
       "      <td>0.001177</td>\n",
       "      <td>1.392015</td>\n",
       "      <td>0.003195</td>\n",
       "      <td>0.039012</td>\n",
       "      <td>0.557761</td>\n",
       "    </tr>\n",
       "    <tr>\n",
       "      <th>48</th>\n",
       "      <td>(147109.472, 150028.296]</td>\n",
       "      <td>151</td>\n",
       "      <td>0.894040</td>\n",
       "      <td>0.002260</td>\n",
       "      <td>135.0</td>\n",
       "      <td>16.0</td>\n",
       "      <td>0.002806</td>\n",
       "      <td>0.000856</td>\n",
       "      <td>1.186225</td>\n",
       "      <td>0.017960</td>\n",
       "      <td>0.205790</td>\n",
       "      <td>0.557761</td>\n",
       "    </tr>\n",
       "    <tr>\n",
       "      <th>49</th>\n",
       "      <td>(150028.296, 152947.12]</td>\n",
       "      <td>178</td>\n",
       "      <td>0.870787</td>\n",
       "      <td>0.002665</td>\n",
       "      <td>155.0</td>\n",
       "      <td>23.0</td>\n",
       "      <td>0.003222</td>\n",
       "      <td>0.001231</td>\n",
       "      <td>0.961779</td>\n",
       "      <td>0.023253</td>\n",
       "      <td>0.224446</td>\n",
       "      <td>0.557761</td>\n",
       "    </tr>\n",
       "  </tbody>\n",
       "</table>\n",
       "</div>"
      ],
      "text/plain": [
       "               Annual_Income  n_obs  prop_good  prop_n_obs  n_good   n_bad  \\\n",
       "0       (6859.989, 9924.754]   3764   0.496546    0.056347  1869.0  1895.0   \n",
       "1      (9924.754, 12843.578]   2010   0.491045    0.030090   987.0  1023.0   \n",
       "2     (12843.578, 15762.401]   4080   0.479657    0.061078  1957.0  2123.0   \n",
       "3     (15762.401, 18681.225]   5921   0.529302    0.088638  3134.0  2787.0   \n",
       "4     (18681.225, 21600.049]   5205   0.609606    0.077919  3173.0  2032.0   \n",
       "5     (21600.049, 24518.873]   1639   0.708969    0.024536  1162.0   477.0   \n",
       "6     (24518.873, 27437.697]   1292   0.699690    0.019341   904.0   388.0   \n",
       "7      (27437.697, 30356.52]   2594   0.696993    0.038832  1808.0   786.0   \n",
       "8      (30356.52, 33275.344]   3426   0.711033    0.051287  2436.0   990.0   \n",
       "9     (33275.344, 36194.168]   3350   0.722388    0.050150  2420.0   930.0   \n",
       "10    (36194.168, 39112.992]   2327   0.754190    0.034835  1755.0   572.0   \n",
       "11    (39112.992, 42031.816]   2094   0.784623    0.031347  1643.0   451.0   \n",
       "12    (42031.816, 44950.639]   1966   0.799084    0.029431  1571.0   395.0   \n",
       "13    (44950.639, 47869.463]    966   0.796066    0.014461   769.0   197.0   \n",
       "14    (47869.463, 50788.287]    950   0.824211    0.014222   783.0   167.0   \n",
       "15    (50788.287, 53707.111]    874   0.828375    0.013084   724.0   150.0   \n",
       "16    (53707.111, 56625.935]   1096   0.804745    0.016407   882.0   214.0   \n",
       "17    (56625.935, 59544.758]   1662   0.776775    0.024880  1291.0   371.0   \n",
       "18    (59544.758, 62463.582]   1801   0.800111    0.026961  1441.0   360.0   \n",
       "19    (62463.582, 65382.406]   1208   0.825331    0.018084   997.0   211.0   \n",
       "20     (65382.406, 68301.23]   1164   0.799828    0.017425   931.0   233.0   \n",
       "21     (68301.23, 71220.054]   1386   0.831169    0.020749  1152.0   234.0   \n",
       "22    (71220.054, 74138.877]   1402   0.867332    0.020988  1216.0   186.0   \n",
       "23    (74138.877, 77057.701]    922   0.905640    0.013802   835.0    87.0   \n",
       "24    (77057.701, 79976.525]    968   0.887397    0.014491   859.0   109.0   \n",
       "25    (79976.525, 82895.349]   1094   0.896709    0.016377   981.0   113.0   \n",
       "26    (82895.349, 85814.173]    938   0.886994    0.014042   832.0   106.0   \n",
       "27    (85814.173, 88732.996]    949   0.900948    0.014207   855.0    94.0   \n",
       "28     (88732.996, 91651.82]    656   0.905488    0.009820   594.0    62.0   \n",
       "29     (91651.82, 94570.644]    597   0.897822    0.008937   536.0    61.0   \n",
       "30    (94570.644, 97489.468]    510   0.896078    0.007635   457.0    53.0   \n",
       "31   (97489.468, 100408.292]    677   0.858198    0.010135   581.0    96.0   \n",
       "32  (100408.292, 103327.115]    589   0.921902    0.008817   543.0    46.0   \n",
       "33  (103327.115, 106245.939]    499   0.885772    0.007470   442.0    57.0   \n",
       "34  (106245.939, 109164.763]    689   0.883890    0.010314   609.0    80.0   \n",
       "35  (109164.763, 112083.587]    411   0.897810    0.006153   369.0    42.0   \n",
       "36  (112083.587, 115002.411]    450   0.922222    0.006737   415.0    35.0   \n",
       "37  (115002.411, 117921.234]    429   0.911422    0.006422   391.0    38.0   \n",
       "38  (117921.234, 120840.058]    515   0.900971    0.007710   464.0    51.0   \n",
       "39  (120840.058, 123758.882]    540   0.898148    0.008084   485.0    55.0   \n",
       "40  (123758.882, 126677.706]    452   0.920354    0.006766   416.0    36.0   \n",
       "41   (126677.706, 129596.53]    459   0.877996    0.006871   403.0    56.0   \n",
       "42   (129596.53, 132515.353]    458   0.873362    0.006856   400.0    58.0   \n",
       "43  (132515.353, 135434.177]    415   0.910843    0.006213   378.0    37.0   \n",
       "44  (135434.177, 138353.001]    249   0.879518    0.003728   219.0    30.0   \n",
       "45  (138353.001, 141271.825]    260   0.907692    0.003892   236.0    24.0   \n",
       "46  (141271.825, 144190.649]    318   0.908805    0.004760   289.0    29.0   \n",
       "47  (144190.649, 147109.472]    250   0.912000    0.003743   228.0    22.0   \n",
       "48  (147109.472, 150028.296]    151   0.894040    0.002260   135.0    16.0   \n",
       "49   (150028.296, 152947.12]    178   0.870787    0.002665   155.0    23.0   \n",
       "\n",
       "    prop_n_good  prop_n_bad       WoE  diff_prop_good  diff_WoE        IV  \n",
       "0      0.038847    0.101402 -0.959449             NaN       NaN  0.557761  \n",
       "1      0.020515    0.054741 -0.981444        0.005501  0.021995  0.557761  \n",
       "2      0.040676    0.113602 -1.027052        0.011388  0.045607  0.557761  \n",
       "3      0.065140    0.149133 -0.828297        0.049646  0.198755  0.557761  \n",
       "4      0.065950    0.108733 -0.499987        0.080304  0.328310  0.557761  \n",
       "5      0.024152    0.025524 -0.055266        0.099363  0.444721  0.557761  \n",
       "6      0.018789    0.020762 -0.099821        0.009278  0.044555  0.557761  \n",
       "7      0.037579    0.042059 -0.112627        0.002697  0.012806  0.557761  \n",
       "8      0.050632    0.052975 -0.045241        0.014040  0.067386  0.557761  \n",
       "9      0.050299    0.049765  0.010688        0.011355  0.055929  0.557761  \n",
       "10     0.036477    0.030608  0.175430        0.031802  0.164742  0.557761  \n",
       "11     0.034149    0.024133  0.347150        0.030433  0.171720  0.557761  \n",
       "12     0.032653    0.021137  0.434915        0.014462  0.087766  0.557761  \n",
       "13     0.015984    0.010542  0.416205        0.003018  0.018710  0.557761  \n",
       "14     0.016275    0.008936  0.599438        0.028144  0.183233  0.557761  \n",
       "15     0.015048    0.008027  0.628448        0.004165  0.029010  0.557761  \n",
       "16     0.018332    0.011451  0.470533        0.023631  0.157915  0.557761  \n",
       "17     0.026833    0.019852  0.301307        0.027970  0.169226  0.557761  \n",
       "18     0.029951    0.019264  0.441320        0.023336  0.140013  0.557761  \n",
       "19     0.020722    0.011291  0.607202        0.025220  0.165882  0.557761  \n",
       "20     0.019351    0.012468  0.439542        0.025503  0.167660  0.557761  \n",
       "21     0.023944    0.012521  0.648246        0.031341  0.208703  0.557761  \n",
       "22     0.025274    0.009953  0.931864        0.036164  0.283619  0.557761  \n",
       "23     0.017355    0.004655  1.315716        0.038308  0.383852  0.557761  \n",
       "24     0.017854    0.005833  1.118656        0.018243  0.197061  0.557761  \n",
       "25     0.020390    0.006047  1.215418        0.009313  0.096763  0.557761  \n",
       "26     0.017293    0.005672  1.114625        0.009716  0.100793  0.557761  \n",
       "27     0.017771    0.005030  1.262014        0.013955  0.147389  0.557761  \n",
       "28     0.012346    0.003318  1.313875        0.004539  0.051860  0.557761  \n",
       "29     0.011141    0.003264  1.227394        0.007665  0.086481  0.557761  \n",
       "30     0.009499    0.002836  1.208494        0.001744  0.018900  0.557761  \n",
       "31     0.012076    0.005137  0.854641        0.037880  0.353853  0.557761  \n",
       "32     0.011286    0.002461  1.522500        0.063704  0.667860  0.557761  \n",
       "33     0.009187    0.003050  1.102390        0.036130  0.420111  0.557761  \n",
       "34     0.012658    0.004281  1.083987        0.001882  0.018403  0.557761  \n",
       "35     0.007670    0.002247  1.227163        0.013921  0.143175  0.557761  \n",
       "36     0.008626    0.001873  1.526863        0.024412  0.299700  0.557761  \n",
       "37     0.008127    0.002033  1.385103        0.010800  0.141760  0.557761  \n",
       "38     0.009644    0.002729  1.262146        0.010451  0.122957  0.557761  \n",
       "39     0.010081    0.002943  1.230925        0.002823  0.031221  0.557761  \n",
       "40     0.008646    0.001926  1.501113        0.022206  0.270188  0.557761  \n",
       "41     0.008376    0.002997  1.027721        0.042358  0.473392  0.557761  \n",
       "42     0.008314    0.003104  0.985170        0.004633  0.042551  0.557761  \n",
       "43     0.007857    0.001980  1.377949        0.037481  0.392779  0.557761  \n",
       "44     0.004552    0.001605  1.041821        0.031325  0.336127  0.557761  \n",
       "45     0.004905    0.001284  1.339553        0.028174  0.297732  0.557761  \n",
       "46     0.006007    0.001552  1.353003        0.001113  0.013450  0.557761  \n",
       "47     0.004739    0.001177  1.392015        0.003195  0.039012  0.557761  \n",
       "48     0.002806    0.000856  1.186225        0.017960  0.205790  0.557761  \n",
       "49     0.003222    0.001231  0.961779        0.023253  0.224446  0.557761  "
      ]
     },
     "execution_count": 2684,
     "metadata": {},
     "output_type": "execute_result"
    }
   ],
   "source": [
    "#fine-classing \n",
    "X_train_prepr['Annual_Income'] = pd.cut(X_train_prepr['Annual_Income'], 50)\n",
    "df_temp = woe_ordered_continuous(X_train_prepr, 'Annual_Income', y_train_prepr)\n",
    "df_temp"
   ]
  },
  {
   "cell_type": "code",
   "execution_count": 2685,
   "metadata": {},
   "outputs": [
    {
     "data": {
      "image/png": "[encoded data removed]",
      "text/plain": [
       "<Figure size 1800x600 with 1 Axes>"
      ]
     },
     "metadata": {},
     "output_type": "display_data"
    }
   ],
   "source": [
    "plot_by_woe(df_temp, 90)"
   ]
  },
  {
   "cell_type": "code",
   "execution_count": 2686,
   "metadata": {},
   "outputs": [
    {
     "data": {
      "text/html": [
       "<div>\n",
       "<style scoped>\n",
       "    .dataframe tbody tr th:only-of-type {\n",
       "        vertical-align: middle;\n",
       "    }\n",
       "\n",
       "    .dataframe tbody tr th {\n",
       "        vertical-align: top;\n",
       "    }\n",
       "\n",
       "    .dataframe thead th {\n",
       "        text-align: right;\n",
       "    }\n",
       "</style>\n",
       "<table border=\"1\" class=\"dataframe\">\n",
       "  <thead>\n",
       "    <tr style=\"text-align: right;\">\n",
       "      <th></th>\n",
       "      <th>Delay_from_due_date</th>\n",
       "      <th>n_obs</th>\n",
       "      <th>prop_good</th>\n",
       "      <th>prop_n_obs</th>\n",
       "      <th>n_good</th>\n",
       "      <th>n_bad</th>\n",
       "      <th>prop_n_good</th>\n",
       "      <th>prop_n_bad</th>\n",
       "      <th>WoE</th>\n",
       "      <th>diff_prop_good</th>\n",
       "      <th>diff_WoE</th>\n",
       "      <th>IV</th>\n",
       "    </tr>\n",
       "  </thead>\n",
       "  <tbody>\n",
       "    <tr>\n",
       "      <th>0</th>\n",
       "      <td>(-0.067, 2.233]</td>\n",
       "      <td>2865</td>\n",
       "      <td>0.782199</td>\n",
       "      <td>0.042889</td>\n",
       "      <td>2241.0</td>\n",
       "      <td>624.0</td>\n",
       "      <td>0.046579</td>\n",
       "      <td>0.033390</td>\n",
       "      <td>0.332869</td>\n",
       "      <td>NaN</td>\n",
       "      <td>NaN</td>\n",
       "      <td>0.035956</td>\n",
       "    </tr>\n",
       "    <tr>\n",
       "      <th>1</th>\n",
       "      <td>(2.233, 4.467]</td>\n",
       "      <td>2247</td>\n",
       "      <td>0.779261</td>\n",
       "      <td>0.033638</td>\n",
       "      <td>1751.0</td>\n",
       "      <td>496.0</td>\n",
       "      <td>0.036394</td>\n",
       "      <td>0.026541</td>\n",
       "      <td>0.315706</td>\n",
       "      <td>0.002938</td>\n",
       "      <td>0.017162</td>\n",
       "      <td>0.035956</td>\n",
       "    </tr>\n",
       "    <tr>\n",
       "      <th>2</th>\n",
       "      <td>(4.467, 6.7]</td>\n",
       "      <td>4049</td>\n",
       "      <td>0.750803</td>\n",
       "      <td>0.060614</td>\n",
       "      <td>3040.0</td>\n",
       "      <td>1009.0</td>\n",
       "      <td>0.063186</td>\n",
       "      <td>0.053992</td>\n",
       "      <td>0.157245</td>\n",
       "      <td>0.028459</td>\n",
       "      <td>0.158461</td>\n",
       "      <td>0.035956</td>\n",
       "    </tr>\n",
       "    <tr>\n",
       "      <th>3</th>\n",
       "      <td>(6.7, 8.933]</td>\n",
       "      <td>4299</td>\n",
       "      <td>0.758083</td>\n",
       "      <td>0.064356</td>\n",
       "      <td>3259.0</td>\n",
       "      <td>1040.0</td>\n",
       "      <td>0.067738</td>\n",
       "      <td>0.055651</td>\n",
       "      <td>0.196546</td>\n",
       "      <td>0.007281</td>\n",
       "      <td>0.039301</td>\n",
       "      <td>0.035956</td>\n",
       "    </tr>\n",
       "    <tr>\n",
       "      <th>4</th>\n",
       "      <td>(8.933, 11.167]</td>\n",
       "      <td>6407</td>\n",
       "      <td>0.752458</td>\n",
       "      <td>0.095913</td>\n",
       "      <td>4821.0</td>\n",
       "      <td>1586.0</td>\n",
       "      <td>0.100204</td>\n",
       "      <td>0.084867</td>\n",
       "      <td>0.166114</td>\n",
       "      <td>0.005625</td>\n",
       "      <td>0.030432</td>\n",
       "      <td>0.035956</td>\n",
       "    </tr>\n",
       "    <tr>\n",
       "      <th>5</th>\n",
       "      <td>(11.167, 13.4]</td>\n",
       "      <td>4306</td>\n",
       "      <td>0.754064</td>\n",
       "      <td>0.064461</td>\n",
       "      <td>3247.0</td>\n",
       "      <td>1059.0</td>\n",
       "      <td>0.067488</td>\n",
       "      <td>0.056667</td>\n",
       "      <td>0.174754</td>\n",
       "      <td>0.001606</td>\n",
       "      <td>0.008639</td>\n",
       "      <td>0.035956</td>\n",
       "    </tr>\n",
       "    <tr>\n",
       "      <th>6</th>\n",
       "      <td>(13.4, 15.633]</td>\n",
       "      <td>4618</td>\n",
       "      <td>0.736249</td>\n",
       "      <td>0.069132</td>\n",
       "      <td>3400.0</td>\n",
       "      <td>1218.0</td>\n",
       "      <td>0.070668</td>\n",
       "      <td>0.065176</td>\n",
       "      <td>0.080914</td>\n",
       "      <td>0.017815</td>\n",
       "      <td>0.093840</td>\n",
       "      <td>0.035956</td>\n",
       "    </tr>\n",
       "    <tr>\n",
       "      <th>7</th>\n",
       "      <td>(15.633, 17.867]</td>\n",
       "      <td>3430</td>\n",
       "      <td>0.719242</td>\n",
       "      <td>0.051347</td>\n",
       "      <td>2467.0</td>\n",
       "      <td>963.0</td>\n",
       "      <td>0.051276</td>\n",
       "      <td>0.051530</td>\n",
       "      <td>-0.004945</td>\n",
       "      <td>0.017007</td>\n",
       "      <td>0.085859</td>\n",
       "      <td>0.035956</td>\n",
       "    </tr>\n",
       "    <tr>\n",
       "      <th>8</th>\n",
       "      <td>(17.867, 20.1]</td>\n",
       "      <td>5232</td>\n",
       "      <td>0.717125</td>\n",
       "      <td>0.078323</td>\n",
       "      <td>3752.0</td>\n",
       "      <td>1480.0</td>\n",
       "      <td>0.077985</td>\n",
       "      <td>0.079195</td>\n",
       "      <td>-0.015403</td>\n",
       "      <td>0.002117</td>\n",
       "      <td>0.010458</td>\n",
       "      <td>0.035956</td>\n",
       "    </tr>\n",
       "    <tr>\n",
       "      <th>9</th>\n",
       "      <td>(20.1, 22.333]</td>\n",
       "      <td>3212</td>\n",
       "      <td>0.710772</td>\n",
       "      <td>0.048084</td>\n",
       "      <td>2283.0</td>\n",
       "      <td>929.0</td>\n",
       "      <td>0.047452</td>\n",
       "      <td>0.049711</td>\n",
       "      <td>-0.046512</td>\n",
       "      <td>0.006353</td>\n",
       "      <td>0.031109</td>\n",
       "      <td>0.035956</td>\n",
       "    </tr>\n",
       "    <tr>\n",
       "      <th>10</th>\n",
       "      <td>(22.333, 24.567]</td>\n",
       "      <td>3312</td>\n",
       "      <td>0.696860</td>\n",
       "      <td>0.049581</td>\n",
       "      <td>2308.0</td>\n",
       "      <td>1004.0</td>\n",
       "      <td>0.047971</td>\n",
       "      <td>0.053724</td>\n",
       "      <td>-0.113258</td>\n",
       "      <td>0.013912</td>\n",
       "      <td>0.066746</td>\n",
       "      <td>0.035956</td>\n",
       "    </tr>\n",
       "    <tr>\n",
       "      <th>11</th>\n",
       "      <td>(24.567, 26.8]</td>\n",
       "      <td>3309</td>\n",
       "      <td>0.696283</td>\n",
       "      <td>0.049536</td>\n",
       "      <td>2304.0</td>\n",
       "      <td>1005.0</td>\n",
       "      <td>0.047888</td>\n",
       "      <td>0.053778</td>\n",
       "      <td>-0.115989</td>\n",
       "      <td>0.000577</td>\n",
       "      <td>0.002730</td>\n",
       "      <td>0.035956</td>\n",
       "    </tr>\n",
       "    <tr>\n",
       "      <th>12</th>\n",
       "      <td>(26.8, 29.033]</td>\n",
       "      <td>4960</td>\n",
       "      <td>0.717137</td>\n",
       "      <td>0.074251</td>\n",
       "      <td>3557.0</td>\n",
       "      <td>1403.0</td>\n",
       "      <td>0.073932</td>\n",
       "      <td>0.075075</td>\n",
       "      <td>-0.015345</td>\n",
       "      <td>0.020854</td>\n",
       "      <td>0.100643</td>\n",
       "      <td>0.035956</td>\n",
       "    </tr>\n",
       "    <tr>\n",
       "      <th>13</th>\n",
       "      <td>(29.033, 31.267]</td>\n",
       "      <td>2076</td>\n",
       "      <td>0.710019</td>\n",
       "      <td>0.031078</td>\n",
       "      <td>1474.0</td>\n",
       "      <td>602.0</td>\n",
       "      <td>0.030637</td>\n",
       "      <td>0.032213</td>\n",
       "      <td>-0.050171</td>\n",
       "      <td>0.007118</td>\n",
       "      <td>0.034826</td>\n",
       "      <td>0.035956</td>\n",
       "    </tr>\n",
       "    <tr>\n",
       "      <th>14</th>\n",
       "      <td>(31.267, 33.5]</td>\n",
       "      <td>1079</td>\n",
       "      <td>0.682113</td>\n",
       "      <td>0.016153</td>\n",
       "      <td>736.0</td>\n",
       "      <td>343.0</td>\n",
       "      <td>0.015298</td>\n",
       "      <td>0.018354</td>\n",
       "      <td>-0.182139</td>\n",
       "      <td>0.027906</td>\n",
       "      <td>0.131969</td>\n",
       "      <td>0.035956</td>\n",
       "    </tr>\n",
       "    <tr>\n",
       "      <th>15</th>\n",
       "      <td>(33.5, 35.733]</td>\n",
       "      <td>899</td>\n",
       "      <td>0.677419</td>\n",
       "      <td>0.013458</td>\n",
       "      <td>609.0</td>\n",
       "      <td>290.0</td>\n",
       "      <td>0.012658</td>\n",
       "      <td>0.015518</td>\n",
       "      <td>-0.203698</td>\n",
       "      <td>0.004694</td>\n",
       "      <td>0.021559</td>\n",
       "      <td>0.035956</td>\n",
       "    </tr>\n",
       "    <tr>\n",
       "      <th>16</th>\n",
       "      <td>(35.733, 37.967]</td>\n",
       "      <td>736</td>\n",
       "      <td>0.650815</td>\n",
       "      <td>0.011018</td>\n",
       "      <td>479.0</td>\n",
       "      <td>257.0</td>\n",
       "      <td>0.009956</td>\n",
       "      <td>0.013752</td>\n",
       "      <td>-0.322998</td>\n",
       "      <td>0.026604</td>\n",
       "      <td>0.119300</td>\n",
       "      <td>0.035956</td>\n",
       "    </tr>\n",
       "    <tr>\n",
       "      <th>17</th>\n",
       "      <td>(37.967, 40.2]</td>\n",
       "      <td>1121</td>\n",
       "      <td>0.662801</td>\n",
       "      <td>0.016781</td>\n",
       "      <td>743.0</td>\n",
       "      <td>378.0</td>\n",
       "      <td>0.015443</td>\n",
       "      <td>0.020227</td>\n",
       "      <td>-0.269833</td>\n",
       "      <td>0.011986</td>\n",
       "      <td>0.053165</td>\n",
       "      <td>0.035956</td>\n",
       "    </tr>\n",
       "    <tr>\n",
       "      <th>18</th>\n",
       "      <td>(40.2, 42.433]</td>\n",
       "      <td>806</td>\n",
       "      <td>0.673697</td>\n",
       "      <td>0.012066</td>\n",
       "      <td>543.0</td>\n",
       "      <td>263.0</td>\n",
       "      <td>0.011286</td>\n",
       "      <td>0.014073</td>\n",
       "      <td>-0.220677</td>\n",
       "      <td>0.010896</td>\n",
       "      <td>0.049156</td>\n",
       "      <td>0.035956</td>\n",
       "    </tr>\n",
       "    <tr>\n",
       "      <th>19</th>\n",
       "      <td>(42.433, 44.667]</td>\n",
       "      <td>727</td>\n",
       "      <td>0.646492</td>\n",
       "      <td>0.010883</td>\n",
       "      <td>470.0</td>\n",
       "      <td>257.0</td>\n",
       "      <td>0.009769</td>\n",
       "      <td>0.013752</td>\n",
       "      <td>-0.341964</td>\n",
       "      <td>0.027205</td>\n",
       "      <td>0.121287</td>\n",
       "      <td>0.035956</td>\n",
       "    </tr>\n",
       "    <tr>\n",
       "      <th>20</th>\n",
       "      <td>(44.667, 46.9]</td>\n",
       "      <td>684</td>\n",
       "      <td>0.635965</td>\n",
       "      <td>0.010240</td>\n",
       "      <td>435.0</td>\n",
       "      <td>249.0</td>\n",
       "      <td>0.009041</td>\n",
       "      <td>0.013324</td>\n",
       "      <td>-0.387721</td>\n",
       "      <td>0.010528</td>\n",
       "      <td>0.045758</td>\n",
       "      <td>0.035956</td>\n",
       "    </tr>\n",
       "    <tr>\n",
       "      <th>21</th>\n",
       "      <td>(46.9, 49.133]</td>\n",
       "      <td>1239</td>\n",
       "      <td>0.644875</td>\n",
       "      <td>0.018548</td>\n",
       "      <td>799.0</td>\n",
       "      <td>440.0</td>\n",
       "      <td>0.016607</td>\n",
       "      <td>0.023545</td>\n",
       "      <td>-0.349046</td>\n",
       "      <td>0.008910</td>\n",
       "      <td>0.038675</td>\n",
       "      <td>0.035956</td>\n",
       "    </tr>\n",
       "    <tr>\n",
       "      <th>22</th>\n",
       "      <td>(49.133, 51.367]</td>\n",
       "      <td>736</td>\n",
       "      <td>0.664402</td>\n",
       "      <td>0.011018</td>\n",
       "      <td>489.0</td>\n",
       "      <td>247.0</td>\n",
       "      <td>0.010164</td>\n",
       "      <td>0.013217</td>\n",
       "      <td>-0.262653</td>\n",
       "      <td>0.019527</td>\n",
       "      <td>0.086393</td>\n",
       "      <td>0.035956</td>\n",
       "    </tr>\n",
       "    <tr>\n",
       "      <th>23</th>\n",
       "      <td>(51.367, 53.6]</td>\n",
       "      <td>807</td>\n",
       "      <td>0.645601</td>\n",
       "      <td>0.012081</td>\n",
       "      <td>521.0</td>\n",
       "      <td>286.0</td>\n",
       "      <td>0.010829</td>\n",
       "      <td>0.015304</td>\n",
       "      <td>-0.345865</td>\n",
       "      <td>0.018801</td>\n",
       "      <td>0.083212</td>\n",
       "      <td>0.035956</td>\n",
       "    </tr>\n",
       "    <tr>\n",
       "      <th>24</th>\n",
       "      <td>(53.6, 55.833]</td>\n",
       "      <td>817</td>\n",
       "      <td>0.615667</td>\n",
       "      <td>0.012231</td>\n",
       "      <td>503.0</td>\n",
       "      <td>314.0</td>\n",
       "      <td>0.010455</td>\n",
       "      <td>0.016802</td>\n",
       "      <td>-0.474417</td>\n",
       "      <td>0.029934</td>\n",
       "      <td>0.128552</td>\n",
       "      <td>0.035956</td>\n",
       "    </tr>\n",
       "    <tr>\n",
       "      <th>25</th>\n",
       "      <td>(55.833, 58.067]</td>\n",
       "      <td>1185</td>\n",
       "      <td>0.673418</td>\n",
       "      <td>0.017740</td>\n",
       "      <td>798.0</td>\n",
       "      <td>387.0</td>\n",
       "      <td>0.016586</td>\n",
       "      <td>0.020708</td>\n",
       "      <td>-0.221954</td>\n",
       "      <td>0.057751</td>\n",
       "      <td>0.252463</td>\n",
       "      <td>0.035956</td>\n",
       "    </tr>\n",
       "    <tr>\n",
       "      <th>26</th>\n",
       "      <td>(58.067, 60.3]</td>\n",
       "      <td>750</td>\n",
       "      <td>0.672000</td>\n",
       "      <td>0.011228</td>\n",
       "      <td>504.0</td>\n",
       "      <td>246.0</td>\n",
       "      <td>0.010476</td>\n",
       "      <td>0.013164</td>\n",
       "      <td>-0.228386</td>\n",
       "      <td>0.001418</td>\n",
       "      <td>0.006432</td>\n",
       "      <td>0.035956</td>\n",
       "    </tr>\n",
       "    <tr>\n",
       "      <th>27</th>\n",
       "      <td>(60.3, 62.533]</td>\n",
       "      <td>724</td>\n",
       "      <td>0.649171</td>\n",
       "      <td>0.010838</td>\n",
       "      <td>470.0</td>\n",
       "      <td>254.0</td>\n",
       "      <td>0.009769</td>\n",
       "      <td>0.013592</td>\n",
       "      <td>-0.330223</td>\n",
       "      <td>0.022829</td>\n",
       "      <td>0.101837</td>\n",
       "      <td>0.035956</td>\n",
       "    </tr>\n",
       "    <tr>\n",
       "      <th>28</th>\n",
       "      <td>(62.533, 64.767]</td>\n",
       "      <td>91</td>\n",
       "      <td>0.626374</td>\n",
       "      <td>0.001362</td>\n",
       "      <td>57.0</td>\n",
       "      <td>34.0</td>\n",
       "      <td>0.001185</td>\n",
       "      <td>0.001819</td>\n",
       "      <td>-0.428665</td>\n",
       "      <td>0.022798</td>\n",
       "      <td>0.098442</td>\n",
       "      <td>0.035956</td>\n",
       "    </tr>\n",
       "    <tr>\n",
       "      <th>29</th>\n",
       "      <td>(64.767, 67.0]</td>\n",
       "      <td>77</td>\n",
       "      <td>0.675325</td>\n",
       "      <td>0.001153</td>\n",
       "      <td>52.0</td>\n",
       "      <td>25.0</td>\n",
       "      <td>0.001081</td>\n",
       "      <td>0.001338</td>\n",
       "      <td>-0.213105</td>\n",
       "      <td>0.048951</td>\n",
       "      <td>0.215560</td>\n",
       "      <td>0.035956</td>\n",
       "    </tr>\n",
       "  </tbody>\n",
       "</table>\n",
       "</div>"
      ],
      "text/plain": [
       "   Delay_from_due_date  n_obs  prop_good  prop_n_obs  n_good   n_bad  \\\n",
       "0      (-0.067, 2.233]   2865   0.782199    0.042889  2241.0   624.0   \n",
       "1       (2.233, 4.467]   2247   0.779261    0.033638  1751.0   496.0   \n",
       "2         (4.467, 6.7]   4049   0.750803    0.060614  3040.0  1009.0   \n",
       "3         (6.7, 8.933]   4299   0.758083    0.064356  3259.0  1040.0   \n",
       "4      (8.933, 11.167]   6407   0.752458    0.095913  4821.0  1586.0   \n",
       "5       (11.167, 13.4]   4306   0.754064    0.064461  3247.0  1059.0   \n",
       "6       (13.4, 15.633]   4618   0.736249    0.069132  3400.0  1218.0   \n",
       "7     (15.633, 17.867]   3430   0.719242    0.051347  2467.0   963.0   \n",
       "8       (17.867, 20.1]   5232   0.717125    0.078323  3752.0  1480.0   \n",
       "9       (20.1, 22.333]   3212   0.710772    0.048084  2283.0   929.0   \n",
       "10    (22.333, 24.567]   3312   0.696860    0.049581  2308.0  1004.0   \n",
       "11      (24.567, 26.8]   3309   0.696283    0.049536  2304.0  1005.0   \n",
       "12      (26.8, 29.033]   4960   0.717137    0.074251  3557.0  1403.0   \n",
       "13    (29.033, 31.267]   2076   0.710019    0.031078  1474.0   602.0   \n",
       "14      (31.267, 33.5]   1079   0.682113    0.016153   736.0   343.0   \n",
       "15      (33.5, 35.733]    899   0.677419    0.013458   609.0   290.0   \n",
       "16    (35.733, 37.967]    736   0.650815    0.011018   479.0   257.0   \n",
       "17      (37.967, 40.2]   1121   0.662801    0.016781   743.0   378.0   \n",
       "18      (40.2, 42.433]    806   0.673697    0.012066   543.0   263.0   \n",
       "19    (42.433, 44.667]    727   0.646492    0.010883   470.0   257.0   \n",
       "20      (44.667, 46.9]    684   0.635965    0.010240   435.0   249.0   \n",
       "21      (46.9, 49.133]   1239   0.644875    0.018548   799.0   440.0   \n",
       "22    (49.133, 51.367]    736   0.664402    0.011018   489.0   247.0   \n",
       "23      (51.367, 53.6]    807   0.645601    0.012081   521.0   286.0   \n",
       "24      (53.6, 55.833]    817   0.615667    0.012231   503.0   314.0   \n",
       "25    (55.833, 58.067]   1185   0.673418    0.017740   798.0   387.0   \n",
       "26      (58.067, 60.3]    750   0.672000    0.011228   504.0   246.0   \n",
       "27      (60.3, 62.533]    724   0.649171    0.010838   470.0   254.0   \n",
       "28    (62.533, 64.767]     91   0.626374    0.001362    57.0    34.0   \n",
       "29      (64.767, 67.0]     77   0.675325    0.001153    52.0    25.0   \n",
       "\n",
       "    prop_n_good  prop_n_bad       WoE  diff_prop_good  diff_WoE        IV  \n",
       "0      0.046579    0.033390  0.332869             NaN       NaN  0.035956  \n",
       "1      0.036394    0.026541  0.315706        0.002938  0.017162  0.035956  \n",
       "2      0.063186    0.053992  0.157245        0.028459  0.158461  0.035956  \n",
       "3      0.067738    0.055651  0.196546        0.007281  0.039301  0.035956  \n",
       "4      0.100204    0.084867  0.166114        0.005625  0.030432  0.035956  \n",
       "5      0.067488    0.056667  0.174754        0.001606  0.008639  0.035956  \n",
       "6      0.070668    0.065176  0.080914        0.017815  0.093840  0.035956  \n",
       "7      0.051276    0.051530 -0.004945        0.017007  0.085859  0.035956  \n",
       "8      0.077985    0.079195 -0.015403        0.002117  0.010458  0.035956  \n",
       "9      0.047452    0.049711 -0.046512        0.006353  0.031109  0.035956  \n",
       "10     0.047971    0.053724 -0.113258        0.013912  0.066746  0.035956  \n",
       "11     0.047888    0.053778 -0.115989        0.000577  0.002730  0.035956  \n",
       "12     0.073932    0.075075 -0.015345        0.020854  0.100643  0.035956  \n",
       "13     0.030637    0.032213 -0.050171        0.007118  0.034826  0.035956  \n",
       "14     0.015298    0.018354 -0.182139        0.027906  0.131969  0.035956  \n",
       "15     0.012658    0.015518 -0.203698        0.004694  0.021559  0.035956  \n",
       "16     0.009956    0.013752 -0.322998        0.026604  0.119300  0.035956  \n",
       "17     0.015443    0.020227 -0.269833        0.011986  0.053165  0.035956  \n",
       "18     0.011286    0.014073 -0.220677        0.010896  0.049156  0.035956  \n",
       "19     0.009769    0.013752 -0.341964        0.027205  0.121287  0.035956  \n",
       "20     0.009041    0.013324 -0.387721        0.010528  0.045758  0.035956  \n",
       "21     0.016607    0.023545 -0.349046        0.008910  0.038675  0.035956  \n",
       "22     0.010164    0.013217 -0.262653        0.019527  0.086393  0.035956  \n",
       "23     0.010829    0.015304 -0.345865        0.018801  0.083212  0.035956  \n",
       "24     0.010455    0.016802 -0.474417        0.029934  0.128552  0.035956  \n",
       "25     0.016586    0.020708 -0.221954        0.057751  0.252463  0.035956  \n",
       "26     0.010476    0.013164 -0.228386        0.001418  0.006432  0.035956  \n",
       "27     0.009769    0.013592 -0.330223        0.022829  0.101837  0.035956  \n",
       "28     0.001185    0.001819 -0.428665        0.022798  0.098442  0.035956  \n",
       "29     0.001081    0.001338 -0.213105        0.048951  0.215560  0.035956  "
      ]
     },
     "execution_count": 2686,
     "metadata": {},
     "output_type": "execute_result"
    }
   ],
   "source": [
    "#Delay from due dates\n",
    "#X_train_prepr_temp = X_train_prepr[X_train_prepr['Delay_from_due_date'] >= 4].copy()\n",
    "X_train_prepr['Delay_from_due_date'] = pd.cut(X_train_prepr['Delay_from_due_date'], 30)\n",
    "df_temp = woe_ordered_continuous(X_train_prepr, 'Delay_from_due_date', y_train_prepr)\n",
    "df_temp"
   ]
  },
  {
   "cell_type": "code",
   "execution_count": 2688,
   "metadata": {},
   "outputs": [
    {
     "data": {
      "image/png": "[encoded data removed]",
      "text/plain": [
       "<Figure size 1800x600 with 1 Axes>"
      ]
     },
     "metadata": {},
     "output_type": "display_data"
    }
   ],
   "source": [
    "plot_by_woe(df_temp, 90)"
   ]
  }
 ],
 "metadata": {
  "colab": {
   "provenance": []
  },
  "kernelspec": {
   "display_name": "Python 3 (ipykernel)",
   "language": "python",
   "name": "python3"
  },
  "language_info": {
   "codemirror_mode": {
    "name": "ipython",
    "version": 3
   },
   "file_extension": ".py",
   "mimetype": "text/x-python",
   "name": "python",
   "nbconvert_exporter": "python",
   "pygments_lexer": "ipython3",
   "version": "3.10.9"
  }
 },
 "nbformat": 4,
 "nbformat_minor": 1
}
