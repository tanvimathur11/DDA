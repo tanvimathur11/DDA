{
 "cells": [
  {
   "cell_type": "code",
   "execution_count": 2029,
   "metadata": {
    "id": "o4hiN2edAc6P"
   },
   "outputs": [
    {
     "name": "stdout",
     "output_type": "stream",
     "text": [
      "unzip:  cannot find or open Train_Dataset.zip, Train_Dataset.zip.zip or Train_Dataset.zip.ZIP.\r\n"
     ]
    }
   ],
   "source": [
    "!unzip Train_Dataset.zip"
   ]
  },
  {
   "cell_type": "code",
   "execution_count": 2030,
   "metadata": {},
   "outputs": [
    {
     "name": "stdout",
     "output_type": "stream",
     "text": [
      "rm: Train_Dataset.zip: No such file or directory\r\n"
     ]
    }
   ],
   "source": [
    "!rm Train_Dataset.zip"
   ]
  },
  {
   "cell_type": "code",
   "execution_count": 2031,
   "metadata": {},
   "outputs": [],
   "source": [
    "#importing neccesary libraries\n",
    "import numpy as np\n",
    "import pandas as pd\n",
    "import matplotlib.pyplot as plt\n",
    "%matplotlib inline\n",
    "import seaborn as sns\n",
    "\n",
    "from sklearn.model_selection import train_test_split, RepeatedStratifiedKFold, cross_val_score\n",
    "from sklearn.linear_model import LogisticRegression\n",
    "from sklearn.metrics import roc_curve, roc_auc_score, confusion_matrix, precision_recall_curve, auc\n",
    "from sklearn.feature_selection import f_classif\n",
    "from sklearn.pipeline import Pipeline\n",
    "from sklearn.base import BaseEstimator, TransformerMixin\n",
    "from scipy.stats import chi2_contingency"
   ]
  },
  {
   "cell_type": "code",
   "execution_count": 2032,
   "metadata": {
    "id": "5jGkPzIaA2aR"
   },
   "outputs": [
    {
     "data": {
      "text/plain": [
       "ID                           object\n",
       "Customer_ID                  object\n",
       "Month                        object\n",
       "Name                         object\n",
       "Age                          object\n",
       "SSN                          object\n",
       "Occupation                   object\n",
       "Annual_Income                object\n",
       "Monthly_Inhand_Salary       float64\n",
       "Num_Bank_Accounts             int64\n",
       "Num_Credit_Card               int64\n",
       "Interest_Rate                 int64\n",
       "Num_of_Loan                  object\n",
       "Type_of_Loan                 object\n",
       "Delay_from_due_date           int64\n",
       "Num_of_Delayed_Payment       object\n",
       "Changed_Credit_Limit         object\n",
       "Num_Credit_Inquiries        float64\n",
       "Credit_Mix                   object\n",
       "Outstanding_Debt             object\n",
       "Credit_Utilization_Ratio    float64\n",
       "Credit_History_Age           object\n",
       "Payment_of_Min_Amount        object\n",
       "Total_EMI_per_month         float64\n",
       "Amount_invested_monthly      object\n",
       "Payment_Behaviour            object\n",
       "Monthly_Balance              object\n",
       "Credit_Score                 object\n",
       "dtype: object"
      ]
     },
     "execution_count": 2032,
     "metadata": {},
     "output_type": "execute_result"
    }
   ],
   "source": [
    "dataset = pd.read_csv('train.csv',low_memory=False)\n",
    "dataset.dtypes"
   ]
  },
  {
   "cell_type": "code",
   "execution_count": 2033,
   "metadata": {
    "id": "Cf_5fvcfF1P7"
   },
   "outputs": [],
   "source": [
    "\n",
    "#dropping features which are not useful for determining the credit score\n",
    "final_dataset = dataset.drop([\"Amount_invested_monthly\", \"SSN\", \"Name\", \"Month\", \"Age\", \"Num_Bank_Accounts\", \"Num_Credit_Card\", \"Interest_Rate\", \"Type_of_Loan\", \"Changed_Credit_Limit\", \"Num_Credit_Inquiries\", \"Credit_Mix\", \"Credit_Utilization_Ratio\"], axis=1)"
   ]
  },
  {
   "cell_type": "code",
   "execution_count": null,
   "metadata": {},
   "outputs": [],
   "source": []
  },
  {
   "cell_type": "code",
   "execution_count": 2034,
   "metadata": {
    "id": "Fgx3m0VSGN14"
   },
   "outputs": [],
   "source": [
    "dataset.to_csv('final_dataset.csv', index=False)"
   ]
  },
  {
   "cell_type": "code",
   "execution_count": 2035,
   "metadata": {
    "id": "nN9m4HlBD71J"
   },
   "outputs": [],
   "source": [
    "final_dataset = pd.read_csv('final_dataset.csv', low_memory=False)\n",
    "x = dataset.iloc[:,:-1].values\n",
    "y = dataset.iloc[:,-1].values"
   ]
  },
  {
   "cell_type": "code",
   "execution_count": 2036,
   "metadata": {},
   "outputs": [
    {
     "data": {
      "text/html": [
       "<div>\n",
       "<style scoped>\n",
       "    .dataframe tbody tr th:only-of-type {\n",
       "        vertical-align: middle;\n",
       "    }\n",
       "\n",
       "    .dataframe tbody tr th {\n",
       "        vertical-align: top;\n",
       "    }\n",
       "\n",
       "    .dataframe thead th {\n",
       "        text-align: right;\n",
       "    }\n",
       "</style>\n",
       "<table border=\"1\" class=\"dataframe\">\n",
       "  <thead>\n",
       "    <tr style=\"text-align: right;\">\n",
       "      <th></th>\n",
       "      <th>ID</th>\n",
       "      <th>Customer_ID</th>\n",
       "      <th>Month</th>\n",
       "      <th>Name</th>\n",
       "      <th>Age</th>\n",
       "      <th>SSN</th>\n",
       "      <th>Occupation</th>\n",
       "      <th>Annual_Income</th>\n",
       "      <th>Monthly_Inhand_Salary</th>\n",
       "      <th>Num_Bank_Accounts</th>\n",
       "      <th>...</th>\n",
       "      <th>Credit_Mix</th>\n",
       "      <th>Outstanding_Debt</th>\n",
       "      <th>Credit_Utilization_Ratio</th>\n",
       "      <th>Credit_History_Age</th>\n",
       "      <th>Payment_of_Min_Amount</th>\n",
       "      <th>Total_EMI_per_month</th>\n",
       "      <th>Amount_invested_monthly</th>\n",
       "      <th>Payment_Behaviour</th>\n",
       "      <th>Monthly_Balance</th>\n",
       "      <th>Credit_Score</th>\n",
       "    </tr>\n",
       "  </thead>\n",
       "  <tbody>\n",
       "    <tr>\n",
       "      <th>0</th>\n",
       "      <td>0x1602</td>\n",
       "      <td>CUS_0xd40</td>\n",
       "      <td>January</td>\n",
       "      <td>Aaron Maashoh</td>\n",
       "      <td>23</td>\n",
       "      <td>821-00-0265</td>\n",
       "      <td>Scientist</td>\n",
       "      <td>19114.12</td>\n",
       "      <td>1824.843333</td>\n",
       "      <td>3</td>\n",
       "      <td>...</td>\n",
       "      <td>_</td>\n",
       "      <td>809.98</td>\n",
       "      <td>26.822620</td>\n",
       "      <td>22 Years and 1 Months</td>\n",
       "      <td>No</td>\n",
       "      <td>49.574949</td>\n",
       "      <td>80.41529543900253</td>\n",
       "      <td>High_spent_Small_value_payments</td>\n",
       "      <td>312.49408867943663</td>\n",
       "      <td>Good</td>\n",
       "    </tr>\n",
       "    <tr>\n",
       "      <th>1</th>\n",
       "      <td>0x1603</td>\n",
       "      <td>CUS_0xd40</td>\n",
       "      <td>February</td>\n",
       "      <td>Aaron Maashoh</td>\n",
       "      <td>23</td>\n",
       "      <td>821-00-0265</td>\n",
       "      <td>Scientist</td>\n",
       "      <td>19114.12</td>\n",
       "      <td>NaN</td>\n",
       "      <td>3</td>\n",
       "      <td>...</td>\n",
       "      <td>Good</td>\n",
       "      <td>809.98</td>\n",
       "      <td>31.944960</td>\n",
       "      <td>NaN</td>\n",
       "      <td>No</td>\n",
       "      <td>49.574949</td>\n",
       "      <td>118.28022162236736</td>\n",
       "      <td>Low_spent_Large_value_payments</td>\n",
       "      <td>284.62916249607184</td>\n",
       "      <td>Good</td>\n",
       "    </tr>\n",
       "    <tr>\n",
       "      <th>2</th>\n",
       "      <td>0x1604</td>\n",
       "      <td>CUS_0xd40</td>\n",
       "      <td>March</td>\n",
       "      <td>Aaron Maashoh</td>\n",
       "      <td>-500</td>\n",
       "      <td>821-00-0265</td>\n",
       "      <td>Scientist</td>\n",
       "      <td>19114.12</td>\n",
       "      <td>NaN</td>\n",
       "      <td>3</td>\n",
       "      <td>...</td>\n",
       "      <td>Good</td>\n",
       "      <td>809.98</td>\n",
       "      <td>28.609352</td>\n",
       "      <td>22 Years and 3 Months</td>\n",
       "      <td>No</td>\n",
       "      <td>49.574949</td>\n",
       "      <td>81.699521264648</td>\n",
       "      <td>Low_spent_Medium_value_payments</td>\n",
       "      <td>331.2098628537912</td>\n",
       "      <td>Good</td>\n",
       "    </tr>\n",
       "    <tr>\n",
       "      <th>3</th>\n",
       "      <td>0x1605</td>\n",
       "      <td>CUS_0xd40</td>\n",
       "      <td>April</td>\n",
       "      <td>Aaron Maashoh</td>\n",
       "      <td>23</td>\n",
       "      <td>821-00-0265</td>\n",
       "      <td>Scientist</td>\n",
       "      <td>19114.12</td>\n",
       "      <td>NaN</td>\n",
       "      <td>3</td>\n",
       "      <td>...</td>\n",
       "      <td>Good</td>\n",
       "      <td>809.98</td>\n",
       "      <td>31.377862</td>\n",
       "      <td>22 Years and 4 Months</td>\n",
       "      <td>No</td>\n",
       "      <td>49.574949</td>\n",
       "      <td>199.4580743910713</td>\n",
       "      <td>Low_spent_Small_value_payments</td>\n",
       "      <td>223.45130972736786</td>\n",
       "      <td>Good</td>\n",
       "    </tr>\n",
       "    <tr>\n",
       "      <th>4</th>\n",
       "      <td>0x1606</td>\n",
       "      <td>CUS_0xd40</td>\n",
       "      <td>May</td>\n",
       "      <td>Aaron Maashoh</td>\n",
       "      <td>23</td>\n",
       "      <td>821-00-0265</td>\n",
       "      <td>Scientist</td>\n",
       "      <td>19114.12</td>\n",
       "      <td>1824.843333</td>\n",
       "      <td>3</td>\n",
       "      <td>...</td>\n",
       "      <td>Good</td>\n",
       "      <td>809.98</td>\n",
       "      <td>24.797347</td>\n",
       "      <td>22 Years and 5 Months</td>\n",
       "      <td>No</td>\n",
       "      <td>49.574949</td>\n",
       "      <td>41.420153086217326</td>\n",
       "      <td>High_spent_Medium_value_payments</td>\n",
       "      <td>341.48923103222177</td>\n",
       "      <td>Good</td>\n",
       "    </tr>\n",
       "  </tbody>\n",
       "</table>\n",
       "<p>5 rows × 28 columns</p>\n",
       "</div>"
      ],
      "text/plain": [
       "       ID Customer_ID     Month           Name   Age          SSN Occupation  \\\n",
       "0  0x1602   CUS_0xd40   January  Aaron Maashoh    23  821-00-0265  Scientist   \n",
       "1  0x1603   CUS_0xd40  February  Aaron Maashoh    23  821-00-0265  Scientist   \n",
       "2  0x1604   CUS_0xd40     March  Aaron Maashoh  -500  821-00-0265  Scientist   \n",
       "3  0x1605   CUS_0xd40     April  Aaron Maashoh    23  821-00-0265  Scientist   \n",
       "4  0x1606   CUS_0xd40       May  Aaron Maashoh    23  821-00-0265  Scientist   \n",
       "\n",
       "  Annual_Income  Monthly_Inhand_Salary  Num_Bank_Accounts  ...  Credit_Mix  \\\n",
       "0      19114.12            1824.843333                  3  ...           _   \n",
       "1      19114.12                    NaN                  3  ...        Good   \n",
       "2      19114.12                    NaN                  3  ...        Good   \n",
       "3      19114.12                    NaN                  3  ...        Good   \n",
       "4      19114.12            1824.843333                  3  ...        Good   \n",
       "\n",
       "   Outstanding_Debt Credit_Utilization_Ratio     Credit_History_Age  \\\n",
       "0            809.98                26.822620  22 Years and 1 Months   \n",
       "1            809.98                31.944960                    NaN   \n",
       "2            809.98                28.609352  22 Years and 3 Months   \n",
       "3            809.98                31.377862  22 Years and 4 Months   \n",
       "4            809.98                24.797347  22 Years and 5 Months   \n",
       "\n",
       "   Payment_of_Min_Amount Total_EMI_per_month Amount_invested_monthly  \\\n",
       "0                     No           49.574949       80.41529543900253   \n",
       "1                     No           49.574949      118.28022162236736   \n",
       "2                     No           49.574949         81.699521264648   \n",
       "3                     No           49.574949       199.4580743910713   \n",
       "4                     No           49.574949      41.420153086217326   \n",
       "\n",
       "                  Payment_Behaviour     Monthly_Balance Credit_Score  \n",
       "0   High_spent_Small_value_payments  312.49408867943663         Good  \n",
       "1    Low_spent_Large_value_payments  284.62916249607184         Good  \n",
       "2   Low_spent_Medium_value_payments   331.2098628537912         Good  \n",
       "3    Low_spent_Small_value_payments  223.45130972736786         Good  \n",
       "4  High_spent_Medium_value_payments  341.48923103222177         Good  \n",
       "\n",
       "[5 rows x 28 columns]"
      ]
     },
     "execution_count": 2036,
     "metadata": {},
     "output_type": "execute_result"
    }
   ],
   "source": [
    "final_dataset.head()"
   ]
  },
  {
   "cell_type": "code",
   "execution_count": 2037,
   "metadata": {
    "colab": {
     "base_uri": "https://localhost:8080/"
    },
    "id": "CkH7iY-UEACo",
    "outputId": "52f1d62c-3528-406d-f6f1-7646e294da24"
   },
   "outputs": [
    {
     "data": {
      "text/plain": [
       "(100000, 28)"
      ]
     },
     "execution_count": 2037,
     "metadata": {},
     "output_type": "execute_result"
    }
   ],
   "source": [
    "final_dataset.shape"
   ]
  },
  {
   "cell_type": "markdown",
   "metadata": {
    "id": "7dNFJngRX7CE"
   },
   "source": [
    "Cleaning errors and fixing variables"
   ]
  },
  {
   "cell_type": "code",
   "execution_count": 2038,
   "metadata": {
    "colab": {
     "base_uri": "https://localhost:8080/"
    },
    "id": "2Euj6388YCpY",
    "outputId": "a6d5ec4f-a21c-4611-b24c-1448bf8cdcb2"
   },
   "outputs": [
    {
     "name": "stdout",
     "output_type": "stream",
     "text": [
      "<class 'pandas.core.frame.DataFrame'>\n",
      "RangeIndex: 100000 entries, 0 to 99999\n",
      "Data columns (total 28 columns):\n",
      " #   Column                    Non-Null Count   Dtype  \n",
      "---  ------                    --------------   -----  \n",
      " 0   ID                        100000 non-null  object \n",
      " 1   Customer_ID               100000 non-null  object \n",
      " 2   Month                     100000 non-null  object \n",
      " 3   Name                      90015 non-null   object \n",
      " 4   Age                       100000 non-null  object \n",
      " 5   SSN                       100000 non-null  object \n",
      " 6   Occupation                100000 non-null  object \n",
      " 7   Annual_Income             100000 non-null  object \n",
      " 8   Monthly_Inhand_Salary     84998 non-null   float64\n",
      " 9   Num_Bank_Accounts         100000 non-null  int64  \n",
      " 10  Num_Credit_Card           100000 non-null  int64  \n",
      " 11  Interest_Rate             100000 non-null  int64  \n",
      " 12  Num_of_Loan               100000 non-null  object \n",
      " 13  Type_of_Loan              88592 non-null   object \n",
      " 14  Delay_from_due_date       100000 non-null  int64  \n",
      " 15  Num_of_Delayed_Payment    92998 non-null   object \n",
      " 16  Changed_Credit_Limit      100000 non-null  object \n",
      " 17  Num_Credit_Inquiries      98035 non-null   float64\n",
      " 18  Credit_Mix                100000 non-null  object \n",
      " 19  Outstanding_Debt          100000 non-null  object \n",
      " 20  Credit_Utilization_Ratio  100000 non-null  float64\n",
      " 21  Credit_History_Age        90970 non-null   object \n",
      " 22  Payment_of_Min_Amount     100000 non-null  object \n",
      " 23  Total_EMI_per_month       100000 non-null  float64\n",
      " 24  Amount_invested_monthly   95521 non-null   object \n",
      " 25  Payment_Behaviour         100000 non-null  object \n",
      " 26  Monthly_Balance           98800 non-null   object \n",
      " 27  Credit_Score              100000 non-null  object \n",
      "dtypes: float64(4), int64(4), object(20)\n",
      "memory usage: 21.4+ MB\n"
     ]
    }
   ],
   "source": [
    "final_dataset.info()"
   ]
  },
  {
   "cell_type": "markdown",
   "metadata": {
    "id": "-W10ebACbNLj"
   },
   "source": [
    "Deal with the missing values of Monthly_Inhand_Salary columns"
   ]
  },
  {
   "cell_type": "code",
   "execution_count": 2039,
   "metadata": {
    "id": "8UhB7cE7tHgI"
   },
   "outputs": [],
   "source": [
    "# Convert the Customer_ID column to a factor\n",
    "final_dataset['Customer_ID'] = final_dataset['Customer_ID'].astype('category')\n",
    "\n",
    "# Calculate the median Inhand Salary by customer using groupby and summarize\n",
    "median_Inhand_salary_by_customer = final_dataset.groupby('Customer_ID').agg(median_salary=('Monthly_Inhand_Salary', 'median'))\n",
    "\n",
    "# Join the median salary column to the dataset\n",
    "final_dataset = pd.merge(final_dataset, median_Inhand_salary_by_customer, on='Customer_ID', how='left')\n",
    "\n",
    "# Replace missing values in Monthly Inhand Salary column with median salary\n",
    "final_dataset['Monthly_Inhand_Salary'].fillna(final_dataset['median_salary'], inplace=True)\n",
    "\n",
    "# Drop the median salary column\n",
    "final_dataset.drop('median_salary', axis=1, inplace=True)\n"
   ]
  },
  {
   "cell_type": "code",
   "execution_count": 2040,
   "metadata": {
    "colab": {
     "base_uri": "https://localhost:8080/"
    },
    "id": "PGq3ebiFb2aO",
    "outputId": "7adafebf-6134-42cf-99ee-10fddec35987"
   },
   "outputs": [
    {
     "name": "stdout",
     "output_type": "stream",
     "text": [
      "<class 'pandas.core.frame.DataFrame'>\n",
      "Int64Index: 100000 entries, 0 to 99999\n",
      "Data columns (total 28 columns):\n",
      " #   Column                    Non-Null Count   Dtype   \n",
      "---  ------                    --------------   -----   \n",
      " 0   ID                        100000 non-null  object  \n",
      " 1   Customer_ID               100000 non-null  category\n",
      " 2   Month                     100000 non-null  object  \n",
      " 3   Name                      90015 non-null   object  \n",
      " 4   Age                       100000 non-null  object  \n",
      " 5   SSN                       100000 non-null  object  \n",
      " 6   Occupation                100000 non-null  object  \n",
      " 7   Annual_Income             100000 non-null  object  \n",
      " 8   Monthly_Inhand_Salary     100000 non-null  float64 \n",
      " 9   Num_Bank_Accounts         100000 non-null  int64   \n",
      " 10  Num_Credit_Card           100000 non-null  int64   \n",
      " 11  Interest_Rate             100000 non-null  int64   \n",
      " 12  Num_of_Loan               100000 non-null  object  \n",
      " 13  Type_of_Loan              88592 non-null   object  \n",
      " 14  Delay_from_due_date       100000 non-null  int64   \n",
      " 15  Num_of_Delayed_Payment    92998 non-null   object  \n",
      " 16  Changed_Credit_Limit      100000 non-null  object  \n",
      " 17  Num_Credit_Inquiries      98035 non-null   float64 \n",
      " 18  Credit_Mix                100000 non-null  object  \n",
      " 19  Outstanding_Debt          100000 non-null  object  \n",
      " 20  Credit_Utilization_Ratio  100000 non-null  float64 \n",
      " 21  Credit_History_Age        90970 non-null   object  \n",
      " 22  Payment_of_Min_Amount     100000 non-null  object  \n",
      " 23  Total_EMI_per_month       100000 non-null  float64 \n",
      " 24  Amount_invested_monthly   95521 non-null   object  \n",
      " 25  Payment_Behaviour         100000 non-null  object  \n",
      " 26  Monthly_Balance           98800 non-null   object  \n",
      " 27  Credit_Score              100000 non-null  object  \n",
      "dtypes: category(1), float64(4), int64(4), object(19)\n",
      "memory usage: 21.9+ MB\n"
     ]
    }
   ],
   "source": [
    "final_dataset.info()"
   ]
  },
  {
   "cell_type": "markdown",
   "metadata": {
    "id": "zXL06H1-cENL"
   },
   "source": [
    "Deal with the missing values and '_' of Num_of_Delayed_Payment "
   ]
  },
  {
   "cell_type": "code",
   "execution_count": 2041,
   "metadata": {
    "id": "vSxNo3K3wveS"
   },
   "outputs": [],
   "source": [
    "# replace the '_' with ''\n",
    "final_dataset['Num_of_Delayed_Payment'] = final_dataset['Num_of_Delayed_Payment'].replace('_', '', regex=True)\n",
    "\n",
    "# convert to numeric\n",
    "final_dataset['Num_of_Delayed_Payment'] = final_dataset['Num_of_Delayed_Payment'].astype(float)"
   ]
  },
  {
   "cell_type": "code",
   "execution_count": 2042,
   "metadata": {
    "id": "P3WwXscB1QkU"
   },
   "outputs": [],
   "source": [
    "# Calculate the median delayed payments by customer using groupby and summarize\n",
    "median_delayed_by_customer = final_dataset.groupby('Customer_ID').agg(median_delayed=('Num_of_Delayed_Payment', 'median'))\n",
    "\n",
    "# Join the median delayed payments column to the dataset\n",
    "final_dataset = pd.merge(final_dataset, median_delayed_by_customer, on='Customer_ID', how='left')\n",
    "\n",
    "# Replace missing values in Num of Delayed Payment column with median delayed payments\n",
    "final_dataset['Num_of_Delayed_Payment'].fillna(final_dataset['median_delayed'], inplace=True)\n",
    "\n",
    "\n",
    "# Drop the median delayed payments column\n",
    "final_dataset.drop('median_delayed', axis=1, inplace=True)"
   ]
  },
  {
   "cell_type": "code",
   "execution_count": 2043,
   "metadata": {
    "colab": {
     "base_uri": "https://localhost:8080/"
    },
    "id": "ijfKVK6MdB0i",
    "outputId": "34f36f4d-29e4-4b27-8d6b-d0be4d206537"
   },
   "outputs": [
    {
     "name": "stdout",
     "output_type": "stream",
     "text": [
      "<class 'pandas.core.frame.DataFrame'>\n",
      "Int64Index: 100000 entries, 0 to 99999\n",
      "Data columns (total 28 columns):\n",
      " #   Column                    Non-Null Count   Dtype   \n",
      "---  ------                    --------------   -----   \n",
      " 0   ID                        100000 non-null  object  \n",
      " 1   Customer_ID               100000 non-null  category\n",
      " 2   Month                     100000 non-null  object  \n",
      " 3   Name                      90015 non-null   object  \n",
      " 4   Age                       100000 non-null  object  \n",
      " 5   SSN                       100000 non-null  object  \n",
      " 6   Occupation                100000 non-null  object  \n",
      " 7   Annual_Income             100000 non-null  object  \n",
      " 8   Monthly_Inhand_Salary     100000 non-null  float64 \n",
      " 9   Num_Bank_Accounts         100000 non-null  int64   \n",
      " 10  Num_Credit_Card           100000 non-null  int64   \n",
      " 11  Interest_Rate             100000 non-null  int64   \n",
      " 12  Num_of_Loan               100000 non-null  object  \n",
      " 13  Type_of_Loan              88592 non-null   object  \n",
      " 14  Delay_from_due_date       100000 non-null  int64   \n",
      " 15  Num_of_Delayed_Payment    100000 non-null  float64 \n",
      " 16  Changed_Credit_Limit      100000 non-null  object  \n",
      " 17  Num_Credit_Inquiries      98035 non-null   float64 \n",
      " 18  Credit_Mix                100000 non-null  object  \n",
      " 19  Outstanding_Debt          100000 non-null  object  \n",
      " 20  Credit_Utilization_Ratio  100000 non-null  float64 \n",
      " 21  Credit_History_Age        90970 non-null   object  \n",
      " 22  Payment_of_Min_Amount     100000 non-null  object  \n",
      " 23  Total_EMI_per_month       100000 non-null  float64 \n",
      " 24  Amount_invested_monthly   95521 non-null   object  \n",
      " 25  Payment_Behaviour         100000 non-null  object  \n",
      " 26  Monthly_Balance           98800 non-null   object  \n",
      " 27  Credit_Score              100000 non-null  object  \n",
      "dtypes: category(1), float64(5), int64(4), object(18)\n",
      "memory usage: 21.9+ MB\n"
     ]
    }
   ],
   "source": [
    "final_dataset.info()"
   ]
  },
  {
   "cell_type": "markdown",
   "metadata": {
    "id": "Q4QfJF-Ge-Hn"
   },
   "source": [
    "Deal with the missing values and '_' of Monthly_Balance"
   ]
  },
  {
   "cell_type": "code",
   "execution_count": 2044,
   "metadata": {
    "id": "BnX0T--tfHzw"
   },
   "outputs": [],
   "source": [
    "# replace the '_' with ''\n",
    "final_dataset['Monthly_Balance'] = final_dataset['Monthly_Balance'].replace('_', '', regex=True)\n",
    "# convert to numeric\n",
    "final_dataset['Monthly_Balance'] = final_dataset['Monthly_Balance'].astype(float)"
   ]
  },
  {
   "cell_type": "code",
   "execution_count": 2045,
   "metadata": {
    "id": "KmdsW3sXga_M"
   },
   "outputs": [],
   "source": [
    "# Calculate the median delayed payments by customer using groupby and summarize\n",
    "median_Monthly_Balance_customer = final_dataset.groupby('Customer_ID').agg(median_Monthly_Balance=('Monthly_Balance', 'median'))\n",
    "\n",
    "# Join the median delayed payments column to the dataset\n",
    "final_dataset = pd.merge(final_dataset, median_Monthly_Balance_customer, on='Customer_ID', how='left')\n",
    "\n",
    "# Replace missing values in Num of Delayed Payment column with median delayed payments\n",
    "final_dataset['Monthly_Balance'].fillna(final_dataset['median_Monthly_Balance'], inplace=True)\n",
    "\n",
    "# Drop the median delayed payments column\n",
    "final_dataset.drop('median_Monthly_Balance', axis=1, inplace=True)"
   ]
  },
  {
   "cell_type": "code",
   "execution_count": 2046,
   "metadata": {},
   "outputs": [
    {
     "data": {
      "text/html": [
       "<div>\n",
       "<style scoped>\n",
       "    .dataframe tbody tr th:only-of-type {\n",
       "        vertical-align: middle;\n",
       "    }\n",
       "\n",
       "    .dataframe tbody tr th {\n",
       "        vertical-align: top;\n",
       "    }\n",
       "\n",
       "    .dataframe thead th {\n",
       "        text-align: right;\n",
       "    }\n",
       "</style>\n",
       "<table border=\"1\" class=\"dataframe\">\n",
       "  <thead>\n",
       "    <tr style=\"text-align: right;\">\n",
       "      <th></th>\n",
       "      <th>ID</th>\n",
       "      <th>Customer_ID</th>\n",
       "      <th>Month</th>\n",
       "      <th>Name</th>\n",
       "      <th>Age</th>\n",
       "      <th>SSN</th>\n",
       "      <th>Occupation</th>\n",
       "      <th>Annual_Income</th>\n",
       "      <th>Monthly_Inhand_Salary</th>\n",
       "      <th>Num_Bank_Accounts</th>\n",
       "      <th>...</th>\n",
       "      <th>Credit_Mix</th>\n",
       "      <th>Outstanding_Debt</th>\n",
       "      <th>Credit_Utilization_Ratio</th>\n",
       "      <th>Credit_History_Age</th>\n",
       "      <th>Payment_of_Min_Amount</th>\n",
       "      <th>Total_EMI_per_month</th>\n",
       "      <th>Amount_invested_monthly</th>\n",
       "      <th>Payment_Behaviour</th>\n",
       "      <th>Monthly_Balance</th>\n",
       "      <th>Credit_Score</th>\n",
       "    </tr>\n",
       "  </thead>\n",
       "  <tbody>\n",
       "    <tr>\n",
       "      <th>0</th>\n",
       "      <td>0x1602</td>\n",
       "      <td>CUS_0xd40</td>\n",
       "      <td>January</td>\n",
       "      <td>Aaron Maashoh</td>\n",
       "      <td>23</td>\n",
       "      <td>821-00-0265</td>\n",
       "      <td>Scientist</td>\n",
       "      <td>19114.12</td>\n",
       "      <td>1824.843333</td>\n",
       "      <td>3</td>\n",
       "      <td>...</td>\n",
       "      <td>_</td>\n",
       "      <td>809.98</td>\n",
       "      <td>26.822620</td>\n",
       "      <td>22 Years and 1 Months</td>\n",
       "      <td>No</td>\n",
       "      <td>49.574949</td>\n",
       "      <td>80.41529543900253</td>\n",
       "      <td>High_spent_Small_value_payments</td>\n",
       "      <td>312.494089</td>\n",
       "      <td>Good</td>\n",
       "    </tr>\n",
       "    <tr>\n",
       "      <th>1</th>\n",
       "      <td>0x1603</td>\n",
       "      <td>CUS_0xd40</td>\n",
       "      <td>February</td>\n",
       "      <td>Aaron Maashoh</td>\n",
       "      <td>23</td>\n",
       "      <td>821-00-0265</td>\n",
       "      <td>Scientist</td>\n",
       "      <td>19114.12</td>\n",
       "      <td>1824.843333</td>\n",
       "      <td>3</td>\n",
       "      <td>...</td>\n",
       "      <td>Good</td>\n",
       "      <td>809.98</td>\n",
       "      <td>31.944960</td>\n",
       "      <td>NaN</td>\n",
       "      <td>No</td>\n",
       "      <td>49.574949</td>\n",
       "      <td>118.28022162236736</td>\n",
       "      <td>Low_spent_Large_value_payments</td>\n",
       "      <td>284.629162</td>\n",
       "      <td>Good</td>\n",
       "    </tr>\n",
       "    <tr>\n",
       "      <th>2</th>\n",
       "      <td>0x1604</td>\n",
       "      <td>CUS_0xd40</td>\n",
       "      <td>March</td>\n",
       "      <td>Aaron Maashoh</td>\n",
       "      <td>-500</td>\n",
       "      <td>821-00-0265</td>\n",
       "      <td>Scientist</td>\n",
       "      <td>19114.12</td>\n",
       "      <td>1824.843333</td>\n",
       "      <td>3</td>\n",
       "      <td>...</td>\n",
       "      <td>Good</td>\n",
       "      <td>809.98</td>\n",
       "      <td>28.609352</td>\n",
       "      <td>22 Years and 3 Months</td>\n",
       "      <td>No</td>\n",
       "      <td>49.574949</td>\n",
       "      <td>81.699521264648</td>\n",
       "      <td>Low_spent_Medium_value_payments</td>\n",
       "      <td>331.209863</td>\n",
       "      <td>Good</td>\n",
       "    </tr>\n",
       "    <tr>\n",
       "      <th>3</th>\n",
       "      <td>0x1605</td>\n",
       "      <td>CUS_0xd40</td>\n",
       "      <td>April</td>\n",
       "      <td>Aaron Maashoh</td>\n",
       "      <td>23</td>\n",
       "      <td>821-00-0265</td>\n",
       "      <td>Scientist</td>\n",
       "      <td>19114.12</td>\n",
       "      <td>1824.843333</td>\n",
       "      <td>3</td>\n",
       "      <td>...</td>\n",
       "      <td>Good</td>\n",
       "      <td>809.98</td>\n",
       "      <td>31.377862</td>\n",
       "      <td>22 Years and 4 Months</td>\n",
       "      <td>No</td>\n",
       "      <td>49.574949</td>\n",
       "      <td>199.4580743910713</td>\n",
       "      <td>Low_spent_Small_value_payments</td>\n",
       "      <td>223.451310</td>\n",
       "      <td>Good</td>\n",
       "    </tr>\n",
       "    <tr>\n",
       "      <th>4</th>\n",
       "      <td>0x1606</td>\n",
       "      <td>CUS_0xd40</td>\n",
       "      <td>May</td>\n",
       "      <td>Aaron Maashoh</td>\n",
       "      <td>23</td>\n",
       "      <td>821-00-0265</td>\n",
       "      <td>Scientist</td>\n",
       "      <td>19114.12</td>\n",
       "      <td>1824.843333</td>\n",
       "      <td>3</td>\n",
       "      <td>...</td>\n",
       "      <td>Good</td>\n",
       "      <td>809.98</td>\n",
       "      <td>24.797347</td>\n",
       "      <td>22 Years and 5 Months</td>\n",
       "      <td>No</td>\n",
       "      <td>49.574949</td>\n",
       "      <td>41.420153086217326</td>\n",
       "      <td>High_spent_Medium_value_payments</td>\n",
       "      <td>341.489231</td>\n",
       "      <td>Good</td>\n",
       "    </tr>\n",
       "  </tbody>\n",
       "</table>\n",
       "<p>5 rows × 28 columns</p>\n",
       "</div>"
      ],
      "text/plain": [
       "       ID Customer_ID     Month           Name   Age          SSN Occupation  \\\n",
       "0  0x1602   CUS_0xd40   January  Aaron Maashoh    23  821-00-0265  Scientist   \n",
       "1  0x1603   CUS_0xd40  February  Aaron Maashoh    23  821-00-0265  Scientist   \n",
       "2  0x1604   CUS_0xd40     March  Aaron Maashoh  -500  821-00-0265  Scientist   \n",
       "3  0x1605   CUS_0xd40     April  Aaron Maashoh    23  821-00-0265  Scientist   \n",
       "4  0x1606   CUS_0xd40       May  Aaron Maashoh    23  821-00-0265  Scientist   \n",
       "\n",
       "  Annual_Income  Monthly_Inhand_Salary  Num_Bank_Accounts  ...  Credit_Mix  \\\n",
       "0      19114.12            1824.843333                  3  ...           _   \n",
       "1      19114.12            1824.843333                  3  ...        Good   \n",
       "2      19114.12            1824.843333                  3  ...        Good   \n",
       "3      19114.12            1824.843333                  3  ...        Good   \n",
       "4      19114.12            1824.843333                  3  ...        Good   \n",
       "\n",
       "   Outstanding_Debt Credit_Utilization_Ratio     Credit_History_Age  \\\n",
       "0            809.98                26.822620  22 Years and 1 Months   \n",
       "1            809.98                31.944960                    NaN   \n",
       "2            809.98                28.609352  22 Years and 3 Months   \n",
       "3            809.98                31.377862  22 Years and 4 Months   \n",
       "4            809.98                24.797347  22 Years and 5 Months   \n",
       "\n",
       "   Payment_of_Min_Amount  Total_EMI_per_month Amount_invested_monthly  \\\n",
       "0                     No            49.574949       80.41529543900253   \n",
       "1                     No            49.574949      118.28022162236736   \n",
       "2                     No            49.574949         81.699521264648   \n",
       "3                     No            49.574949       199.4580743910713   \n",
       "4                     No            49.574949      41.420153086217326   \n",
       "\n",
       "                  Payment_Behaviour Monthly_Balance Credit_Score  \n",
       "0   High_spent_Small_value_payments      312.494089         Good  \n",
       "1    Low_spent_Large_value_payments      284.629162         Good  \n",
       "2   Low_spent_Medium_value_payments      331.209863         Good  \n",
       "3    Low_spent_Small_value_payments      223.451310         Good  \n",
       "4  High_spent_Medium_value_payments      341.489231         Good  \n",
       "\n",
       "[5 rows x 28 columns]"
      ]
     },
     "execution_count": 2046,
     "metadata": {},
     "output_type": "execute_result"
    }
   ],
   "source": [
    "final_dataset.head()"
   ]
  },
  {
   "cell_type": "code",
   "execution_count": 2047,
   "metadata": {
    "colab": {
     "base_uri": "https://localhost:8080/"
    },
    "id": "pSWxGygOg4VO",
    "outputId": "63de2ba4-4dc1-4040-986e-6c90a1ddaa68"
   },
   "outputs": [
    {
     "name": "stdout",
     "output_type": "stream",
     "text": [
      "<class 'pandas.core.frame.DataFrame'>\n",
      "Int64Index: 100000 entries, 0 to 99999\n",
      "Data columns (total 28 columns):\n",
      " #   Column                    Non-Null Count   Dtype   \n",
      "---  ------                    --------------   -----   \n",
      " 0   ID                        100000 non-null  object  \n",
      " 1   Customer_ID               100000 non-null  category\n",
      " 2   Month                     100000 non-null  object  \n",
      " 3   Name                      90015 non-null   object  \n",
      " 4   Age                       100000 non-null  object  \n",
      " 5   SSN                       100000 non-null  object  \n",
      " 6   Occupation                100000 non-null  object  \n",
      " 7   Annual_Income             100000 non-null  object  \n",
      " 8   Monthly_Inhand_Salary     100000 non-null  float64 \n",
      " 9   Num_Bank_Accounts         100000 non-null  int64   \n",
      " 10  Num_Credit_Card           100000 non-null  int64   \n",
      " 11  Interest_Rate             100000 non-null  int64   \n",
      " 12  Num_of_Loan               100000 non-null  object  \n",
      " 13  Type_of_Loan              88592 non-null   object  \n",
      " 14  Delay_from_due_date       100000 non-null  int64   \n",
      " 15  Num_of_Delayed_Payment    100000 non-null  float64 \n",
      " 16  Changed_Credit_Limit      100000 non-null  object  \n",
      " 17  Num_Credit_Inquiries      98035 non-null   float64 \n",
      " 18  Credit_Mix                100000 non-null  object  \n",
      " 19  Outstanding_Debt          100000 non-null  object  \n",
      " 20  Credit_Utilization_Ratio  100000 non-null  float64 \n",
      " 21  Credit_History_Age        90970 non-null   object  \n",
      " 22  Payment_of_Min_Amount     100000 non-null  object  \n",
      " 23  Total_EMI_per_month       100000 non-null  float64 \n",
      " 24  Amount_invested_monthly   95521 non-null   object  \n",
      " 25  Payment_Behaviour         100000 non-null  object  \n",
      " 26  Monthly_Balance           100000 non-null  float64 \n",
      " 27  Credit_Score              100000 non-null  object  \n",
      "dtypes: category(1), float64(6), int64(4), object(17)\n",
      "memory usage: 21.9+ MB\n"
     ]
    }
   ],
   "source": [
    "final_dataset.info()"
   ]
  },
  {
   "cell_type": "markdown",
   "metadata": {
    "id": "teAF5wzxjWoj"
   },
   "source": [
    "Dealing with the missing value in Credit_History_Age column"
   ]
  },
  {
   "cell_type": "code",
   "execution_count": 2048,
   "metadata": {
    "id": "X6a16LfOjm5t"
   },
   "outputs": [],
   "source": [
    "# Define function to convert string to number of months\n",
    "def convert_to_months(s):\n",
    "    # If value is null or empty, return default value 0\n",
    "    if pd.isna(s) or s.strip() == \"\":\n",
    "        return 0\n",
    "    # Split string into years and months\n",
    "    years, months = s.split(\" Years and \")\n",
    "    months = months.replace(\" Months\", \"\")\n",
    "    # Convert to total months\n",
    "    total_months = int(years) * 12 + int(months)\n",
    "    return total_months\n",
    "\n",
    "# Apply the function to the \"age\" column and create a new column \"age_in_months\"\n",
    "final_dataset[\"Credit_History_Age\"] = final_dataset[\"Credit_History_Age\"].apply(convert_to_months)"
   ]
  },
  {
   "cell_type": "code",
   "execution_count": 2049,
   "metadata": {
    "id": "B0gTq707yfsz"
   },
   "outputs": [],
   "source": [
    "# Calculate the median credit history age by customer using groupby and summarize\n",
    "median_credit_history_age_customer = final_dataset.groupby('Customer_ID').agg(median_credit_history_age=('Credit_History_Age', 'median'))\n",
    "\n",
    "# Join the median credit history age column to the dataset\n",
    "final_dataset = pd.merge(final_dataset, median_credit_history_age_customer, on='Customer_ID', how='left')\n",
    "\n",
    "# Replace rows with a value of 0 in Credit History Age column with median credit history age\n",
    "final_dataset['Credit_History_Age'] = final_dataset['Credit_History_Age'].apply(lambda x: final_dataset['median_credit_history_age'][x] if x == 0 else x)\n",
    "\n",
    "# Drop the median credit history age column\n",
    "final_dataset.drop('median_credit_history_age', axis=1, inplace=True)"
   ]
  },
  {
   "cell_type": "code",
   "execution_count": 2050,
   "metadata": {
    "colab": {
     "base_uri": "https://localhost:8080/"
    },
    "id": "Ro0YZiR1sKg5",
    "outputId": "7268006f-9c26-46fc-d751-af3c5c85404f"
   },
   "outputs": [
    {
     "name": "stdout",
     "output_type": "stream",
     "text": [
      "<class 'pandas.core.frame.DataFrame'>\n",
      "Int64Index: 100000 entries, 0 to 99999\n",
      "Data columns (total 28 columns):\n",
      " #   Column                    Non-Null Count   Dtype   \n",
      "---  ------                    --------------   -----   \n",
      " 0   ID                        100000 non-null  object  \n",
      " 1   Customer_ID               100000 non-null  category\n",
      " 2   Month                     100000 non-null  object  \n",
      " 3   Name                      90015 non-null   object  \n",
      " 4   Age                       100000 non-null  object  \n",
      " 5   SSN                       100000 non-null  object  \n",
      " 6   Occupation                100000 non-null  object  \n",
      " 7   Annual_Income             100000 non-null  object  \n",
      " 8   Monthly_Inhand_Salary     100000 non-null  float64 \n",
      " 9   Num_Bank_Accounts         100000 non-null  int64   \n",
      " 10  Num_Credit_Card           100000 non-null  int64   \n",
      " 11  Interest_Rate             100000 non-null  int64   \n",
      " 12  Num_of_Loan               100000 non-null  object  \n",
      " 13  Type_of_Loan              88592 non-null   object  \n",
      " 14  Delay_from_due_date       100000 non-null  int64   \n",
      " 15  Num_of_Delayed_Payment    100000 non-null  float64 \n",
      " 16  Changed_Credit_Limit      100000 non-null  object  \n",
      " 17  Num_Credit_Inquiries      98035 non-null   float64 \n",
      " 18  Credit_Mix                100000 non-null  object  \n",
      " 19  Outstanding_Debt          100000 non-null  object  \n",
      " 20  Credit_Utilization_Ratio  100000 non-null  float64 \n",
      " 21  Credit_History_Age        100000 non-null  float64 \n",
      " 22  Payment_of_Min_Amount     100000 non-null  object  \n",
      " 23  Total_EMI_per_month       100000 non-null  float64 \n",
      " 24  Amount_invested_monthly   95521 non-null   object  \n",
      " 25  Payment_Behaviour         100000 non-null  object  \n",
      " 26  Monthly_Balance           100000 non-null  float64 \n",
      " 27  Credit_Score              100000 non-null  object  \n",
      "dtypes: category(1), float64(7), int64(4), object(16)\n",
      "memory usage: 23.9+ MB\n"
     ]
    }
   ],
   "source": [
    "final_dataset.info()"
   ]
  },
  {
   "cell_type": "markdown",
   "metadata": {
    "id": "99xJKlXC60Nz"
   },
   "source": [
    "Dealing with Occupation column"
   ]
  },
  {
   "cell_type": "code",
   "execution_count": 2051,
   "metadata": {
    "colab": {
     "base_uri": "https://localhost:8080/"
    },
    "id": "tVluKjp87VD8",
    "outputId": "ada78bdc-e9c9-441c-8017-5648a5db982d"
   },
   "outputs": [
    {
     "data": {
      "text/plain": [
       "_______          7062\n",
       "Lawyer           6575\n",
       "Architect        6355\n",
       "Engineer         6350\n",
       "Scientist        6299\n",
       "Mechanic         6291\n",
       "Accountant       6271\n",
       "Developer        6235\n",
       "Media_Manager    6232\n",
       "Teacher          6215\n",
       "Entrepreneur     6174\n",
       "Doctor           6087\n",
       "Journalist       6085\n",
       "Manager          5973\n",
       "Musician         5911\n",
       "Writer           5885\n",
       "Name: Occupation, dtype: int64"
      ]
     },
     "execution_count": 2051,
     "metadata": {},
     "output_type": "execute_result"
    }
   ],
   "source": [
    "final_dataset['Occupation'].value_counts()"
   ]
  },
  {
   "cell_type": "code",
   "execution_count": 2052,
   "metadata": {
    "colab": {
     "base_uri": "https://localhost:8080/"
    },
    "id": "tOwyWI4M736a",
    "outputId": "08316c15-25e1-4e1a-e613-4b92d3aac31d"
   },
   "outputs": [
    {
     "data": {
      "text/plain": [
       "Lawyer           6575\n",
       "Architect        6355\n",
       "Engineer         6350\n",
       "Scientist        6299\n",
       "Mechanic         6291\n",
       "Accountant       6271\n",
       "Developer        6235\n",
       "Media_Manager    6232\n",
       "Teacher          6215\n",
       "Entrepreneur     6174\n",
       "Doctor           6087\n",
       "Journalist       6085\n",
       "Manager          5973\n",
       "Musician         5911\n",
       "Writer           5885\n",
       "Name: Occupation, dtype: int64"
      ]
     },
     "execution_count": 2052,
     "metadata": {},
     "output_type": "execute_result"
    }
   ],
   "source": [
    "# Remove rows where the \"Occupation\" column has the value \"_______\"\n",
    "final_dataset = final_dataset[~(final_dataset['Occupation'] == '_______')]\n",
    "final_dataset['Occupation'].value_counts()"
   ]
  },
  {
   "cell_type": "markdown",
   "metadata": {
    "id": "q8lX0l5X8UU5"
   },
   "source": [
    "Dealing with Annual Income column"
   ]
  },
  {
   "cell_type": "code",
   "execution_count": 2053,
   "metadata": {
    "colab": {
     "base_uri": "https://localhost:8080/"
    },
    "id": "hEutIRsN8b6C",
    "outputId": "c102d773-2fe1-47e2-bc25-c26794e34fbb"
   },
   "outputs": [
    {
     "data": {
      "text/plain": [
       "36585.12      16\n",
       "17273.83      15\n",
       "9141.63       15\n",
       "17816.75      14\n",
       "95596.35      14\n",
       "              ..\n",
       "39883.46_      1\n",
       "14773.91_      1\n",
       "14059195.0     1\n",
       "14365.54_      1\n",
       "16857.295_     1\n",
       "Name: Annual_Income, Length: 18560, dtype: int64"
      ]
     },
     "execution_count": 2053,
     "metadata": {},
     "output_type": "execute_result"
    }
   ],
   "source": [
    "final_dataset['Annual_Income'].value_counts()"
   ]
  },
  {
   "cell_type": "code",
   "execution_count": 2054,
   "metadata": {
    "colab": {
     "base_uri": "https://localhost:8080/"
    },
    "id": "kZGfqtDI8rD9",
    "outputId": "2b0d7157-2506-47ed-a9da-3138cf4e145f"
   },
   "outputs": [
    {
     "data": {
      "text/plain": [
       "36585.12      16\n",
       "40341.16      15\n",
       "17816.75      15\n",
       "9141.63       15\n",
       "109945.32     15\n",
       "              ..\n",
       "8681121.0      1\n",
       "12083640.0     1\n",
       "20703498.0     1\n",
       "3301922.0      1\n",
       "11603023.0     1\n",
       "Name: Annual_Income, Length: 13409, dtype: int64"
      ]
     },
     "execution_count": 2054,
     "metadata": {},
     "output_type": "execute_result"
    }
   ],
   "source": [
    "# Remove rows where the \"Annual_Income\" column has the value \"_\"\n",
    "final_dataset['Annual_Income'] = final_dataset['Annual_Income'].str.replace('_', '')\n",
    "# Converting \"Annual_Income\" column to numeric\n",
    "#final_dataset['Annual_Income'] = pd.to_(final_dataset['Annual_Income'],errors='coerce')\n",
    "final_dataset['Annual_Income'].value_counts()\n"
   ]
  },
  {
   "cell_type": "code",
   "execution_count": 2055,
   "metadata": {},
   "outputs": [
    {
     "name": "stderr",
     "output_type": "stream",
     "text": [
      "/var/folders/nf/g_4jhvds3hl6w0x8k1y827z80000gn/T/ipykernel_12768/261771347.py:10: FutureWarning: The default value of regex will change from True to False in a future version. In addition, single character regular expressions will *not* be treated as literal strings when regex=True.\n",
      "  final_dataset[i] = final_dataset[i].astype(str).str.replace(c,'')\n"
     ]
    }
   ],
   "source": [
    "# Adjust incorrect data entries\n",
    "sym = '\\\\`*_{}[]()>#@+!$:;'\n",
    "col_int = ['Age','Annual_Income','Delay_from_due_date','Num_of_Delayed_Payment',\n",
    "           'Outstanding_Debt','Total_EMI_per_month', 'Monthly_Balance', 'Num_of_Loan']\n",
    "\n",
    "col_str = ['Occupation', 'Credit_History_Age','Payment_of_Min_Amount','Credit_Score']\n",
    "\n",
    "for i in col_int:\n",
    "    for c in sym:\n",
    "        final_dataset[i] = final_dataset[i].astype(str).str.replace(c,'')\n",
    "        \n",
    "for i in col_str:\n",
    "    for c in sym:\n",
    "        final_dataset[i] = final_dataset[i].replace(c,'')"
   ]
  },
  {
   "cell_type": "markdown",
   "metadata": {
    "id": "UlfWk_DM-Zbn"
   },
   "source": [
    "Dealing with Credit Score column"
   ]
  },
  {
   "cell_type": "code",
   "execution_count": 2056,
   "metadata": {
    "colab": {
     "base_uri": "https://localhost:8080/"
    },
    "id": "NZ9kc7pd-fwA",
    "outputId": "4c472216-0f80-48c5-d44a-255b5ff4316b"
   },
   "outputs": [
    {
     "data": {
      "text/plain": [
       "Standard    49386\n",
       "Poor        26967\n",
       "Good        16585\n",
       "Name: Credit_Score, dtype: int64"
      ]
     },
     "execution_count": 2056,
     "metadata": {},
     "output_type": "execute_result"
    }
   ],
   "source": [
    "final_dataset['Credit_Score'].value_counts()"
   ]
  },
  {
   "cell_type": "markdown",
   "metadata": {
    "id": "Y6fJkgcW-q2k"
   },
   "source": [
    "Dealing with Payment Behaviour column"
   ]
  },
  {
   "cell_type": "code",
   "execution_count": 2057,
   "metadata": {
    "colab": {
     "base_uri": "https://localhost:8080/"
    },
    "id": "i23K0g1Z-0Sk",
    "outputId": "69b455ac-dc6e-4530-a411-3294ef32fed9"
   },
   "outputs": [
    {
     "data": {
      "text/plain": [
       "Low_spent_Small_value_payments      23720\n",
       "High_spent_Medium_value_payments    16301\n",
       "Low_spent_Medium_value_payments     12882\n",
       "High_spent_Large_value_payments     12767\n",
       "High_spent_Small_value_payments     10524\n",
       "Low_spent_Large_value_payments       9658\n",
       "!@9#%8                               7086\n",
       "Name: Payment_Behaviour, dtype: int64"
      ]
     },
     "execution_count": 2057,
     "metadata": {},
     "output_type": "execute_result"
    }
   ],
   "source": [
    "final_dataset['Payment_Behaviour'].value_counts()"
   ]
  },
  {
   "cell_type": "code",
   "execution_count": 2058,
   "metadata": {
    "id": "mIXlSt7G_xxE"
   },
   "outputs": [],
   "source": [
    "# Remove rows where the \"Payment_Behaviour\" column has the value \"!@9#%8\"\n",
    "final_dataset = final_dataset[~(final_dataset['Payment_Behaviour'] == '!@9#%8')]"
   ]
  },
  {
   "cell_type": "code",
   "execution_count": 2059,
   "metadata": {
    "colab": {
     "base_uri": "https://localhost:8080/"
    },
    "id": "sdYnkhWrAIT1",
    "outputId": "b71f26a5-021c-41e7-b3fe-861dbdd127e9"
   },
   "outputs": [
    {
     "data": {
      "text/plain": [
       "Low_spent_Small_value_payments      23720\n",
       "High_spent_Medium_value_payments    16301\n",
       "Low_spent_Medium_value_payments     12882\n",
       "High_spent_Large_value_payments     12767\n",
       "High_spent_Small_value_payments     10524\n",
       "Low_spent_Large_value_payments       9658\n",
       "Name: Payment_Behaviour, dtype: int64"
      ]
     },
     "execution_count": 2059,
     "metadata": {},
     "output_type": "execute_result"
    }
   ],
   "source": [
    "final_dataset['Payment_Behaviour'].value_counts()"
   ]
  },
  {
   "cell_type": "code",
   "execution_count": 2060,
   "metadata": {
    "colab": {
     "base_uri": "https://localhost:8080/"
    },
    "id": "brMdYPGEAsqb",
    "outputId": "ef0bccd3-be5f-45fb-e6e4-b5e90775deb7"
   },
   "outputs": [],
   "source": [
    "final_dataset[\"Payment_Behaviour\"] = final_dataset[\"Payment_Behaviour\"].replace({\"High_spent_Large_value_payments\": 6,\n",
    "                                                                       \"High_spent_Medium_value_payments\": 5,\n",
    "                                                                       \"High_spent_Small_value_payments\": 4,\n",
    "                                                                       \"Low_spent_Large_value_payments\": 3,\n",
    "                                                                       \"Low_spent_Medium_value_payments\": 2,\n",
    "                                                                       \"Low_spent_Small_value_payments\": 1})\n"
   ]
  },
  {
   "cell_type": "code",
   "execution_count": 2061,
   "metadata": {
    "colab": {
     "base_uri": "https://localhost:8080/"
    },
    "id": "iBs3qCG1ChMV",
    "outputId": "2381c0b5-ee30-4bc2-a15f-904a709ccf1c"
   },
   "outputs": [
    {
     "data": {
      "text/plain": [
       "1    23720\n",
       "5    16301\n",
       "2    12882\n",
       "6    12767\n",
       "4    10524\n",
       "3     9658\n",
       "Name: Payment_Behaviour, dtype: int64"
      ]
     },
     "execution_count": 2061,
     "metadata": {},
     "output_type": "execute_result"
    }
   ],
   "source": [
    "final_dataset[\"Payment_Behaviour\"].value_counts()"
   ]
  },
  {
   "cell_type": "markdown",
   "metadata": {
    "id": "RaukIXRFCuId"
   },
   "source": [
    "Dealing with Total_EMI_per_month column"
   ]
  },
  {
   "cell_type": "code",
   "execution_count": 2062,
   "metadata": {
    "colab": {
     "base_uri": "https://localhost:8080/"
    },
    "id": "S-ZuGa8UC8wG",
    "outputId": "e64f0867-1d2b-49cb-c0a3-257f13e1f116"
   },
   "outputs": [
    {
     "data": {
      "text/plain": [
       "0.0                  9051\n",
       "94.7879956533391        8\n",
       "78.74971305050755       8\n",
       "27.55586581342608       8\n",
       "81.82285657517096       8\n",
       "                     ... \n",
       "991.0                   1\n",
       "19940.0                 1\n",
       "12598.0                 1\n",
       "23135.0                 1\n",
       "58638.0                 1\n",
       "Name: Total_EMI_per_month, Length: 14445, dtype: int64"
      ]
     },
     "execution_count": 2062,
     "metadata": {},
     "output_type": "execute_result"
    }
   ],
   "source": [
    "final_dataset['Total_EMI_per_month'].value_counts()"
   ]
  },
  {
   "cell_type": "markdown",
   "metadata": {
    "id": "JQaImpT0EBeO"
   },
   "source": [
    "Dealing with the Payment_of_Min_Amount column"
   ]
  },
  {
   "cell_type": "code",
   "execution_count": 2063,
   "metadata": {
    "colab": {
     "base_uri": "https://localhost:8080/"
    },
    "id": "J0ECoqk9EJ1E",
    "outputId": "328796a1-05f0-412b-fdb9-9b33b86babf0"
   },
   "outputs": [
    {
     "data": {
      "text/plain": [
       "Yes    44892\n",
       "No     30635\n",
       "NM     10325\n",
       "Name: Payment_of_Min_Amount, dtype: int64"
      ]
     },
     "execution_count": 2063,
     "metadata": {},
     "output_type": "execute_result"
    }
   ],
   "source": [
    "final_dataset['Payment_of_Min_Amount'].value_counts()"
   ]
  },
  {
   "cell_type": "code",
   "execution_count": 2064,
   "metadata": {
    "colab": {
     "base_uri": "https://localhost:8080/"
    },
    "id": "Z0hFUY9CEmMc",
    "outputId": "59ea8fad-9b08-4511-876c-4d94e8e7e06b"
   },
   "outputs": [],
   "source": [
    "final_dataset['Payment_of_Min_Amount'] = final_dataset['Payment_of_Min_Amount'].replace({\"No\": 2,\n",
    "                                                                       \"Yes\": 1,\n",
    "                                                                       \"NM\": 0})"
   ]
  },
  {
   "cell_type": "code",
   "execution_count": 2065,
   "metadata": {
    "colab": {
     "base_uri": "https://localhost:8080/"
    },
    "id": "zdhWAtJbFEIr",
    "outputId": "59cd3887-36f9-496b-85d9-3184178791ba"
   },
   "outputs": [
    {
     "data": {
      "text/plain": [
       "1    44892\n",
       "2    30635\n",
       "0    10325\n",
       "Name: Payment_of_Min_Amount, dtype: int64"
      ]
     },
     "execution_count": 2065,
     "metadata": {},
     "output_type": "execute_result"
    }
   ],
   "source": [
    "final_dataset['Payment_of_Min_Amount'].value_counts()"
   ]
  },
  {
   "cell_type": "markdown",
   "metadata": {
    "id": "R4jl5HbNF601"
   },
   "source": [
    "Dealing with Outstanding_Debt column"
   ]
  },
  {
   "cell_type": "code",
   "execution_count": 2066,
   "metadata": {
    "colab": {
     "base_uri": "https://localhost:8080/"
    },
    "id": "rMjZbPl4GEVs",
    "outputId": "1ea28fa9-507c-402c-eaca-f4119c15dad8"
   },
   "outputs": [
    {
     "data": {
      "text/plain": [
       "1151.7     24\n",
       "1360.45    21\n",
       "460.46     21\n",
       "1109.03    20\n",
       "804.31     16\n",
       "           ..\n",
       "884.52      2\n",
       "1424.12     2\n",
       "829.3       2\n",
       "1661.55     1\n",
       "45.65       1\n",
       "Name: Outstanding_Debt, Length: 12203, dtype: int64"
      ]
     },
     "execution_count": 2066,
     "metadata": {},
     "output_type": "execute_result"
    }
   ],
   "source": [
    "final_dataset['Outstanding_Debt'].value_counts()"
   ]
  },
  {
   "cell_type": "code",
   "execution_count": 2067,
   "metadata": {
    "id": "GYDljYdjGXgy"
   },
   "outputs": [],
   "source": [
    "# Remove rows where the \"Outstanding_Debt\" column has the value \"_\"\n",
    "#final_dataset['Outstanding_Debt'] = final_dataset['Outstanding_Debt'].str.replace('_', '')\n",
    "# Converting \"Outstanding_Debt\" column to numeric\n",
    "#final_dataset['Outstanding_Debt'] = pd.to_numeric(final_dataset['Outstanding_Debt'],errors='coerce')\n",
    "\n",
    "\n",
    "int_col = ['Delay_from_due_date','Num_of_Delayed_Payment','Outstanding_Debt',\n",
    "           'Total_EMI_per_month','Monthly_Balance','Payment_Behaviour','Credit_History_Age','Annual_Income','Num_of_Loan']\n",
    "\n",
    "for i in int_col:\n",
    "    final_dataset[i] = final_dataset[i].astype(float)"
   ]
  },
  {
   "cell_type": "code",
   "execution_count": 2068,
   "metadata": {
    "colab": {
     "base_uri": "https://localhost:8080/"
    },
    "id": "dB2ZMzR_GnGh",
    "outputId": "3ade0fbd-2a01-4ddd-a632-bdd9c2e098e1"
   },
   "outputs": [
    {
     "data": {
      "text/plain": [
       "1151.70    24\n",
       "1360.45    21\n",
       "460.46     21\n",
       "1109.03    20\n",
       "804.31     16\n",
       "           ..\n",
       "884.52      2\n",
       "1424.12     2\n",
       "829.30      2\n",
       "1661.55     1\n",
       "45.65       1\n",
       "Name: Outstanding_Debt, Length: 12203, dtype: int64"
      ]
     },
     "execution_count": 2068,
     "metadata": {},
     "output_type": "execute_result"
    }
   ],
   "source": [
    "final_dataset['Outstanding_Debt'].value_counts()"
   ]
  },
  {
   "cell_type": "markdown",
   "metadata": {
    "id": "_LInnZ3xH3p4"
   },
   "source": [
    "Dealing with Delay_from_due_date column"
   ]
  },
  {
   "cell_type": "code",
   "execution_count": 2069,
   "metadata": {
    "colab": {
     "base_uri": "https://localhost:8080/"
    },
    "id": "8dvZIg1rH63m",
    "outputId": "dca955d0-585a-4879-f1a8-28395735dc0d"
   },
   "outputs": [
    {
     "data": {
      "text/plain": [
       " 15.0    3096\n",
       " 13.0    2903\n",
       " 14.0    2846\n",
       " 8.0     2839\n",
       " 10.0    2801\n",
       "         ... \n",
       "-4.0       52\n",
       " 65.0      47\n",
       " 66.0      28\n",
       "-5.0       27\n",
       " 67.0      19\n",
       "Name: Delay_from_due_date, Length: 73, dtype: int64"
      ]
     },
     "execution_count": 2069,
     "metadata": {},
     "output_type": "execute_result"
    }
   ],
   "source": [
    "final_dataset['Delay_from_due_date'].value_counts()"
   ]
  },
  {
   "cell_type": "code",
   "execution_count": 2070,
   "metadata": {},
   "outputs": [
    {
     "data": {
      "text/html": [
       "<div>\n",
       "<style scoped>\n",
       "    .dataframe tbody tr th:only-of-type {\n",
       "        vertical-align: middle;\n",
       "    }\n",
       "\n",
       "    .dataframe tbody tr th {\n",
       "        vertical-align: top;\n",
       "    }\n",
       "\n",
       "    .dataframe thead th {\n",
       "        text-align: right;\n",
       "    }\n",
       "</style>\n",
       "<table border=\"1\" class=\"dataframe\">\n",
       "  <thead>\n",
       "    <tr style=\"text-align: right;\">\n",
       "      <th></th>\n",
       "      <th>ID</th>\n",
       "      <th>Customer_ID</th>\n",
       "      <th>Month</th>\n",
       "      <th>Name</th>\n",
       "      <th>Age</th>\n",
       "      <th>SSN</th>\n",
       "      <th>Occupation</th>\n",
       "      <th>Annual_Income</th>\n",
       "      <th>Monthly_Inhand_Salary</th>\n",
       "      <th>Num_Bank_Accounts</th>\n",
       "      <th>...</th>\n",
       "      <th>Credit_Mix</th>\n",
       "      <th>Outstanding_Debt</th>\n",
       "      <th>Credit_Utilization_Ratio</th>\n",
       "      <th>Credit_History_Age</th>\n",
       "      <th>Payment_of_Min_Amount</th>\n",
       "      <th>Total_EMI_per_month</th>\n",
       "      <th>Amount_invested_monthly</th>\n",
       "      <th>Payment_Behaviour</th>\n",
       "      <th>Monthly_Balance</th>\n",
       "      <th>Credit_Score</th>\n",
       "    </tr>\n",
       "  </thead>\n",
       "  <tbody>\n",
       "    <tr>\n",
       "      <th>0</th>\n",
       "      <td>0x1602</td>\n",
       "      <td>CUS_0xd40</td>\n",
       "      <td>January</td>\n",
       "      <td>Aaron Maashoh</td>\n",
       "      <td>23</td>\n",
       "      <td>821-00-0265</td>\n",
       "      <td>Scientist</td>\n",
       "      <td>19114.12</td>\n",
       "      <td>1824.843333</td>\n",
       "      <td>3</td>\n",
       "      <td>...</td>\n",
       "      <td>_</td>\n",
       "      <td>809.98</td>\n",
       "      <td>26.822620</td>\n",
       "      <td>265.0</td>\n",
       "      <td>2</td>\n",
       "      <td>49.574949</td>\n",
       "      <td>80.41529543900253</td>\n",
       "      <td>4.0</td>\n",
       "      <td>312.494089</td>\n",
       "      <td>Good</td>\n",
       "    </tr>\n",
       "    <tr>\n",
       "      <th>1</th>\n",
       "      <td>0x1603</td>\n",
       "      <td>CUS_0xd40</td>\n",
       "      <td>February</td>\n",
       "      <td>Aaron Maashoh</td>\n",
       "      <td>23</td>\n",
       "      <td>821-00-0265</td>\n",
       "      <td>Scientist</td>\n",
       "      <td>19114.12</td>\n",
       "      <td>1824.843333</td>\n",
       "      <td>3</td>\n",
       "      <td>...</td>\n",
       "      <td>Good</td>\n",
       "      <td>809.98</td>\n",
       "      <td>31.944960</td>\n",
       "      <td>267.5</td>\n",
       "      <td>2</td>\n",
       "      <td>49.574949</td>\n",
       "      <td>118.28022162236736</td>\n",
       "      <td>3.0</td>\n",
       "      <td>284.629162</td>\n",
       "      <td>Good</td>\n",
       "    </tr>\n",
       "    <tr>\n",
       "      <th>2</th>\n",
       "      <td>0x1604</td>\n",
       "      <td>CUS_0xd40</td>\n",
       "      <td>March</td>\n",
       "      <td>Aaron Maashoh</td>\n",
       "      <td>-500</td>\n",
       "      <td>821-00-0265</td>\n",
       "      <td>Scientist</td>\n",
       "      <td>19114.12</td>\n",
       "      <td>1824.843333</td>\n",
       "      <td>3</td>\n",
       "      <td>...</td>\n",
       "      <td>Good</td>\n",
       "      <td>809.98</td>\n",
       "      <td>28.609352</td>\n",
       "      <td>267.0</td>\n",
       "      <td>2</td>\n",
       "      <td>49.574949</td>\n",
       "      <td>81.699521264648</td>\n",
       "      <td>2.0</td>\n",
       "      <td>331.209863</td>\n",
       "      <td>Good</td>\n",
       "    </tr>\n",
       "    <tr>\n",
       "      <th>3</th>\n",
       "      <td>0x1605</td>\n",
       "      <td>CUS_0xd40</td>\n",
       "      <td>April</td>\n",
       "      <td>Aaron Maashoh</td>\n",
       "      <td>23</td>\n",
       "      <td>821-00-0265</td>\n",
       "      <td>Scientist</td>\n",
       "      <td>19114.12</td>\n",
       "      <td>1824.843333</td>\n",
       "      <td>3</td>\n",
       "      <td>...</td>\n",
       "      <td>Good</td>\n",
       "      <td>809.98</td>\n",
       "      <td>31.377862</td>\n",
       "      <td>268.0</td>\n",
       "      <td>2</td>\n",
       "      <td>49.574949</td>\n",
       "      <td>199.4580743910713</td>\n",
       "      <td>1.0</td>\n",
       "      <td>223.451310</td>\n",
       "      <td>Good</td>\n",
       "    </tr>\n",
       "    <tr>\n",
       "      <th>4</th>\n",
       "      <td>0x1606</td>\n",
       "      <td>CUS_0xd40</td>\n",
       "      <td>May</td>\n",
       "      <td>Aaron Maashoh</td>\n",
       "      <td>23</td>\n",
       "      <td>821-00-0265</td>\n",
       "      <td>Scientist</td>\n",
       "      <td>19114.12</td>\n",
       "      <td>1824.843333</td>\n",
       "      <td>3</td>\n",
       "      <td>...</td>\n",
       "      <td>Good</td>\n",
       "      <td>809.98</td>\n",
       "      <td>24.797347</td>\n",
       "      <td>269.0</td>\n",
       "      <td>2</td>\n",
       "      <td>49.574949</td>\n",
       "      <td>41.420153086217326</td>\n",
       "      <td>5.0</td>\n",
       "      <td>341.489231</td>\n",
       "      <td>Good</td>\n",
       "    </tr>\n",
       "  </tbody>\n",
       "</table>\n",
       "<p>5 rows × 28 columns</p>\n",
       "</div>"
      ],
      "text/plain": [
       "       ID Customer_ID     Month           Name   Age          SSN Occupation  \\\n",
       "0  0x1602   CUS_0xd40   January  Aaron Maashoh    23  821-00-0265  Scientist   \n",
       "1  0x1603   CUS_0xd40  February  Aaron Maashoh    23  821-00-0265  Scientist   \n",
       "2  0x1604   CUS_0xd40     March  Aaron Maashoh  -500  821-00-0265  Scientist   \n",
       "3  0x1605   CUS_0xd40     April  Aaron Maashoh    23  821-00-0265  Scientist   \n",
       "4  0x1606   CUS_0xd40       May  Aaron Maashoh    23  821-00-0265  Scientist   \n",
       "\n",
       "   Annual_Income  Monthly_Inhand_Salary  Num_Bank_Accounts  ...  Credit_Mix  \\\n",
       "0       19114.12            1824.843333                  3  ...           _   \n",
       "1       19114.12            1824.843333                  3  ...        Good   \n",
       "2       19114.12            1824.843333                  3  ...        Good   \n",
       "3       19114.12            1824.843333                  3  ...        Good   \n",
       "4       19114.12            1824.843333                  3  ...        Good   \n",
       "\n",
       "   Outstanding_Debt  Credit_Utilization_Ratio Credit_History_Age  \\\n",
       "0            809.98                 26.822620              265.0   \n",
       "1            809.98                 31.944960              267.5   \n",
       "2            809.98                 28.609352              267.0   \n",
       "3            809.98                 31.377862              268.0   \n",
       "4            809.98                 24.797347              269.0   \n",
       "\n",
       "   Payment_of_Min_Amount  Total_EMI_per_month Amount_invested_monthly  \\\n",
       "0                      2            49.574949       80.41529543900253   \n",
       "1                      2            49.574949      118.28022162236736   \n",
       "2                      2            49.574949         81.699521264648   \n",
       "3                      2            49.574949       199.4580743910713   \n",
       "4                      2            49.574949      41.420153086217326   \n",
       "\n",
       "   Payment_Behaviour Monthly_Balance  Credit_Score  \n",
       "0                4.0      312.494089          Good  \n",
       "1                3.0      284.629162          Good  \n",
       "2                2.0      331.209863          Good  \n",
       "3                1.0      223.451310          Good  \n",
       "4                5.0      341.489231          Good  \n",
       "\n",
       "[5 rows x 28 columns]"
      ]
     },
     "execution_count": 2070,
     "metadata": {},
     "output_type": "execute_result"
    }
   ],
   "source": [
    "final_dataset.head()"
   ]
  },
  {
   "cell_type": "code",
   "execution_count": 2071,
   "metadata": {
    "colab": {
     "base_uri": "https://localhost:8080/"
    },
    "id": "5tmmrDiTNnij",
    "outputId": "97985675-9531-4bc1-a4d5-531f9b78b31a"
   },
   "outputs": [
    {
     "data": {
      "text/plain": [
       " 15.0    3096\n",
       " 13.0    2903\n",
       " 14.0    2846\n",
       " 8.0     2839\n",
       " 10.0    2801\n",
       "         ... \n",
       "-4.0       52\n",
       " 65.0      47\n",
       " 66.0      28\n",
       "-5.0       27\n",
       " 67.0      19\n",
       "Name: Delay_from_due_date, Length: 73, dtype: int64"
      ]
     },
     "execution_count": 2071,
     "metadata": {},
     "output_type": "execute_result"
    }
   ],
   "source": [
    "final_dataset['Delay_from_due_date'].value_counts()"
   ]
  },
  {
   "cell_type": "markdown",
   "metadata": {
    "id": "-Ac0Ob9JQRK5"
   },
   "source": [
    "Dealing with the Num_of_Loan column"
   ]
  },
  {
   "cell_type": "code",
   "execution_count": 2072,
   "metadata": {
    "colab": {
     "base_uri": "https://localhost:8080/"
    },
    "id": "JH0fjvX9QaRx",
    "outputId": "ffcf29cb-cc4f-4042-a199-c739f29edf16"
   },
   "outputs": [
    {
     "data": {
      "text/plain": [
       "2.0       12974\n",
       "3.0       12964\n",
       "4.0       12660\n",
       "0.0        9322\n",
       "1.0        9126\n",
       "          ...  \n",
       "952.0         1\n",
       "661.0         1\n",
       "321.0         1\n",
       "1439.0        1\n",
       "966.0         1\n",
       "Name: Num_of_Loan, Length: 361, dtype: int64"
      ]
     },
     "execution_count": 2072,
     "metadata": {},
     "output_type": "execute_result"
    }
   ],
   "source": [
    "final_dataset['Num_of_Loan'].value_counts()"
   ]
  },
  {
   "cell_type": "code",
   "execution_count": 2073,
   "metadata": {
    "id": "SeNlzqslRiOi"
   },
   "outputs": [],
   "source": [
    "final_dataset.loc[final_dataset['Num_of_Loan'] == \"-100\", 'Num_of_Loan'] = np.nan"
   ]
  },
  {
   "cell_type": "code",
   "execution_count": 2074,
   "metadata": {
    "id": "GhH9DpCuRFGo"
   },
   "outputs": [],
   "source": [
    "# Calculate the median Num_of_Loan by customer using groupby and summarize\n",
    "median_Num_of_Loan_customer = final_dataset.groupby('Customer_ID').agg(median_Num_of_Loan=('Num_of_Loan', 'median'))\n",
    "\n",
    "# Join the median Num_of_Loan column to the dataset\n",
    "final_dataset = pd.merge(final_dataset, median_Num_of_Loan_customer, on='Customer_ID', how='left')\n",
    "\n",
    "# Replace rows with a value of 0 in Num_of_Loan column with median credit history age\n",
    "final_dataset['Num_of_Loan'].fillna(final_dataset['median_Num_of_Loan'], inplace=True)\n",
    "\n",
    "# Drop the median Num_of_Loan column\n",
    "final_dataset.drop('median_Num_of_Loan', axis=1, inplace=True)\n"
   ]
  },
  {
   "cell_type": "code",
   "execution_count": 2075,
   "metadata": {},
   "outputs": [
    {
     "data": {
      "text/html": [
       "<div>\n",
       "<style scoped>\n",
       "    .dataframe tbody tr th:only-of-type {\n",
       "        vertical-align: middle;\n",
       "    }\n",
       "\n",
       "    .dataframe tbody tr th {\n",
       "        vertical-align: top;\n",
       "    }\n",
       "\n",
       "    .dataframe thead th {\n",
       "        text-align: right;\n",
       "    }\n",
       "</style>\n",
       "<table border=\"1\" class=\"dataframe\">\n",
       "  <thead>\n",
       "    <tr style=\"text-align: right;\">\n",
       "      <th></th>\n",
       "      <th>ID</th>\n",
       "      <th>Customer_ID</th>\n",
       "      <th>Month</th>\n",
       "      <th>Name</th>\n",
       "      <th>Age</th>\n",
       "      <th>SSN</th>\n",
       "      <th>Occupation</th>\n",
       "      <th>Annual_Income</th>\n",
       "      <th>Monthly_Inhand_Salary</th>\n",
       "      <th>Num_Bank_Accounts</th>\n",
       "      <th>...</th>\n",
       "      <th>Credit_Mix</th>\n",
       "      <th>Outstanding_Debt</th>\n",
       "      <th>Credit_Utilization_Ratio</th>\n",
       "      <th>Credit_History_Age</th>\n",
       "      <th>Payment_of_Min_Amount</th>\n",
       "      <th>Total_EMI_per_month</th>\n",
       "      <th>Amount_invested_monthly</th>\n",
       "      <th>Payment_Behaviour</th>\n",
       "      <th>Monthly_Balance</th>\n",
       "      <th>Credit_Score</th>\n",
       "    </tr>\n",
       "  </thead>\n",
       "  <tbody>\n",
       "    <tr>\n",
       "      <th>0</th>\n",
       "      <td>0x1602</td>\n",
       "      <td>CUS_0xd40</td>\n",
       "      <td>January</td>\n",
       "      <td>Aaron Maashoh</td>\n",
       "      <td>23</td>\n",
       "      <td>821-00-0265</td>\n",
       "      <td>Scientist</td>\n",
       "      <td>19114.12</td>\n",
       "      <td>1824.843333</td>\n",
       "      <td>3</td>\n",
       "      <td>...</td>\n",
       "      <td>_</td>\n",
       "      <td>809.98</td>\n",
       "      <td>26.822620</td>\n",
       "      <td>265.0</td>\n",
       "      <td>2</td>\n",
       "      <td>49.574949</td>\n",
       "      <td>80.41529543900253</td>\n",
       "      <td>4.0</td>\n",
       "      <td>312.494089</td>\n",
       "      <td>Good</td>\n",
       "    </tr>\n",
       "    <tr>\n",
       "      <th>1</th>\n",
       "      <td>0x1603</td>\n",
       "      <td>CUS_0xd40</td>\n",
       "      <td>February</td>\n",
       "      <td>Aaron Maashoh</td>\n",
       "      <td>23</td>\n",
       "      <td>821-00-0265</td>\n",
       "      <td>Scientist</td>\n",
       "      <td>19114.12</td>\n",
       "      <td>1824.843333</td>\n",
       "      <td>3</td>\n",
       "      <td>...</td>\n",
       "      <td>Good</td>\n",
       "      <td>809.98</td>\n",
       "      <td>31.944960</td>\n",
       "      <td>267.5</td>\n",
       "      <td>2</td>\n",
       "      <td>49.574949</td>\n",
       "      <td>118.28022162236736</td>\n",
       "      <td>3.0</td>\n",
       "      <td>284.629162</td>\n",
       "      <td>Good</td>\n",
       "    </tr>\n",
       "    <tr>\n",
       "      <th>2</th>\n",
       "      <td>0x1604</td>\n",
       "      <td>CUS_0xd40</td>\n",
       "      <td>March</td>\n",
       "      <td>Aaron Maashoh</td>\n",
       "      <td>-500</td>\n",
       "      <td>821-00-0265</td>\n",
       "      <td>Scientist</td>\n",
       "      <td>19114.12</td>\n",
       "      <td>1824.843333</td>\n",
       "      <td>3</td>\n",
       "      <td>...</td>\n",
       "      <td>Good</td>\n",
       "      <td>809.98</td>\n",
       "      <td>28.609352</td>\n",
       "      <td>267.0</td>\n",
       "      <td>2</td>\n",
       "      <td>49.574949</td>\n",
       "      <td>81.699521264648</td>\n",
       "      <td>2.0</td>\n",
       "      <td>331.209863</td>\n",
       "      <td>Good</td>\n",
       "    </tr>\n",
       "    <tr>\n",
       "      <th>3</th>\n",
       "      <td>0x1605</td>\n",
       "      <td>CUS_0xd40</td>\n",
       "      <td>April</td>\n",
       "      <td>Aaron Maashoh</td>\n",
       "      <td>23</td>\n",
       "      <td>821-00-0265</td>\n",
       "      <td>Scientist</td>\n",
       "      <td>19114.12</td>\n",
       "      <td>1824.843333</td>\n",
       "      <td>3</td>\n",
       "      <td>...</td>\n",
       "      <td>Good</td>\n",
       "      <td>809.98</td>\n",
       "      <td>31.377862</td>\n",
       "      <td>268.0</td>\n",
       "      <td>2</td>\n",
       "      <td>49.574949</td>\n",
       "      <td>199.4580743910713</td>\n",
       "      <td>1.0</td>\n",
       "      <td>223.451310</td>\n",
       "      <td>Good</td>\n",
       "    </tr>\n",
       "    <tr>\n",
       "      <th>4</th>\n",
       "      <td>0x1606</td>\n",
       "      <td>CUS_0xd40</td>\n",
       "      <td>May</td>\n",
       "      <td>Aaron Maashoh</td>\n",
       "      <td>23</td>\n",
       "      <td>821-00-0265</td>\n",
       "      <td>Scientist</td>\n",
       "      <td>19114.12</td>\n",
       "      <td>1824.843333</td>\n",
       "      <td>3</td>\n",
       "      <td>...</td>\n",
       "      <td>Good</td>\n",
       "      <td>809.98</td>\n",
       "      <td>24.797347</td>\n",
       "      <td>269.0</td>\n",
       "      <td>2</td>\n",
       "      <td>49.574949</td>\n",
       "      <td>41.420153086217326</td>\n",
       "      <td>5.0</td>\n",
       "      <td>341.489231</td>\n",
       "      <td>Good</td>\n",
       "    </tr>\n",
       "  </tbody>\n",
       "</table>\n",
       "<p>5 rows × 28 columns</p>\n",
       "</div>"
      ],
      "text/plain": [
       "       ID Customer_ID     Month           Name   Age          SSN Occupation  \\\n",
       "0  0x1602   CUS_0xd40   January  Aaron Maashoh    23  821-00-0265  Scientist   \n",
       "1  0x1603   CUS_0xd40  February  Aaron Maashoh    23  821-00-0265  Scientist   \n",
       "2  0x1604   CUS_0xd40     March  Aaron Maashoh  -500  821-00-0265  Scientist   \n",
       "3  0x1605   CUS_0xd40     April  Aaron Maashoh    23  821-00-0265  Scientist   \n",
       "4  0x1606   CUS_0xd40       May  Aaron Maashoh    23  821-00-0265  Scientist   \n",
       "\n",
       "   Annual_Income  Monthly_Inhand_Salary  Num_Bank_Accounts  ...  Credit_Mix  \\\n",
       "0       19114.12            1824.843333                  3  ...           _   \n",
       "1       19114.12            1824.843333                  3  ...        Good   \n",
       "2       19114.12            1824.843333                  3  ...        Good   \n",
       "3       19114.12            1824.843333                  3  ...        Good   \n",
       "4       19114.12            1824.843333                  3  ...        Good   \n",
       "\n",
       "   Outstanding_Debt  Credit_Utilization_Ratio Credit_History_Age  \\\n",
       "0            809.98                 26.822620              265.0   \n",
       "1            809.98                 31.944960              267.5   \n",
       "2            809.98                 28.609352              267.0   \n",
       "3            809.98                 31.377862              268.0   \n",
       "4            809.98                 24.797347              269.0   \n",
       "\n",
       "   Payment_of_Min_Amount  Total_EMI_per_month Amount_invested_monthly  \\\n",
       "0                      2            49.574949       80.41529543900253   \n",
       "1                      2            49.574949      118.28022162236736   \n",
       "2                      2            49.574949         81.699521264648   \n",
       "3                      2            49.574949       199.4580743910713   \n",
       "4                      2            49.574949      41.420153086217326   \n",
       "\n",
       "   Payment_Behaviour Monthly_Balance  Credit_Score  \n",
       "0                4.0      312.494089          Good  \n",
       "1                3.0      284.629162          Good  \n",
       "2                2.0      331.209863          Good  \n",
       "3                1.0      223.451310          Good  \n",
       "4                5.0      341.489231          Good  \n",
       "\n",
       "[5 rows x 28 columns]"
      ]
     },
     "execution_count": 2075,
     "metadata": {},
     "output_type": "execute_result"
    }
   ],
   "source": [
    "final_dataset.head()"
   ]
  },
  {
   "cell_type": "code",
   "execution_count": 2076,
   "metadata": {},
   "outputs": [],
   "source": [
    "#Using the Inter Quantile Range to drop outliers\n",
    "Q1 = final_dataset.Annual_Income.quantile(0.25)\n",
    "Q3 = final_dataset.Annual_Income.quantile(0.75)\n",
    "\n",
    "IQR = Q3 - Q1\n",
    "final_dataset = final_dataset.drop(final_dataset.loc[final_dataset['Annual_Income'] > (Q3 + 1.5 * IQR)].index)\n",
    "final_dataset = final_dataset.drop(final_dataset.loc[final_dataset['Annual_Income'] < (Q1-1.5*IQR)].index)"
   ]
  },
  {
   "cell_type": "code",
   "execution_count": 2077,
   "metadata": {},
   "outputs": [
    {
     "data": {
      "text/plain": [
       "<AxesSubplot:xlabel='Annual_Income'>"
      ]
     },
     "execution_count": 2077,
     "metadata": {},
     "output_type": "execute_result"
    },
    {
     "data": {
      "image/png": "[encoded data removed]",
      "text/plain": [
       "<Figure size 2000x1000 with 1 Axes>"
      ]
     },
     "metadata": {},
     "output_type": "display_data"
    }
   ],
   "source": [
    "sns.boxplot(x=final_dataset['Annual_Income'])"
   ]
  },
  {
   "cell_type": "code",
   "execution_count": 2078,
   "metadata": {},
   "outputs": [
    {
     "data": {
      "text/plain": [
       "<AxesSubplot:xlabel='Credit_History_Age'>"
      ]
     },
     "execution_count": 2078,
     "metadata": {},
     "output_type": "execute_result"
    },
    {
     "data": {
      "image/png": "[encoded data removed]",
      "text/plain": [
       "<Figure size 2000x1000 with 1 Axes>"
      ]
     },
     "metadata": {},
     "output_type": "display_data"
    }
   ],
   "source": [
    "sns.boxplot(x=final_dataset['Credit_History_Age'])"
   ]
  },
  {
   "cell_type": "code",
   "execution_count": 2079,
   "metadata": {
    "scrolled": true
   },
   "outputs": [
    {
     "data": {
      "text/plain": [
       "<AxesSubplot:xlabel='Outstanding_Debt'>"
      ]
     },
     "execution_count": 2079,
     "metadata": {},
     "output_type": "execute_result"
    },
    {
     "data": {
      "image/png": "[encoded data removed]",
      "text/plain": [
       "<Figure size 2000x1000 with 1 Axes>"
      ]
     },
     "metadata": {},
     "output_type": "display_data"
    }
   ],
   "source": [
    "sns.boxplot(x=final_dataset['Outstanding_Debt'])"
   ]
  },
  {
   "cell_type": "code",
   "execution_count": 2080,
   "metadata": {},
   "outputs": [
    {
     "data": {
      "text/plain": [
       "Lawyer           5897\n",
       "Architect        5712\n",
       "Engineer         5707\n",
       "Mechanic         5663\n",
       "Scientist        5642\n",
       "Teacher          5610\n",
       "Accountant       5595\n",
       "Media_Manager    5587\n",
       "Entrepreneur     5584\n",
       "Developer        5576\n",
       "Journalist       5477\n",
       "Doctor           5461\n",
       "Manager          5361\n",
       "Musician         5327\n",
       "Writer           5302\n",
       "Name: Occupation, dtype: int64"
      ]
     },
     "execution_count": 2080,
     "metadata": {},
     "output_type": "execute_result"
    }
   ],
   "source": [
    "#Occupation count\n",
    "counting_occupation = final_dataset['Occupation'].value_counts(dropna=False)\n",
    "counting_occupation"
   ]
  },
  {
   "cell_type": "code",
   "execution_count": 2081,
   "metadata": {},
   "outputs": [
    {
     "data": {
      "image/png": "[encoded data removed]",
      "text/plain": [
       "<Figure size 2000x1000 with 1 Axes>"
      ]
     },
     "metadata": {},
     "output_type": "display_data"
    }
   ],
   "source": [
    "#Bar graph for occupations\n",
    "sns.set(rc={'figure.figsize':(20,10)})\n",
    "sns.barplot(x=counting_occupation.index, y=counting_occupation.values)\n",
    "plt.title('Bar graph for different occupations', fontsize=16)\n",
    "plt.ylabel('Count', fontsize=14)\n",
    "plt.xlabel('Occupation', fontsize=14)\n",
    "plt.xticks(rotation=45)\n",
    "plt.show()"
   ]
  },
  {
   "cell_type": "markdown",
   "metadata": {
    "id": "IjtsQvuEZKWh"
   },
   "source": [
    "Lets work on the outliers in different columns like \"Num_of_Delayed_Payment\", \"Total_EMI_per_month\", \"Num_of_Loan\" and \"Annual_Income\""
   ]
  },
  {
   "cell_type": "code",
   "execution_count": 2082,
   "metadata": {
    "id": "-1xyr1Y5Zsq3"
   },
   "outputs": [],
   "source": [
    "#sorted(final_dataset['Num_of_Delayed_Payment'])"
   ]
  },
  {
   "cell_type": "code",
   "execution_count": 2083,
   "metadata": {
    "id": "Z5sEBzKBbmjF"
   },
   "outputs": [],
   "source": [
    "#quantile1, quantile3 = np.percentile(final_dataset['Num_of_Delayed_Payment'],[25,75])"
   ]
  },
  {
   "cell_type": "code",
   "execution_count": 2084,
   "metadata": {
    "id": "WNS9n_ryoAFL"
   },
   "outputs": [],
   "source": [
    "#print(quantile1,quantile3)"
   ]
  },
  {
   "cell_type": "code",
   "execution_count": 2085,
   "metadata": {
    "id": "wiILUw26oItg"
   },
   "outputs": [],
   "source": [
    "#iqr_value = quantile3 - quantile1\n",
    "#print(iqr_value)"
   ]
  },
  {
   "cell_type": "markdown",
   "metadata": {
    "id": "B22gnpMHojuo"
   },
   "source": [
    "#lowerbound = quantile1 - (1.5 * iqr_value)\n",
    "#upperbound = quantile3 + (1.5 * iqr_value)\n",
    "#print(lowerbound,upperbound)"
   ]
  },
  {
   "cell_type": "markdown",
   "metadata": {},
   "source": [
    "# Credit score card modelling using Weight of Evidence and information value"
   ]
  },
  {
   "cell_type": "code",
   "execution_count": 2086,
   "metadata": {},
   "outputs": [
    {
     "name": "stdout",
     "output_type": "stream",
     "text": [
      "<class 'pandas.core.frame.DataFrame'>\n",
      "Int64Index: 83501 entries, 0 to 85851\n",
      "Data columns (total 28 columns):\n",
      " #   Column                    Non-Null Count  Dtype   \n",
      "---  ------                    --------------  -----   \n",
      " 0   ID                        83501 non-null  object  \n",
      " 1   Customer_ID               83501 non-null  category\n",
      " 2   Month                     83501 non-null  object  \n",
      " 3   Name                      75159 non-null  object  \n",
      " 4   Age                       83501 non-null  object  \n",
      " 5   SSN                       83501 non-null  object  \n",
      " 6   Occupation                83501 non-null  object  \n",
      " 7   Annual_Income             83501 non-null  float64 \n",
      " 8   Monthly_Inhand_Salary     83501 non-null  float64 \n",
      " 9   Num_Bank_Accounts         83501 non-null  int64   \n",
      " 10  Num_Credit_Card           83501 non-null  int64   \n",
      " 11  Interest_Rate             83501 non-null  int64   \n",
      " 12  Num_of_Loan               83501 non-null  float64 \n",
      " 13  Type_of_Loan              74146 non-null  object  \n",
      " 14  Delay_from_due_date       83501 non-null  float64 \n",
      " 15  Num_of_Delayed_Payment    83501 non-null  float64 \n",
      " 16  Changed_Credit_Limit      83501 non-null  object  \n",
      " 17  Num_Credit_Inquiries      81857 non-null  float64 \n",
      " 18  Credit_Mix                83501 non-null  object  \n",
      " 19  Outstanding_Debt          83501 non-null  float64 \n",
      " 20  Credit_Utilization_Ratio  83501 non-null  float64 \n",
      " 21  Credit_History_Age        83501 non-null  float64 \n",
      " 22  Payment_of_Min_Amount     83501 non-null  int64   \n",
      " 23  Total_EMI_per_month       83501 non-null  float64 \n",
      " 24  Amount_invested_monthly   79775 non-null  object  \n",
      " 25  Payment_Behaviour         83501 non-null  float64 \n",
      " 26  Monthly_Balance           83501 non-null  float64 \n",
      " 27  Credit_Score              83501 non-null  object  \n",
      "dtypes: category(1), float64(12), int64(4), object(11)\n",
      "memory usage: 18.3+ MB\n"
     ]
    }
   ],
   "source": [
    "final_dataset.info()"
   ]
  },
  {
   "cell_type": "code",
   "execution_count": 2087,
   "metadata": {},
   "outputs": [],
   "source": [
    "#Removing features \n",
    "sc_dataset = final_dataset.drop(columns=['ID', 'Customer_ID','Month','Name', 'Monthly_Inhand_Salary','Interest_Rate','Num_of_Loan','Num_Bank_Accounts','SSN','Changed_Credit_Limit', 'Credit_Mix', 'Num_Credit_Inquiries', 'Credit_Utilization_Ratio', 'Amount_invested_monthly','Type_of_Loan'], axis=1)"
   ]
  },
  {
   "cell_type": "code",
   "execution_count": 2088,
   "metadata": {},
   "outputs": [
    {
     "data": {
      "text/plain": [
       "0     2\n",
       "1     2\n",
       "2     2\n",
       "3     2\n",
       "4     2\n",
       "5     2\n",
       "6     2\n",
       "7     2\n",
       "8     2\n",
       "9     2\n",
       "10    2\n",
       "11    2\n",
       "12    0\n",
       "13    2\n",
       "14    2\n",
       "15    2\n",
       "16    2\n",
       "17    2\n",
       "18    2\n",
       "19    2\n",
       "Name: Payment_of_Min_Amount, dtype: int64"
      ]
     },
     "execution_count": 2088,
     "metadata": {},
     "output_type": "execute_result"
    }
   ],
   "source": [
    "sc_dataset['Payment_of_Min_Amount'].head(20)"
   ]
  },
  {
   "cell_type": "code",
   "execution_count": null,
   "metadata": {},
   "outputs": [],
   "source": []
  },
  {
   "cell_type": "code",
   "execution_count": 2089,
   "metadata": {},
   "outputs": [
    {
     "name": "stderr",
     "output_type": "stream",
     "text": [
      "/var/folders/nf/g_4jhvds3hl6w0x8k1y827z80000gn/T/ipykernel_12768/88797409.py:10: FutureWarning: The default value of regex will change from True to False in a future version. In addition, single character regular expressions will *not* be treated as literal strings when regex=True.\n",
      "  sc_dataset[i] = sc_dataset[i].astype(str).str.replace(c,'')\n",
      "/var/folders/nf/g_4jhvds3hl6w0x8k1y827z80000gn/T/ipykernel_12768/88797409.py:14: FutureWarning: The default value of regex will change from True to False in a future version. In addition, single character regular expressions will *not* be treated as literal strings when regex=True.\n",
      "  sc_dataset[i] = sc_dataset[i].astype(str).str.replace(c,'')\n"
     ]
    },
    {
     "data": {
      "text/html": [
       "<div>\n",
       "<style scoped>\n",
       "    .dataframe tbody tr th:only-of-type {\n",
       "        vertical-align: middle;\n",
       "    }\n",
       "\n",
       "    .dataframe tbody tr th {\n",
       "        vertical-align: top;\n",
       "    }\n",
       "\n",
       "    .dataframe thead th {\n",
       "        text-align: right;\n",
       "    }\n",
       "</style>\n",
       "<table border=\"1\" class=\"dataframe\">\n",
       "  <thead>\n",
       "    <tr style=\"text-align: right;\">\n",
       "      <th></th>\n",
       "      <th>Age</th>\n",
       "      <th>Occupation</th>\n",
       "      <th>Annual_Income</th>\n",
       "      <th>Num_Credit_Card</th>\n",
       "      <th>Delay_from_due_date</th>\n",
       "      <th>Num_of_Delayed_Payment</th>\n",
       "      <th>Outstanding_Debt</th>\n",
       "      <th>Credit_History_Age</th>\n",
       "      <th>Payment_of_Min_Amount</th>\n",
       "      <th>Total_EMI_per_month</th>\n",
       "      <th>Payment_Behaviour</th>\n",
       "      <th>Monthly_Balance</th>\n",
       "      <th>Credit_Score</th>\n",
       "    </tr>\n",
       "  </thead>\n",
       "  <tbody>\n",
       "    <tr>\n",
       "      <th>0</th>\n",
       "      <td>23</td>\n",
       "      <td>Scientist</td>\n",
       "      <td>19114.12</td>\n",
       "      <td>4</td>\n",
       "      <td>3.0</td>\n",
       "      <td>7.0</td>\n",
       "      <td>809.98</td>\n",
       "      <td>265.0</td>\n",
       "      <td>2</td>\n",
       "      <td>49.57494921489417</td>\n",
       "      <td>4.0</td>\n",
       "      <td>312.49408867943663</td>\n",
       "      <td>Good</td>\n",
       "    </tr>\n",
       "    <tr>\n",
       "      <th>1</th>\n",
       "      <td>23</td>\n",
       "      <td>Scientist</td>\n",
       "      <td>19114.12</td>\n",
       "      <td>4</td>\n",
       "      <td>-1.0</td>\n",
       "      <td>6.5</td>\n",
       "      <td>809.98</td>\n",
       "      <td>267.5</td>\n",
       "      <td>2</td>\n",
       "      <td>49.57494921489417</td>\n",
       "      <td>3.0</td>\n",
       "      <td>284.62916249607184</td>\n",
       "      <td>Good</td>\n",
       "    </tr>\n",
       "    <tr>\n",
       "      <th>2</th>\n",
       "      <td>-500</td>\n",
       "      <td>Scientist</td>\n",
       "      <td>19114.12</td>\n",
       "      <td>4</td>\n",
       "      <td>3.0</td>\n",
       "      <td>7.0</td>\n",
       "      <td>809.98</td>\n",
       "      <td>267.0</td>\n",
       "      <td>2</td>\n",
       "      <td>49.57494921489417</td>\n",
       "      <td>2.0</td>\n",
       "      <td>331.2098628537912</td>\n",
       "      <td>Good</td>\n",
       "    </tr>\n",
       "    <tr>\n",
       "      <th>3</th>\n",
       "      <td>23</td>\n",
       "      <td>Scientist</td>\n",
       "      <td>19114.12</td>\n",
       "      <td>4</td>\n",
       "      <td>5.0</td>\n",
       "      <td>4.0</td>\n",
       "      <td>809.98</td>\n",
       "      <td>268.0</td>\n",
       "      <td>2</td>\n",
       "      <td>49.57494921489417</td>\n",
       "      <td>1.0</td>\n",
       "      <td>223.45130972736786</td>\n",
       "      <td>Good</td>\n",
       "    </tr>\n",
       "    <tr>\n",
       "      <th>4</th>\n",
       "      <td>23</td>\n",
       "      <td>Scientist</td>\n",
       "      <td>19114.12</td>\n",
       "      <td>4</td>\n",
       "      <td>6.0</td>\n",
       "      <td>6.5</td>\n",
       "      <td>809.98</td>\n",
       "      <td>269.0</td>\n",
       "      <td>2</td>\n",
       "      <td>49.57494921489417</td>\n",
       "      <td>5.0</td>\n",
       "      <td>341.48923103222177</td>\n",
       "      <td>Good</td>\n",
       "    </tr>\n",
       "  </tbody>\n",
       "</table>\n",
       "</div>"
      ],
      "text/plain": [
       "    Age Occupation Annual_Income  Num_Credit_Card Delay_from_due_date  \\\n",
       "0    23  Scientist      19114.12                4                 3.0   \n",
       "1    23  Scientist      19114.12                4                -1.0   \n",
       "2  -500  Scientist      19114.12                4                 3.0   \n",
       "3    23  Scientist      19114.12                4                 5.0   \n",
       "4    23  Scientist      19114.12                4                 6.0   \n",
       "\n",
       "  Num_of_Delayed_Payment Outstanding_Debt Credit_History_Age  \\\n",
       "0                    7.0           809.98              265.0   \n",
       "1                    6.5           809.98              267.5   \n",
       "2                    7.0           809.98              267.0   \n",
       "3                    4.0           809.98              268.0   \n",
       "4                    6.5           809.98              269.0   \n",
       "\n",
       "  Payment_of_Min_Amount Total_EMI_per_month  Payment_Behaviour  \\\n",
       "0                     2   49.57494921489417                4.0   \n",
       "1                     2   49.57494921489417                3.0   \n",
       "2                     2   49.57494921489417                2.0   \n",
       "3                     2   49.57494921489417                1.0   \n",
       "4                     2   49.57494921489417                5.0   \n",
       "\n",
       "      Monthly_Balance Credit_Score  \n",
       "0  312.49408867943663         Good  \n",
       "1  284.62916249607184         Good  \n",
       "2   331.2098628537912         Good  \n",
       "3  223.45130972736786         Good  \n",
       "4  341.48923103222177         Good  "
      ]
     },
     "execution_count": 2089,
     "metadata": {},
     "output_type": "execute_result"
    }
   ],
   "source": [
    "# Revise the incorrect data\n",
    "sym = '\\\\`*_{}[]()>#@+!$:;'\n",
    "col_int = ['Age','Annual_Income','Delay_from_due_date','Num_of_Delayed_Payment',\n",
    "           'Outstanding_Debt','Total_EMI_per_month', 'Monthly_Balance']\n",
    "\n",
    "col_str = ['Occupation', 'Credit_History_Age','Payment_of_Min_Amount','Credit_Score']\n",
    "\n",
    "for i in col_int:\n",
    "    for c in sym:\n",
    "        sc_dataset[i] = sc_dataset[i].astype(str).str.replace(c,'')\n",
    "        \n",
    "for i in col_str:\n",
    "    for c in sym:\n",
    "        sc_dataset[i] = sc_dataset[i].astype(str).str.replace(c,'')\n",
    "\n",
    "sc_dataset.head()"
   ]
  },
  {
   "cell_type": "code",
   "execution_count": 2090,
   "metadata": {
    "scrolled": true
   },
   "outputs": [
    {
     "name": "stdout",
     "output_type": "stream",
     "text": [
      "<class 'pandas.core.frame.DataFrame'>\n",
      "Int64Index: 83501 entries, 0 to 85851\n",
      "Data columns (total 13 columns):\n",
      " #   Column                  Non-Null Count  Dtype  \n",
      "---  ------                  --------------  -----  \n",
      " 0   Age                     83501 non-null  object \n",
      " 1   Occupation              83501 non-null  object \n",
      " 2   Annual_Income           83501 non-null  object \n",
      " 3   Num_Credit_Card         83501 non-null  int64  \n",
      " 4   Delay_from_due_date     83501 non-null  object \n",
      " 5   Num_of_Delayed_Payment  83501 non-null  object \n",
      " 6   Outstanding_Debt        83501 non-null  object \n",
      " 7   Credit_History_Age      83501 non-null  object \n",
      " 8   Payment_of_Min_Amount   83501 non-null  object \n",
      " 9   Total_EMI_per_month     83501 non-null  object \n",
      " 10  Payment_Behaviour       83501 non-null  float64\n",
      " 11  Monthly_Balance         83501 non-null  object \n",
      " 12  Credit_Score            83501 non-null  object \n",
      "dtypes: float64(1), int64(1), object(11)\n",
      "memory usage: 8.9+ MB\n"
     ]
    }
   ],
   "source": [
    "#Explore the sc_dataset\n",
    "sc_dataset.info()"
   ]
  },
  {
   "cell_type": "code",
   "execution_count": 2091,
   "metadata": {
    "scrolled": true
   },
   "outputs": [],
   "source": [
    "sc_dataset['Num_of_Delayed_Payment'] = sc_dataset['Num_of_Delayed_Payment'].astype(str).str.replace('-','0')"
   ]
  },
  {
   "cell_type": "code",
   "execution_count": 2092,
   "metadata": {},
   "outputs": [
    {
     "data": {
      "text/plain": [
       "Age                       float64\n",
       "Occupation                 object\n",
       "Annual_Income             float64\n",
       "Num_Credit_Card             int64\n",
       "Delay_from_due_date       float64\n",
       "Num_of_Delayed_Payment    float64\n",
       "Outstanding_Debt          float64\n",
       "Credit_History_Age        float64\n",
       "Payment_of_Min_Amount      object\n",
       "Total_EMI_per_month       float64\n",
       "Payment_Behaviour         float64\n",
       "Monthly_Balance           float64\n",
       "Credit_Score               object\n",
       "dtype: object"
      ]
     },
     "execution_count": 2092,
     "metadata": {},
     "output_type": "execute_result"
    }
   ],
   "source": [
    "col_int2 = ['Age', 'Delay_from_due_date','Num_of_Delayed_Payment','Outstanding_Debt',\n",
    "           'Total_EMI_per_month','Monthly_Balance','Payment_Behaviour','Credit_History_Age','Annual_Income']\n",
    "\n",
    "for i in col_int2:\n",
    "    sc_dataset[i] = sc_dataset[i].astype(float)\n",
    "sc_dataset.dtypes"
   ]
  },
  {
   "cell_type": "code",
   "execution_count": 2093,
   "metadata": {},
   "outputs": [],
   "source": [
    "#Using the Inter Quantile Range to drop outliers in age\n",
    "\n",
    "sc_dataset['Age'] = pd.to_numeric(sc_dataset['Age'])\n",
    "median_age = sc_dataset['Age'].median()\n",
    "sc_dataset.loc[sc_dataset['Age'] < 18, 'Age'] = median_age \n",
    "sc_dataset.loc[sc_dataset['Delay_from_due_date'] < 1, 'Delay_from_due_datet'] = 0 "
   ]
  },
  {
   "cell_type": "code",
   "execution_count": 2094,
   "metadata": {},
   "outputs": [],
   "source": [
    "#Adjusting negative values to 0\n",
    "neg_col = ['Delay_from_due_date','Num_of_Delayed_Payment']\n",
    "\n",
    "\n",
    "\n",
    "for i in neg_col:\n",
    "    sc_dataset.loc[sc_dataset[i] < 0, i] *= 0 * sc_dataset[i]\n",
    "    "
   ]
  },
  {
   "cell_type": "code",
   "execution_count": 2095,
   "metadata": {},
   "outputs": [
    {
     "data": {
      "text/plain": [
       "0    Scientist\n",
       "1    Scientist\n",
       "2    Scientist\n",
       "3    Scientist\n",
       "4    Scientist\n",
       "5    Scientist\n",
       "6    Scientist\n",
       "7      Teacher\n",
       "8      Teacher\n",
       "9      Teacher\n",
       "Name: Occupation, dtype: object"
      ]
     },
     "execution_count": 2095,
     "metadata": {},
     "output_type": "execute_result"
    }
   ],
   "source": [
    "sc_dataset['Occupation'].head(10)"
   ]
  },
  {
   "cell_type": "code",
   "execution_count": 2096,
   "metadata": {},
   "outputs": [
    {
     "data": {
      "text/html": [
       "<div>\n",
       "<style scoped>\n",
       "    .dataframe tbody tr th:only-of-type {\n",
       "        vertical-align: middle;\n",
       "    }\n",
       "\n",
       "    .dataframe tbody tr th {\n",
       "        vertical-align: top;\n",
       "    }\n",
       "\n",
       "    .dataframe thead th {\n",
       "        text-align: right;\n",
       "    }\n",
       "</style>\n",
       "<table border=\"1\" class=\"dataframe\">\n",
       "  <thead>\n",
       "    <tr style=\"text-align: right;\">\n",
       "      <th></th>\n",
       "      <th>Age</th>\n",
       "      <th>Occupation</th>\n",
       "      <th>Annual_Income</th>\n",
       "      <th>Num_Credit_Card</th>\n",
       "      <th>Delay_from_due_date</th>\n",
       "      <th>Num_of_Delayed_Payment</th>\n",
       "      <th>Outstanding_Debt</th>\n",
       "      <th>Credit_History_Age</th>\n",
       "      <th>Payment_of_Min_Amount</th>\n",
       "      <th>Total_EMI_per_month</th>\n",
       "      <th>Monthly_Balance</th>\n",
       "      <th>Delay_from_due_datet</th>\n",
       "      <th>good_bad</th>\n",
       "    </tr>\n",
       "  </thead>\n",
       "  <tbody>\n",
       "    <tr>\n",
       "      <th>0</th>\n",
       "      <td>23.0</td>\n",
       "      <td>Scientist</td>\n",
       "      <td>19114.12</td>\n",
       "      <td>4</td>\n",
       "      <td>3.0</td>\n",
       "      <td>7.0</td>\n",
       "      <td>809.98</td>\n",
       "      <td>265.0</td>\n",
       "      <td>2</td>\n",
       "      <td>49.574949</td>\n",
       "      <td>312.494089</td>\n",
       "      <td>NaN</td>\n",
       "      <td>1</td>\n",
       "    </tr>\n",
       "    <tr>\n",
       "      <th>1</th>\n",
       "      <td>23.0</td>\n",
       "      <td>Scientist</td>\n",
       "      <td>19114.12</td>\n",
       "      <td>4</td>\n",
       "      <td>0.0</td>\n",
       "      <td>6.5</td>\n",
       "      <td>809.98</td>\n",
       "      <td>267.5</td>\n",
       "      <td>2</td>\n",
       "      <td>49.574949</td>\n",
       "      <td>284.629162</td>\n",
       "      <td>0.0</td>\n",
       "      <td>1</td>\n",
       "    </tr>\n",
       "    <tr>\n",
       "      <th>2</th>\n",
       "      <td>33.0</td>\n",
       "      <td>Scientist</td>\n",
       "      <td>19114.12</td>\n",
       "      <td>4</td>\n",
       "      <td>3.0</td>\n",
       "      <td>7.0</td>\n",
       "      <td>809.98</td>\n",
       "      <td>267.0</td>\n",
       "      <td>2</td>\n",
       "      <td>49.574949</td>\n",
       "      <td>331.209863</td>\n",
       "      <td>NaN</td>\n",
       "      <td>1</td>\n",
       "    </tr>\n",
       "    <tr>\n",
       "      <th>3</th>\n",
       "      <td>23.0</td>\n",
       "      <td>Scientist</td>\n",
       "      <td>19114.12</td>\n",
       "      <td>4</td>\n",
       "      <td>5.0</td>\n",
       "      <td>4.0</td>\n",
       "      <td>809.98</td>\n",
       "      <td>268.0</td>\n",
       "      <td>2</td>\n",
       "      <td>49.574949</td>\n",
       "      <td>223.451310</td>\n",
       "      <td>NaN</td>\n",
       "      <td>0</td>\n",
       "    </tr>\n",
       "    <tr>\n",
       "      <th>4</th>\n",
       "      <td>23.0</td>\n",
       "      <td>Scientist</td>\n",
       "      <td>19114.12</td>\n",
       "      <td>4</td>\n",
       "      <td>6.0</td>\n",
       "      <td>6.5</td>\n",
       "      <td>809.98</td>\n",
       "      <td>269.0</td>\n",
       "      <td>2</td>\n",
       "      <td>49.574949</td>\n",
       "      <td>341.489231</td>\n",
       "      <td>NaN</td>\n",
       "      <td>1</td>\n",
       "    </tr>\n",
       "    <tr>\n",
       "      <th>...</th>\n",
       "      <td>...</td>\n",
       "      <td>...</td>\n",
       "      <td>...</td>\n",
       "      <td>...</td>\n",
       "      <td>...</td>\n",
       "      <td>...</td>\n",
       "      <td>...</td>\n",
       "      <td>...</td>\n",
       "      <td>...</td>\n",
       "      <td>...</td>\n",
       "      <td>...</td>\n",
       "      <td>...</td>\n",
       "      <td>...</td>\n",
       "    </tr>\n",
       "    <tr>\n",
       "      <th>85847</th>\n",
       "      <td>25.0</td>\n",
       "      <td>Mechanic</td>\n",
       "      <td>39628.99</td>\n",
       "      <td>6</td>\n",
       "      <td>20.0</td>\n",
       "      <td>6.0</td>\n",
       "      <td>502.38</td>\n",
       "      <td>377.0</td>\n",
       "      <td>2</td>\n",
       "      <td>35.104023</td>\n",
       "      <td>410.256158</td>\n",
       "      <td>NaN</td>\n",
       "      <td>1</td>\n",
       "    </tr>\n",
       "    <tr>\n",
       "      <th>85848</th>\n",
       "      <td>25.0</td>\n",
       "      <td>Mechanic</td>\n",
       "      <td>39628.99</td>\n",
       "      <td>6</td>\n",
       "      <td>23.0</td>\n",
       "      <td>7.0</td>\n",
       "      <td>502.38</td>\n",
       "      <td>378.0</td>\n",
       "      <td>2</td>\n",
       "      <td>35.104023</td>\n",
       "      <td>479.866228</td>\n",
       "      <td>NaN</td>\n",
       "      <td>1</td>\n",
       "    </tr>\n",
       "    <tr>\n",
       "      <th>85849</th>\n",
       "      <td>25.0</td>\n",
       "      <td>Mechanic</td>\n",
       "      <td>39628.99</td>\n",
       "      <td>6</td>\n",
       "      <td>18.0</td>\n",
       "      <td>7.0</td>\n",
       "      <td>502.38</td>\n",
       "      <td>379.0</td>\n",
       "      <td>2</td>\n",
       "      <td>35.104023</td>\n",
       "      <td>496.651610</td>\n",
       "      <td>NaN</td>\n",
       "      <td>1</td>\n",
       "    </tr>\n",
       "    <tr>\n",
       "      <th>85850</th>\n",
       "      <td>25.0</td>\n",
       "      <td>Mechanic</td>\n",
       "      <td>39628.99</td>\n",
       "      <td>6</td>\n",
       "      <td>27.0</td>\n",
       "      <td>6.0</td>\n",
       "      <td>502.38</td>\n",
       "      <td>380.0</td>\n",
       "      <td>2</td>\n",
       "      <td>35.104023</td>\n",
       "      <td>516.809083</td>\n",
       "      <td>NaN</td>\n",
       "      <td>1</td>\n",
       "    </tr>\n",
       "    <tr>\n",
       "      <th>85851</th>\n",
       "      <td>25.0</td>\n",
       "      <td>Mechanic</td>\n",
       "      <td>39628.99</td>\n",
       "      <td>6</td>\n",
       "      <td>20.0</td>\n",
       "      <td>6.0</td>\n",
       "      <td>502.38</td>\n",
       "      <td>381.0</td>\n",
       "      <td>2</td>\n",
       "      <td>35.104023</td>\n",
       "      <td>319.164979</td>\n",
       "      <td>NaN</td>\n",
       "      <td>1</td>\n",
       "    </tr>\n",
       "  </tbody>\n",
       "</table>\n",
       "<p>83501 rows × 13 columns</p>\n",
       "</div>"
      ],
      "text/plain": [
       "        Age Occupation  Annual_Income  Num_Credit_Card  Delay_from_due_date  \\\n",
       "0      23.0  Scientist       19114.12                4                  3.0   \n",
       "1      23.0  Scientist       19114.12                4                  0.0   \n",
       "2      33.0  Scientist       19114.12                4                  3.0   \n",
       "3      23.0  Scientist       19114.12                4                  5.0   \n",
       "4      23.0  Scientist       19114.12                4                  6.0   \n",
       "...     ...        ...            ...              ...                  ...   \n",
       "85847  25.0   Mechanic       39628.99                6                 20.0   \n",
       "85848  25.0   Mechanic       39628.99                6                 23.0   \n",
       "85849  25.0   Mechanic       39628.99                6                 18.0   \n",
       "85850  25.0   Mechanic       39628.99                6                 27.0   \n",
       "85851  25.0   Mechanic       39628.99                6                 20.0   \n",
       "\n",
       "       Num_of_Delayed_Payment  Outstanding_Debt  Credit_History_Age  \\\n",
       "0                         7.0            809.98               265.0   \n",
       "1                         6.5            809.98               267.5   \n",
       "2                         7.0            809.98               267.0   \n",
       "3                         4.0            809.98               268.0   \n",
       "4                         6.5            809.98               269.0   \n",
       "...                       ...               ...                 ...   \n",
       "85847                     6.0            502.38               377.0   \n",
       "85848                     7.0            502.38               378.0   \n",
       "85849                     7.0            502.38               379.0   \n",
       "85850                     6.0            502.38               380.0   \n",
       "85851                     6.0            502.38               381.0   \n",
       "\n",
       "      Payment_of_Min_Amount  Total_EMI_per_month  Monthly_Balance  \\\n",
       "0                         2            49.574949       312.494089   \n",
       "1                         2            49.574949       284.629162   \n",
       "2                         2            49.574949       331.209863   \n",
       "3                         2            49.574949       223.451310   \n",
       "4                         2            49.574949       341.489231   \n",
       "...                     ...                  ...              ...   \n",
       "85847                     2            35.104023       410.256158   \n",
       "85848                     2            35.104023       479.866228   \n",
       "85849                     2            35.104023       496.651610   \n",
       "85850                     2            35.104023       516.809083   \n",
       "85851                     2            35.104023       319.164979   \n",
       "\n",
       "       Delay_from_due_datet  good_bad  \n",
       "0                       NaN         1  \n",
       "1                       0.0         1  \n",
       "2                       NaN         1  \n",
       "3                       NaN         0  \n",
       "4                       NaN         1  \n",
       "...                     ...       ...  \n",
       "85847                   NaN         1  \n",
       "85848                   NaN         1  \n",
       "85849                   NaN         1  \n",
       "85850                   NaN         1  \n",
       "85851                   NaN         1  \n",
       "\n",
       "[83501 rows x 13 columns]"
      ]
     },
     "execution_count": 2096,
     "metadata": {},
     "output_type": "execute_result"
    }
   ],
   "source": [
    "#create a new column based on delayed payments to be our target variable\n",
    "sc_dataset['good_bad'] = np.where(sc_dataset['Payment_Behaviour'] < 2, 0,1)\n",
    "\n",
    "\n",
    "#We would drop the original value of delayed payments\n",
    "sc_dataset.drop(columns = ['Payment_Behaviour','Credit_Score'],axis=1)\n"
   ]
  },
  {
   "cell_type": "code",
   "execution_count": 2097,
   "metadata": {},
   "outputs": [],
   "source": [
    "# Split data into testing and training data by 20:80 keeping the distribution of bad loans in the test as that in the pre-split dataset\n",
    "X = sc_dataset.drop(columns=['good_bad','Credit_Score'], axis=1)\n",
    "y = sc_dataset['good_bad'] \n",
    "\n",
    "X_train, X_test, y_train, y_test = train_test_split(X, y, test_size = 0.2, random_state=42, stratify=y)\n",
    "\n",
    "#Hard copying to avoid errors from Pandas\n",
    "X_train, X_test = X_train.copy(), X_test.copy()"
   ]
  },
  {
   "cell_type": "markdown",
   "metadata": {},
   "source": [
    "### Feature selection"
   ]
  },
  {
   "cell_type": "code",
   "execution_count": 2098,
   "metadata": {},
   "outputs": [],
   "source": [
    "#DIviding variables into categorical and numerical features\n",
    "\n",
    "X_train_cat = X_train.select_dtypes(include = 'object').copy()\n",
    "X_train_num = X_train.select_dtypes(include = 'float').copy()"
   ]
  },
  {
   "cell_type": "code",
   "execution_count": 2099,
   "metadata": {},
   "outputs": [
    {
     "data": {
      "text/html": [
       "<div>\n",
       "<style scoped>\n",
       "    .dataframe tbody tr th:only-of-type {\n",
       "        vertical-align: middle;\n",
       "    }\n",
       "\n",
       "    .dataframe tbody tr th {\n",
       "        vertical-align: top;\n",
       "    }\n",
       "\n",
       "    .dataframe thead th {\n",
       "        text-align: right;\n",
       "    }\n",
       "</style>\n",
       "<table border=\"1\" class=\"dataframe\">\n",
       "  <thead>\n",
       "    <tr style=\"text-align: right;\">\n",
       "      <th></th>\n",
       "      <th>Occupation</th>\n",
       "      <th>Payment_of_Min_Amount</th>\n",
       "    </tr>\n",
       "  </thead>\n",
       "  <tbody>\n",
       "    <tr>\n",
       "      <th>1072</th>\n",
       "      <td>Writer</td>\n",
       "      <td>0</td>\n",
       "    </tr>\n",
       "    <tr>\n",
       "      <th>56497</th>\n",
       "      <td>Journalist</td>\n",
       "      <td>1</td>\n",
       "    </tr>\n",
       "    <tr>\n",
       "      <th>73397</th>\n",
       "      <td>Manager</td>\n",
       "      <td>1</td>\n",
       "    </tr>\n",
       "    <tr>\n",
       "      <th>20379</th>\n",
       "      <td>Scientist</td>\n",
       "      <td>0</td>\n",
       "    </tr>\n",
       "    <tr>\n",
       "      <th>37318</th>\n",
       "      <td>Musician</td>\n",
       "      <td>1</td>\n",
       "    </tr>\n",
       "  </tbody>\n",
       "</table>\n",
       "</div>"
      ],
      "text/plain": [
       "       Occupation Payment_of_Min_Amount\n",
       "1072       Writer                     0\n",
       "56497  Journalist                     1\n",
       "73397     Manager                     1\n",
       "20379   Scientist                     0\n",
       "37318    Musician                     1"
      ]
     },
     "execution_count": 2099,
     "metadata": {},
     "output_type": "execute_result"
    }
   ],
   "source": [
    "X_train_cat.head()"
   ]
  },
  {
   "cell_type": "raw",
   "metadata": {},
   "source": [
    "#Chi-square statistic for categorical features"
   ]
  },
  {
   "cell_type": "code",
   "execution_count": 2100,
   "metadata": {},
   "outputs": [
    {
     "data": {
      "text/html": [
       "<div>\n",
       "<style scoped>\n",
       "    .dataframe tbody tr th:only-of-type {\n",
       "        vertical-align: middle;\n",
       "    }\n",
       "\n",
       "    .dataframe tbody tr th {\n",
       "        vertical-align: top;\n",
       "    }\n",
       "\n",
       "    .dataframe thead th {\n",
       "        text-align: right;\n",
       "    }\n",
       "</style>\n",
       "<table border=\"1\" class=\"dataframe\">\n",
       "  <thead>\n",
       "    <tr style=\"text-align: right;\">\n",
       "      <th></th>\n",
       "      <th>Feature</th>\n",
       "      <th>p-value</th>\n",
       "    </tr>\n",
       "  </thead>\n",
       "  <tbody>\n",
       "    <tr>\n",
       "      <th>0</th>\n",
       "      <td>Payment_of_Min_Amount</td>\n",
       "      <td>0.000000</td>\n",
       "    </tr>\n",
       "    <tr>\n",
       "      <th>1</th>\n",
       "      <td>Occupation</td>\n",
       "      <td>0.568384</td>\n",
       "    </tr>\n",
       "  </tbody>\n",
       "</table>\n",
       "</div>"
      ],
      "text/plain": [
       "                 Feature   p-value\n",
       "0  Payment_of_Min_Amount  0.000000\n",
       "1             Occupation  0.568384"
      ]
     },
     "execution_count": 2100,
     "metadata": {},
     "output_type": "execute_result"
    }
   ],
   "source": [
    "#Empty dictionary to store chi-squared test results\n",
    "chiSq_check = {}\n",
    "\n",
    "#loop over column in the training set to calculate chi-statistics with the largest variable\n",
    "for column in X_train_cat:\n",
    "    chi, p, dot, ex = chi2_contingency(pd.crosstab(y_train, X_train_cat[column]))\n",
    "    chiSq_check.setdefault('Feature',[]).append(column)\n",
    "    chiSq_check.setdefault('p-value',[]).append(round(p, 10))\n",
    "    \n",
    "#convert the dictionary to a DF\n",
    "chiSq_result = pd.DataFrame(data = chiSq_check)\n",
    "chiSq_result.sort_values(by = ['p-value'], ascending = True, ignore_index = True, inplace = True)\n",
    "chiSq_result\n"
   ]
  },
  {
   "cell_type": "markdown",
   "metadata": {},
   "source": [
    "### ANOVA F-Statistic for numerical features"
   ]
  },
  {
   "cell_type": "code",
   "execution_count": 2101,
   "metadata": {},
   "outputs": [
    {
     "ename": "ValueError",
     "evalue": "Input X contains NaN.",
     "output_type": "error",
     "traceback": [
      "\u001b[0;31m---------------------------------------------------------------------------\u001b[0m",
      "\u001b[0;31mValueError\u001b[0m                                Traceback (most recent call last)",
      "Input \u001b[0;32mIn [2101]\u001b[0m, in \u001b[0;36m<cell line: 2>\u001b[0;34m()\u001b[0m\n\u001b[1;32m      1\u001b[0m \u001b[38;5;66;03m# Calculate F Statistic and corresponding p values\u001b[39;00m\n\u001b[0;32m----> 2\u001b[0m F_statistic, p_values \u001b[38;5;241m=\u001b[39m \u001b[43mf_classif\u001b[49m\u001b[43m(\u001b[49m\u001b[43mX_train_num\u001b[49m\u001b[43m,\u001b[49m\u001b[43m \u001b[49m\u001b[43my_train\u001b[49m\u001b[43m)\u001b[49m\n\u001b[1;32m      4\u001b[0m \u001b[38;5;66;03m#convert to a DF\u001b[39;00m\n\u001b[1;32m      5\u001b[0m ANOVA_F_table \u001b[38;5;241m=\u001b[39m pd\u001b[38;5;241m.\u001b[39mDataFrame(data \u001b[38;5;241m=\u001b[39m {\u001b[38;5;124m'\u001b[39m\u001b[38;5;124mNumerical_Feature\u001b[39m\u001b[38;5;124m'\u001b[39m: X_train_num\u001b[38;5;241m.\u001b[39mcolumns\u001b[38;5;241m.\u001b[39mvalues, \u001b[38;5;124m'\u001b[39m\u001b[38;5;124mF-Score\u001b[39m\u001b[38;5;124m'\u001b[39m: F_statistic, \u001b[38;5;124m'\u001b[39m\u001b[38;5;124mp values\u001b[39m\u001b[38;5;124m'\u001b[39m: p_values\u001b[38;5;241m.\u001b[39mround(decimals\u001b[38;5;241m=\u001b[39m\u001b[38;5;241m10\u001b[39m)})\n",
      "File \u001b[0;32m~/anaconda3/lib/python3.9/site-packages/sklearn/feature_selection/_univariate_selection.py:146\u001b[0m, in \u001b[0;36mf_classif\u001b[0;34m(X, y)\u001b[0m\n\u001b[1;32m    120\u001b[0m \u001b[38;5;28;01mdef\u001b[39;00m \u001b[38;5;21mf_classif\u001b[39m(X, y):\n\u001b[1;32m    121\u001b[0m     \u001b[38;5;124;03m\"\"\"Compute the ANOVA F-value for the provided sample.\u001b[39;00m\n\u001b[1;32m    122\u001b[0m \n\u001b[1;32m    123\u001b[0m \u001b[38;5;124;03m    Read more in the :ref:`User Guide <univariate_feature_selection>`.\u001b[39;00m\n\u001b[0;32m   (...)\u001b[0m\n\u001b[1;32m    144\u001b[0m \u001b[38;5;124;03m    f_regression : F-value between label/feature for regression tasks.\u001b[39;00m\n\u001b[1;32m    145\u001b[0m \u001b[38;5;124;03m    \"\"\"\u001b[39;00m\n\u001b[0;32m--> 146\u001b[0m     X, y \u001b[38;5;241m=\u001b[39m \u001b[43mcheck_X_y\u001b[49m\u001b[43m(\u001b[49m\u001b[43mX\u001b[49m\u001b[43m,\u001b[49m\u001b[43m \u001b[49m\u001b[43my\u001b[49m\u001b[43m,\u001b[49m\u001b[43m \u001b[49m\u001b[43maccept_sparse\u001b[49m\u001b[38;5;241;43m=\u001b[39;49m\u001b[43m[\u001b[49m\u001b[38;5;124;43m\"\u001b[39;49m\u001b[38;5;124;43mcsr\u001b[39;49m\u001b[38;5;124;43m\"\u001b[39;49m\u001b[43m,\u001b[49m\u001b[43m \u001b[49m\u001b[38;5;124;43m\"\u001b[39;49m\u001b[38;5;124;43mcsc\u001b[39;49m\u001b[38;5;124;43m\"\u001b[39;49m\u001b[43m,\u001b[49m\u001b[43m \u001b[49m\u001b[38;5;124;43m\"\u001b[39;49m\u001b[38;5;124;43mcoo\u001b[39;49m\u001b[38;5;124;43m\"\u001b[39;49m\u001b[43m]\u001b[49m\u001b[43m)\u001b[49m\n\u001b[1;32m    147\u001b[0m     args \u001b[38;5;241m=\u001b[39m [X[safe_mask(X, y \u001b[38;5;241m==\u001b[39m k)] \u001b[38;5;28;01mfor\u001b[39;00m k \u001b[38;5;129;01min\u001b[39;00m np\u001b[38;5;241m.\u001b[39munique(y)]\n\u001b[1;32m    148\u001b[0m     \u001b[38;5;28;01mreturn\u001b[39;00m f_oneway(\u001b[38;5;241m*\u001b[39margs)\n",
      "File \u001b[0;32m~/anaconda3/lib/python3.9/site-packages/sklearn/utils/validation.py:1074\u001b[0m, in \u001b[0;36mcheck_X_y\u001b[0;34m(X, y, accept_sparse, accept_large_sparse, dtype, order, copy, force_all_finite, ensure_2d, allow_nd, multi_output, ensure_min_samples, ensure_min_features, y_numeric, estimator)\u001b[0m\n\u001b[1;32m   1069\u001b[0m         estimator_name \u001b[38;5;241m=\u001b[39m _check_estimator_name(estimator)\n\u001b[1;32m   1070\u001b[0m     \u001b[38;5;28;01mraise\u001b[39;00m \u001b[38;5;167;01mValueError\u001b[39;00m(\n\u001b[1;32m   1071\u001b[0m         \u001b[38;5;124mf\u001b[39m\u001b[38;5;124m\"\u001b[39m\u001b[38;5;132;01m{\u001b[39;00mestimator_name\u001b[38;5;132;01m}\u001b[39;00m\u001b[38;5;124m requires y to be passed, but the target y is None\u001b[39m\u001b[38;5;124m\"\u001b[39m\n\u001b[1;32m   1072\u001b[0m     )\n\u001b[0;32m-> 1074\u001b[0m X \u001b[38;5;241m=\u001b[39m \u001b[43mcheck_array\u001b[49m\u001b[43m(\u001b[49m\n\u001b[1;32m   1075\u001b[0m \u001b[43m    \u001b[49m\u001b[43mX\u001b[49m\u001b[43m,\u001b[49m\n\u001b[1;32m   1076\u001b[0m \u001b[43m    \u001b[49m\u001b[43maccept_sparse\u001b[49m\u001b[38;5;241;43m=\u001b[39;49m\u001b[43maccept_sparse\u001b[49m\u001b[43m,\u001b[49m\n\u001b[1;32m   1077\u001b[0m \u001b[43m    \u001b[49m\u001b[43maccept_large_sparse\u001b[49m\u001b[38;5;241;43m=\u001b[39;49m\u001b[43maccept_large_sparse\u001b[49m\u001b[43m,\u001b[49m\n\u001b[1;32m   1078\u001b[0m \u001b[43m    \u001b[49m\u001b[43mdtype\u001b[49m\u001b[38;5;241;43m=\u001b[39;49m\u001b[43mdtype\u001b[49m\u001b[43m,\u001b[49m\n\u001b[1;32m   1079\u001b[0m \u001b[43m    \u001b[49m\u001b[43morder\u001b[49m\u001b[38;5;241;43m=\u001b[39;49m\u001b[43morder\u001b[49m\u001b[43m,\u001b[49m\n\u001b[1;32m   1080\u001b[0m \u001b[43m    \u001b[49m\u001b[43mcopy\u001b[49m\u001b[38;5;241;43m=\u001b[39;49m\u001b[43mcopy\u001b[49m\u001b[43m,\u001b[49m\n\u001b[1;32m   1081\u001b[0m \u001b[43m    \u001b[49m\u001b[43mforce_all_finite\u001b[49m\u001b[38;5;241;43m=\u001b[39;49m\u001b[43mforce_all_finite\u001b[49m\u001b[43m,\u001b[49m\n\u001b[1;32m   1082\u001b[0m \u001b[43m    \u001b[49m\u001b[43mensure_2d\u001b[49m\u001b[38;5;241;43m=\u001b[39;49m\u001b[43mensure_2d\u001b[49m\u001b[43m,\u001b[49m\n\u001b[1;32m   1083\u001b[0m \u001b[43m    \u001b[49m\u001b[43mallow_nd\u001b[49m\u001b[38;5;241;43m=\u001b[39;49m\u001b[43mallow_nd\u001b[49m\u001b[43m,\u001b[49m\n\u001b[1;32m   1084\u001b[0m \u001b[43m    \u001b[49m\u001b[43mensure_min_samples\u001b[49m\u001b[38;5;241;43m=\u001b[39;49m\u001b[43mensure_min_samples\u001b[49m\u001b[43m,\u001b[49m\n\u001b[1;32m   1085\u001b[0m \u001b[43m    \u001b[49m\u001b[43mensure_min_features\u001b[49m\u001b[38;5;241;43m=\u001b[39;49m\u001b[43mensure_min_features\u001b[49m\u001b[43m,\u001b[49m\n\u001b[1;32m   1086\u001b[0m \u001b[43m    \u001b[49m\u001b[43mestimator\u001b[49m\u001b[38;5;241;43m=\u001b[39;49m\u001b[43mestimator\u001b[49m\u001b[43m,\u001b[49m\n\u001b[1;32m   1087\u001b[0m \u001b[43m    \u001b[49m\u001b[43minput_name\u001b[49m\u001b[38;5;241;43m=\u001b[39;49m\u001b[38;5;124;43m\"\u001b[39;49m\u001b[38;5;124;43mX\u001b[39;49m\u001b[38;5;124;43m\"\u001b[39;49m\u001b[43m,\u001b[49m\n\u001b[1;32m   1088\u001b[0m \u001b[43m\u001b[49m\u001b[43m)\u001b[49m\n\u001b[1;32m   1090\u001b[0m y \u001b[38;5;241m=\u001b[39m _check_y(y, multi_output\u001b[38;5;241m=\u001b[39mmulti_output, y_numeric\u001b[38;5;241m=\u001b[39my_numeric, estimator\u001b[38;5;241m=\u001b[39mestimator)\n\u001b[1;32m   1092\u001b[0m check_consistent_length(X, y)\n",
      "File \u001b[0;32m~/anaconda3/lib/python3.9/site-packages/sklearn/utils/validation.py:899\u001b[0m, in \u001b[0;36mcheck_array\u001b[0;34m(array, accept_sparse, accept_large_sparse, dtype, order, copy, force_all_finite, ensure_2d, allow_nd, ensure_min_samples, ensure_min_features, estimator, input_name)\u001b[0m\n\u001b[1;32m    893\u001b[0m         \u001b[38;5;28;01mraise\u001b[39;00m \u001b[38;5;167;01mValueError\u001b[39;00m(\n\u001b[1;32m    894\u001b[0m             \u001b[38;5;124m\"\u001b[39m\u001b[38;5;124mFound array with dim \u001b[39m\u001b[38;5;132;01m%d\u001b[39;00m\u001b[38;5;124m. \u001b[39m\u001b[38;5;132;01m%s\u001b[39;00m\u001b[38;5;124m expected <= 2.\u001b[39m\u001b[38;5;124m\"\u001b[39m\n\u001b[1;32m    895\u001b[0m             \u001b[38;5;241m%\u001b[39m (array\u001b[38;5;241m.\u001b[39mndim, estimator_name)\n\u001b[1;32m    896\u001b[0m         )\n\u001b[1;32m    898\u001b[0m     \u001b[38;5;28;01mif\u001b[39;00m force_all_finite:\n\u001b[0;32m--> 899\u001b[0m         \u001b[43m_assert_all_finite\u001b[49m\u001b[43m(\u001b[49m\n\u001b[1;32m    900\u001b[0m \u001b[43m            \u001b[49m\u001b[43marray\u001b[49m\u001b[43m,\u001b[49m\n\u001b[1;32m    901\u001b[0m \u001b[43m            \u001b[49m\u001b[43minput_name\u001b[49m\u001b[38;5;241;43m=\u001b[39;49m\u001b[43minput_name\u001b[49m\u001b[43m,\u001b[49m\n\u001b[1;32m    902\u001b[0m \u001b[43m            \u001b[49m\u001b[43mestimator_name\u001b[49m\u001b[38;5;241;43m=\u001b[39;49m\u001b[43mestimator_name\u001b[49m\u001b[43m,\u001b[49m\n\u001b[1;32m    903\u001b[0m \u001b[43m            \u001b[49m\u001b[43mallow_nan\u001b[49m\u001b[38;5;241;43m=\u001b[39;49m\u001b[43mforce_all_finite\u001b[49m\u001b[43m \u001b[49m\u001b[38;5;241;43m==\u001b[39;49m\u001b[43m \u001b[49m\u001b[38;5;124;43m\"\u001b[39;49m\u001b[38;5;124;43mallow-nan\u001b[39;49m\u001b[38;5;124;43m\"\u001b[39;49m\u001b[43m,\u001b[49m\n\u001b[1;32m    904\u001b[0m \u001b[43m        \u001b[49m\u001b[43m)\u001b[49m\n\u001b[1;32m    906\u001b[0m \u001b[38;5;28;01mif\u001b[39;00m ensure_min_samples \u001b[38;5;241m>\u001b[39m \u001b[38;5;241m0\u001b[39m:\n\u001b[1;32m    907\u001b[0m     n_samples \u001b[38;5;241m=\u001b[39m _num_samples(array)\n",
      "File \u001b[0;32m~/anaconda3/lib/python3.9/site-packages/sklearn/utils/validation.py:146\u001b[0m, in \u001b[0;36m_assert_all_finite\u001b[0;34m(X, allow_nan, msg_dtype, estimator_name, input_name)\u001b[0m\n\u001b[1;32m    124\u001b[0m         \u001b[38;5;28;01mif\u001b[39;00m (\n\u001b[1;32m    125\u001b[0m             \u001b[38;5;129;01mnot\u001b[39;00m allow_nan\n\u001b[1;32m    126\u001b[0m             \u001b[38;5;129;01mand\u001b[39;00m estimator_name\n\u001b[0;32m   (...)\u001b[0m\n\u001b[1;32m    130\u001b[0m             \u001b[38;5;66;03m# Improve the error message on how to handle missing values in\u001b[39;00m\n\u001b[1;32m    131\u001b[0m             \u001b[38;5;66;03m# scikit-learn.\u001b[39;00m\n\u001b[1;32m    132\u001b[0m             msg_err \u001b[38;5;241m+\u001b[39m\u001b[38;5;241m=\u001b[39m (\n\u001b[1;32m    133\u001b[0m                 \u001b[38;5;124mf\u001b[39m\u001b[38;5;124m\"\u001b[39m\u001b[38;5;130;01m\\n\u001b[39;00m\u001b[38;5;132;01m{\u001b[39;00mestimator_name\u001b[38;5;132;01m}\u001b[39;00m\u001b[38;5;124m does not accept missing values\u001b[39m\u001b[38;5;124m\"\u001b[39m\n\u001b[1;32m    134\u001b[0m                 \u001b[38;5;124m\"\u001b[39m\u001b[38;5;124m encoded as NaN natively. For supervised learning, you might want\u001b[39m\u001b[38;5;124m\"\u001b[39m\n\u001b[0;32m   (...)\u001b[0m\n\u001b[1;32m    144\u001b[0m                 \u001b[38;5;124m\"\u001b[39m\u001b[38;5;124m#estimators-that-handle-nan-values\u001b[39m\u001b[38;5;124m\"\u001b[39m\n\u001b[1;32m    145\u001b[0m             )\n\u001b[0;32m--> 146\u001b[0m         \u001b[38;5;28;01mraise\u001b[39;00m \u001b[38;5;167;01mValueError\u001b[39;00m(msg_err)\n\u001b[1;32m    148\u001b[0m \u001b[38;5;66;03m# for object dtype data, we only check for NaNs (GH-13254)\u001b[39;00m\n\u001b[1;32m    149\u001b[0m \u001b[38;5;28;01melif\u001b[39;00m X\u001b[38;5;241m.\u001b[39mdtype \u001b[38;5;241m==\u001b[39m np\u001b[38;5;241m.\u001b[39mdtype(\u001b[38;5;124m\"\u001b[39m\u001b[38;5;124mobject\u001b[39m\u001b[38;5;124m\"\u001b[39m) \u001b[38;5;129;01mand\u001b[39;00m \u001b[38;5;129;01mnot\u001b[39;00m allow_nan:\n",
      "\u001b[0;31mValueError\u001b[0m: Input X contains NaN."
     ]
    }
   ],
   "source": [
    "# Calculate F Statistic and corresponding p values\n",
    "F_statistic, p_values = f_classif(X_train_num, y_train)\n",
    "\n",
    "#convert to a DF\n",
    "ANOVA_F_table = pd.DataFrame(data = {'Numerical_Feature': X_train_num.columns.values, 'F-Score': F_statistic, 'p values': p_values.round(decimals=10)})\n",
    "ANOVA_F_table.sort_values(by = ['F-Score'], ascending = False, ignore_index = True, inplace = True)\n",
    "ANOVA_F_table"
   ]
  },
  {
   "cell_type": "raw",
   "metadata": {},
   "source": [
    "# Multicle"
   ]
  },
  {
   "cell_type": "code",
   "execution_count": null,
   "metadata": {},
   "outputs": [],
   "source": [
    "plt.figure(figsize=(10,5))\n",
    "\n",
    "c = X_train_num.corr()\n",
    "sns.heatmap(c, cmap='BrBG', annot=True)"
   ]
  },
  {
   "cell_type": "code",
   "execution_count": null,
   "metadata": {},
   "outputs": [],
   "source": [
    "# function to create dummy variables\n",
    "def dummy_creation(df, columns_list):\n",
    "    df_dummies = []\n",
    "    for col in columns_list:\n",
    "        df_dummies.append(pd.get_dummies(df[col], prefix = col, prefix_sep = ':'))\n",
    "    df_dummies = pd.concat(df_dummies, axis = 1)\n",
    "    df = pd.concat([df, df_dummies], axis = 1)\n",
    "    return df\n",
    "\n",
    "# apply to categorical variables\n",
    "X_train = dummy_creation(X_train, ['Occupation', 'Payment_of_Min_Amount'])"
   ]
  },
  {
   "cell_type": "code",
   "execution_count": null,
   "metadata": {},
   "outputs": [],
   "source": [
    "# apply to our final four categorical variables\n",
    "X_test = dummy_creation(X_test, ['Occupation', 'Payment_of_Min_Amount'])\n",
    "X_test= X_test.reindex(labels=X_train.columns, axis=1, fill_value=0)"
   ]
  },
  {
   "cell_type": "code",
   "execution_count": null,
   "metadata": {},
   "outputs": [],
   "source": [
    "# Cleaning dataset for WoE and IV by type conversion and creating Dummy variables\n",
    "#sc_dataset['Payment_of_Min_Amount'] = sc_dataset[['Payment_of_Min_Amount']].apply(pd.to_numeric)\n",
    "#df_dummies = pd.get_dummies(sc_dataset, prefix='Occupation', columns=['Occupation'], drop_first=False)\n",
    "\n",
    "#x_train = pd.concat([sc_dataset, df_dummies], axis=1)\n",
    "#X_train.head(30)\n",
    "#X_test = X_test.reindex(labels=X_train.columns, axis=1, fill_value=0)"
   ]
  },
  {
   "cell_type": "markdown",
   "metadata": {},
   "source": [
    "### WoE Binning and/Feature Engineering"
   ]
  },
  {
   "cell_type": "code",
   "execution_count": null,
   "metadata": {},
   "outputs": [],
   "source": [
    "# Create copies of the 4 training sets to be prepocessed using WoE\n",
    "X_train_prepr = X_train.copy()\n",
    "y_train_prepr = y_train.copy()\n",
    "X_test_prepr = X_test.copy()\n",
    "y_test_prepr = y_test.copy()"
   ]
  },
  {
   "cell_type": "markdown",
   "metadata": {},
   "source": [
    "Analyze WoEs and IVs of discrete features"
   ]
  },
  {
   "cell_type": "code",
   "execution_count": null,
   "metadata": {},
   "outputs": [],
   "source": [
    "# The function takes 3 arguments: a dataframe (X_train_prepr), a string (column name), and a dataframe (y_train_prepr).\n",
    "# The function returns a dataframe as a result.\n",
    "\n",
    "def woe_discrete(df, cat_variabe_name, y_df):\n",
    "    df = pd.concat([df[cat_variabe_name], y_df], axis = 1)\n",
    "    df = pd.concat([df.groupby(df.columns.values[0], as_index = False)[df.columns.values[1]].count(),\n",
    "                    df.groupby(df.columns.values[0], as_index = False)[df.columns.values[1]].mean()], axis = 1)\n",
    "    df = df.iloc[:, [0, 1, 3]]\n",
    "    df.columns = [df.columns.values[0], 'n_obs', 'prop_good']\n",
    "    df['prop_n_obs'] = df['n_obs'] / df['n_obs'].sum()\n",
    "    df['n_good'] = df['prop_good'] * df['n_obs']\n",
    "    df['n_bad'] = (1 - df['prop_good']) * df['n_obs']\n",
    "    df['prop_n_good'] = df['n_good'] / df['n_good'].sum()\n",
    "    df['prop_n_bad'] = df['n_bad'] / df['n_bad'].sum()\n",
    "    df['WoE'] = np.log(df['prop_n_good'] / df['prop_n_bad'])\n",
    "    df = df.sort_values(['WoE'])\n",
    "    df = df.reset_index(drop = True)\n",
    "    df['diff_prop_good'] = df['prop_good'].diff().abs()\n",
    "    df['diff_WoE'] = df['WoE'].diff().abs()\n",
    "    df['IV'] = (df['prop_n_good'] - df['prop_n_bad']) * df['WoE']\n",
    "    df['IV'] = df['IV'].sum()\n",
    "    return df"
   ]
  },
  {
   "cell_type": "code",
   "execution_count": null,
   "metadata": {},
   "outputs": [],
   "source": [
    "# We set the default style of the graphs to the seaborn style. \n",
    "sns.set()\n",
    "# Below we define a function for plotting WoE across categories that takes 2 arguments: a dataframe and a number.\n",
    "def plot_by_woe(df_WoE, rotation_of_x_axis_labels = 0):\n",
    "    x = np.array(df_WoE.iloc[:, 0].apply(str))\n",
    "    y = df_WoE['WoE']\n",
    "    plt.figure(figsize=(18, 6))\n",
    "    plt.plot(x, y, marker = 'o', linestyle = '--', color = 'k')\n",
    "    plt.xlabel(df_WoE.columns[0])\n",
    "    plt.ylabel('Weight of Evidence')\n",
    "    plt.title(str('Weight of Evidence by ' + df_WoE.columns[0]))\n",
    "    plt.xticks(rotation = rotation_of_x_axis_labels)"
   ]
  },
  {
   "cell_type": "code",
   "execution_count": null,
   "metadata": {},
   "outputs": [],
   "source": [
    "df_occupation = woe_discrete(X_train_prepr,'Occupation', y_train_prepr)\n",
    "df_occupation"
   ]
  },
  {
   "cell_type": "code",
   "execution_count": null,
   "metadata": {},
   "outputs": [],
   "source": [
    "plot_by_woe(df_occupation)"
   ]
  },
  {
   "cell_type": "markdown",
   "metadata": {},
   "source": [
    "There's a continues increase in WoE across the different grades. Therefore, we do not need to combine any features together and should leave all these 7 grades as they are"
   ]
  },
  {
   "cell_type": "code",
   "execution_count": null,
   "metadata": {},
   "outputs": [],
   "source": [
    "#\n",
    "df_temp = woe_discrete(X_train_prepr,'Payment_of_Min_Amount', y_train_prepr)\n",
    "df_temp"
   ]
  },
  {
   "cell_type": "code",
   "execution_count": null,
   "metadata": {
    "scrolled": true
   },
   "outputs": [],
   "source": [
    "plot_by_woe(df_Payment_of_Min_Amount)"
   ]
  },
  {
   "cell_type": "markdown",
   "metadata": {},
   "source": [
    "Analyze WoEs and IVs of numeric fetures"
   ]
  },
  {
   "cell_type": "code",
   "execution_count": 2102,
   "metadata": {},
   "outputs": [],
   "source": [
    "# We define a function to calculate WoE of continuous variables. This is same as the function we defined earlier for discrete variables.\n",
    "# The only difference are the 2 commented lines of code in the function that results in the df being sorted by continuous variable values\n",
    "def woe_ordered_continuous(df, continuous_variabe_name, y_df):\n",
    "    df = pd.concat([df[continuous_variabe_name], y_df], axis = 1)\n",
    "    df = pd.concat([df.groupby(df.columns.values[0], as_index = False)[df.columns.values[1]].count(),\n",
    "                    df.groupby(df.columns.values[0], as_index = False)[df.columns.values[1]].mean()], axis = 1)\n",
    "    df = df.iloc[:, [0, 1, 3]]\n",
    "    df.columns = [df.columns.values[0], 'n_obs', 'prop_good']\n",
    "    df['prop_n_obs'] = df['n_obs'] / df['n_obs'].sum()\n",
    "    df['n_good'] = df['prop_good'] * df['n_obs']\n",
    "    df['n_bad'] = (1 - df['prop_good']) * df['n_obs']\n",
    "    df['prop_n_good'] = df['n_good'] / df['n_good'].sum()\n",
    "    df['prop_n_bad'] = df['n_bad'] / df['n_bad'].sum()\n",
    "    df['WoE'] = np.log((df['prop_n_good'] + 1e-6) / (df['prop_n_bad'] + 1e-6))\n",
    "    #df = df.sort_values(['WoE'])\n",
    "    #df = df.reset_index(drop = True)\n",
    "    df['diff_prop_good'] = df['prop_good'].diff().abs()\n",
    "    df['diff_WoE'] = df['WoE'].diff().abs()\n",
    "    df['IV'] = (df['prop_n_good'] - df['prop_n_bad']) * df['WoE']\n",
    "    df['IV'] = df['IV'].sum()\n",
    "    return df"
   ]
  },
  {
   "cell_type": "code",
   "execution_count": null,
   "metadata": {},
   "outputs": [],
   "source": [
    "#plot_by_woe(df_Annual_Income)"
   ]
  },
  {
   "cell_type": "code",
   "execution_count": null,
   "metadata": {},
   "outputs": [],
   "source": []
  },
  {
   "cell_type": "code",
   "execution_count": null,
   "metadata": {},
   "outputs": [],
   "source": [
    "#fine-classing \n",
    "X_train_prepr['Annual_Income'] = pd.cut(X_train_prepr['Annual_Income'], 50)\n",
    "df_temp = woe_ordered_continuous(X_train_prepr, 'Annual_Income', y_train_prepr)\n",
    "df_temp"
   ]
  },
  {
   "cell_type": "code",
   "execution_count": null,
   "metadata": {},
   "outputs": [],
   "source": [
    "plot_by_woe(df_temp, 90)"
   ]
  },
  {
   "cell_type": "code",
   "execution_count": null,
   "metadata": {},
   "outputs": [],
   "source": [
    "#Delay from due dates\n",
    "#X_train_prepr_temp = X_train_prepr[X_train_prepr['Delay_from_due_date'] >= 4].copy()\n",
    "X_train_prepr['Delay_from_due_date'] = pd.cut(X_train_prepr['Delay_from_due_date'], 30)\n",
    "df_temp = woe_ordered_continuous(X_train_prepr, 'Delay_from_due_date', y_train_prepr)\n",
    "df_temp"
   ]
  }
 ],
 "metadata": {
  "colab": {
   "provenance": []
  },
  "kernelspec": {
   "display_name": "Python 3 (ipykernel)",
   "language": "python",
   "name": "python3"
  },
  "language_info": {
   "codemirror_mode": {
    "name": "ipython",
    "version": 3
   },
   "file_extension": ".py",
   "mimetype": "text/x-python",
   "name": "python",
   "nbconvert_exporter": "python",
   "pygments_lexer": "ipython3",
   "version": "3.9.13"
  }
 },
 "nbformat": 4,
 "nbformat_minor": 1
}
